{
  "nbformat": 4,
  "nbformat_minor": 0,
  "metadata": {
    "colab": {
      "name": "MasteringPandas.ipynb",
      "version": "0.3.2",
      "provenance": [],
      "toc_visible": true,
      "include_colab_link": true
    }
  },
  "cells": [
    {
      "cell_type": "markdown",
      "metadata": {
        "id": "view-in-github",
        "colab_type": "text"
      },
      "source": [
        "[View in Colaboratory](https://colab.research.google.com/github/alvarogutyerrez/alvarogutyerrez/blob/master/MasteringPandas.ipynb)"
      ]
    },
    {
      "metadata": {
        "id": "CzdHIxt5D8W7",
        "colab_type": "text"
      },
      "cell_type": "markdown",
      "source": [
        "# Business Intelligence para las Finanzas\n",
        "**Magister en Finanzas**\n",
        "\n",
        "**Profesor: David Díaz **\n",
        "\n",
        "**Ayudante: Álvaro Gutiérrez**\n",
        "\n",
        "---\n",
        "\n",
        "#Sesión #2:  Pandas"
      ]
    },
    {
      "metadata": {
        "id": "XjW1xD2wf16J",
        "colab_type": "text"
      },
      "cell_type": "markdown",
      "source": [
        "## ¿Qué es un DataFrame?\n",
        "\n",
        "Un DataFrame constituye una forma útil de trabajar con datos, la cual nos permite acceder a ellos de una forma más fácil y eficiente que la de numpy. Por ejemplo, se usan típicamente para importar o exportar datos desde archivos planos o bases de datos hacia python. No solo contamos con variables numéricas, si no que también poseemos variables de texto, fechas u objetos exóticos.\n",
        "\n",
        "\n"
      ]
    },
    {
      "metadata": {
        "id": "d1IW6hqJi_7B",
        "colab_type": "text"
      },
      "cell_type": "markdown",
      "source": [
        "### ¿De quién son los DataFrame? (pandas as pd)\n",
        "\n",
        "Lo primero que debemos tener en la cabeza a la hora de trabajar con este tipo de objetos es que pertenecen a la familia de los pandas (sí, pandas).  Por lo mismo debemos importar dicha librería antes de seguir."
      ]
    },
    {
      "metadata": {
        "id": "SedniSTIjZVR",
        "colab_type": "code",
        "colab": {}
      },
      "cell_type": "code",
      "source": [
        "import pandas as pd"
      ],
      "execution_count": 0,
      "outputs": []
    },
    {
      "metadata": {
        "id": "bSlA6q_Fjl1M",
        "colab_type": "text"
      },
      "cell_type": "markdown",
      "source": [
        "### Elementos Basicos de un DataFrame.\n",
        "\n",
        "Los elementos principales del dataframe son 3.\n",
        "\n",
        "\n",
        "1.   **Columnas**: El lugar donde se almacenarán los nombres de nuestras variables en la base de datos\n",
        "2.   **Index**: Es el identificador que le asignará python a cada una de las observaciones de nuestra fila\n",
        "3.   **Los Datos**: Tienen que ser de tipo Numpy Array. Si se importa una tabla, por ej. csv, serán importados como numpy\n"
      ]
    },
    {
      "metadata": {
        "id": "plDm86kekSpw",
        "colab_type": "code",
        "colab": {
          "base_uri": "https://localhost:8080/",
          "height": 195
        },
        "outputId": "7a442ab0-4652-46a0-bfb3-9189a81c25c7"
      },
      "cell_type": "code",
      "source": [
        "import numpy as np \n",
        "#Data Simulada\n",
        "data_df =np.arange(10).reshape((5,2))\n",
        "\n",
        "#Columnas\n",
        "col_df =  ['Income', 'Gender']\n",
        "\n",
        "#Indice\n",
        "index_df = ['Ind1','Ind2','Ind3','Ind4','Ind5']\n",
        "\n",
        "\n",
        "my_first_df = pd.DataFrame(data= data_df , columns= col_df , index = index_df )\n",
        "my_first_df"
      ],
      "execution_count": 4,
      "outputs": [
        {
          "output_type": "execute_result",
          "data": {
            "text/html": [
              "<div>\n",
              "<style scoped>\n",
              "    .dataframe tbody tr th:only-of-type {\n",
              "        vertical-align: middle;\n",
              "    }\n",
              "\n",
              "    .dataframe tbody tr th {\n",
              "        vertical-align: top;\n",
              "    }\n",
              "\n",
              "    .dataframe thead th {\n",
              "        text-align: right;\n",
              "    }\n",
              "</style>\n",
              "<table border=\"1\" class=\"dataframe\">\n",
              "  <thead>\n",
              "    <tr style=\"text-align: right;\">\n",
              "      <th></th>\n",
              "      <th>Income</th>\n",
              "      <th>Gender</th>\n",
              "    </tr>\n",
              "  </thead>\n",
              "  <tbody>\n",
              "    <tr>\n",
              "      <th>Ind1</th>\n",
              "      <td>0</td>\n",
              "      <td>1</td>\n",
              "    </tr>\n",
              "    <tr>\n",
              "      <th>Ind2</th>\n",
              "      <td>2</td>\n",
              "      <td>3</td>\n",
              "    </tr>\n",
              "    <tr>\n",
              "      <th>Ind3</th>\n",
              "      <td>4</td>\n",
              "      <td>5</td>\n",
              "    </tr>\n",
              "    <tr>\n",
              "      <th>Ind4</th>\n",
              "      <td>6</td>\n",
              "      <td>7</td>\n",
              "    </tr>\n",
              "    <tr>\n",
              "      <th>Ind5</th>\n",
              "      <td>8</td>\n",
              "      <td>9</td>\n",
              "    </tr>\n",
              "  </tbody>\n",
              "</table>\n",
              "</div>"
            ],
            "text/plain": [
              "      Income  Gender\n",
              "Ind1       0       1\n",
              "Ind2       2       3\n",
              "Ind3       4       5\n",
              "Ind4       6       7\n",
              "Ind5       8       9"
            ]
          },
          "metadata": {
            "tags": []
          },
          "execution_count": 4
        }
      ]
    },
    {
      "metadata": {
        "id": "65fSUbFDm1A-",
        "colab_type": "text"
      },
      "cell_type": "markdown",
      "source": [
        "Ahora que hemos visto la estructura básica de los DataFrame, podemos comenzar a trabajar con una base de datos de verdad."
      ]
    },
    {
      "metadata": {
        "id": "kjqbhToBD0Bo",
        "colab_type": "text"
      },
      "cell_type": "markdown",
      "source": [
        "## Importar Data desde Dropbox\n",
        "Lo primero que necesitaremos será importar la _data_ a nuestro Collaborative. Para importar un archivo desde dropbox, ocuparemos la sintaxis de Linux !wget seguido del link en donde se encuentra la data.\n"
      ]
    },
    {
      "metadata": {
        "id": "P19B73mCEG5y",
        "colab_type": "code",
        "colab": {}
      },
      "cell_type": "code",
      "source": [
        "!wget https://www.dropbox.com/s/9j9s51m9nga7i4j/Credit.csv"
      ],
      "execution_count": 0,
      "outputs": []
    },
    {
      "metadata": {
        "id": "RtSdl4TEUtRt",
        "colab_type": "text"
      },
      "cell_type": "markdown",
      "source": [
        "Ahora hemos importado un cv que podemos convertir en un DataFrame"
      ]
    },
    {
      "metadata": {
        "id": "5wMHjAmZERFV",
        "colab_type": "code",
        "colab": {}
      },
      "cell_type": "code",
      "source": [
        "data=pd.read_csv(\"Credit.csv\",sep=\",\")"
      ],
      "execution_count": 0,
      "outputs": []
    },
    {
      "metadata": {
        "id": "K2bIQU6TIt9U",
        "colab_type": "text"
      },
      "cell_type": "markdown",
      "source": [
        "Ahora podemos inspeccionar las columnas de nuestro *objeto*"
      ]
    },
    {
      "metadata": {
        "id": "HCvemkzjIujy",
        "colab_type": "code",
        "colab": {
          "base_uri": "https://localhost:8080/",
          "height": 215
        },
        "outputId": "5f489b90-2c99-4b2c-d6f7-ed134491fc02"
      },
      "cell_type": "code",
      "source": [
        "data.head(5)"
      ],
      "execution_count": 11,
      "outputs": [
        {
          "output_type": "execute_result",
          "data": {
            "text/html": [
              "<div>\n",
              "<style scoped>\n",
              "    .dataframe tbody tr th:only-of-type {\n",
              "        vertical-align: middle;\n",
              "    }\n",
              "\n",
              "    .dataframe tbody tr th {\n",
              "        vertical-align: top;\n",
              "    }\n",
              "\n",
              "    .dataframe thead th {\n",
              "        text-align: right;\n",
              "    }\n",
              "</style>\n",
              "<table border=\"1\" class=\"dataframe\">\n",
              "  <thead>\n",
              "    <tr style=\"text-align: right;\">\n",
              "      <th></th>\n",
              "      <th>ID</th>\n",
              "      <th>DOB</th>\n",
              "      <th>Gender</th>\n",
              "      <th>Marital_Status</th>\n",
              "      <th>Nbr_Children</th>\n",
              "      <th>Occupation</th>\n",
              "      <th>Home</th>\n",
              "      <th>Mo_Expenses</th>\n",
              "      <th>Mo_Income</th>\n",
              "      <th>Checking_Account</th>\n",
              "      <th>Savings_Account</th>\n",
              "      <th>Credit_limit</th>\n",
              "      <th>Account_Status</th>\n",
              "    </tr>\n",
              "  </thead>\n",
              "  <tbody>\n",
              "    <tr>\n",
              "      <th>0</th>\n",
              "      <td>1</td>\n",
              "      <td>19/07/1926</td>\n",
              "      <td>Female</td>\n",
              "      <td>Married</td>\n",
              "      <td>2.0</td>\n",
              "      <td>Administrative</td>\n",
              "      <td>Own</td>\n",
              "      <td>562.0</td>\n",
              "      <td>1606.0</td>\n",
              "      <td>No</td>\n",
              "      <td>Yes</td>\n",
              "      <td>high</td>\n",
              "      <td>Balanced</td>\n",
              "    </tr>\n",
              "    <tr>\n",
              "      <th>1</th>\n",
              "      <td>2</td>\n",
              "      <td>13/12/1936</td>\n",
              "      <td>Female</td>\n",
              "      <td>Married</td>\n",
              "      <td>1.0</td>\n",
              "      <td>NaN</td>\n",
              "      <td>Own</td>\n",
              "      <td>550.0</td>\n",
              "      <td>1573.0</td>\n",
              "      <td>No</td>\n",
              "      <td>Yes</td>\n",
              "      <td>high</td>\n",
              "      <td>60 days late</td>\n",
              "    </tr>\n",
              "    <tr>\n",
              "      <th>2</th>\n",
              "      <td>3</td>\n",
              "      <td>25/01/1928</td>\n",
              "      <td>Male</td>\n",
              "      <td>Married</td>\n",
              "      <td>0.0</td>\n",
              "      <td>NaN</td>\n",
              "      <td>Own</td>\n",
              "      <td>633.0</td>\n",
              "      <td>1583.0</td>\n",
              "      <td>No</td>\n",
              "      <td>Yes</td>\n",
              "      <td>high</td>\n",
              "      <td>60 days late</td>\n",
              "    </tr>\n",
              "    <tr>\n",
              "      <th>3</th>\n",
              "      <td>4</td>\n",
              "      <td>29/11/1931</td>\n",
              "      <td>Male</td>\n",
              "      <td>Married</td>\n",
              "      <td>0.0</td>\n",
              "      <td>NaN</td>\n",
              "      <td>Own</td>\n",
              "      <td>487.0</td>\n",
              "      <td>1624.0</td>\n",
              "      <td>No</td>\n",
              "      <td>Yes</td>\n",
              "      <td>high</td>\n",
              "      <td>30 days late</td>\n",
              "    </tr>\n",
              "    <tr>\n",
              "      <th>4</th>\n",
              "      <td>5</td>\n",
              "      <td>19/12/1913</td>\n",
              "      <td>Male</td>\n",
              "      <td>Widowed</td>\n",
              "      <td>0.0</td>\n",
              "      <td>NaN</td>\n",
              "      <td>Own</td>\n",
              "      <td>696.0</td>\n",
              "      <td>1990.0</td>\n",
              "      <td>No</td>\n",
              "      <td>Yes</td>\n",
              "      <td>high</td>\n",
              "      <td>60 days late</td>\n",
              "    </tr>\n",
              "  </tbody>\n",
              "</table>\n",
              "</div>"
            ],
            "text/plain": [
              "   ID         DOB  Gender Marital_Status  Nbr_Children      Occupation Home  \\\n",
              "0   1  19/07/1926  Female        Married           2.0  Administrative  Own   \n",
              "1   2  13/12/1936  Female        Married           1.0             NaN  Own   \n",
              "2   3  25/01/1928    Male        Married           0.0             NaN  Own   \n",
              "3   4  29/11/1931    Male        Married           0.0             NaN  Own   \n",
              "4   5  19/12/1913    Male        Widowed           0.0             NaN  Own   \n",
              "\n",
              "   Mo_Expenses  Mo_Income Checking_Account Savings_Account Credit_limit  \\\n",
              "0        562.0     1606.0               No             Yes         high   \n",
              "1        550.0     1573.0               No             Yes         high   \n",
              "2        633.0     1583.0               No             Yes         high   \n",
              "3        487.0     1624.0               No             Yes         high   \n",
              "4        696.0     1990.0               No             Yes         high   \n",
              "\n",
              "  Account_Status  \n",
              "0       Balanced  \n",
              "1   60 days late  \n",
              "2   60 days late  \n",
              "3   30 days late  \n",
              "4   60 days late  "
            ]
          },
          "metadata": {
            "tags": []
          },
          "execution_count": 11
        }
      ]
    },
    {
      "metadata": {
        "id": "WwomWIJtgbjx",
        "colab_type": "code",
        "colab": {
          "base_uri": "https://localhost:8080/",
          "height": 105
        },
        "outputId": "31db34e7-f59d-4974-9f30-bf0e9458f319"
      },
      "cell_type": "code",
      "source": [
        "columnas = data.columns\n",
        "columnas\n",
        "\n"
      ],
      "execution_count": 14,
      "outputs": [
        {
          "output_type": "execute_result",
          "data": {
            "text/plain": [
              "Index([u'ID', u'DOB', u'Gender', u'Marital_Status', u'Nbr_Children',\n",
              "       u'Occupation', u'Home', u'Mo_Expenses', u'Mo_Income',\n",
              "       u'Checking_Account', u'Savings_Account', u'Credit_limit',\n",
              "       u'Account_Status'],\n",
              "      dtype='object')"
            ]
          },
          "metadata": {
            "tags": []
          },
          "execution_count": 14
        }
      ]
    },
    {
      "metadata": {
        "id": "Dsatc393uwdv",
        "colab_type": "code",
        "colab": {
          "base_uri": "https://localhost:8080/",
          "height": 246
        },
        "outputId": "10b3d7e6-3f21-4a0e-ee66-bcda98dd4e42"
      },
      "cell_type": "code",
      "source": [
        "listacolumnas=data.columns.tolist()\n",
        "listacolumnas"
      ],
      "execution_count": 15,
      "outputs": [
        {
          "output_type": "execute_result",
          "data": {
            "text/plain": [
              "['ID',\n",
              " 'DOB',\n",
              " 'Gender',\n",
              " 'Marital_Status',\n",
              " 'Nbr_Children',\n",
              " 'Occupation',\n",
              " 'Home',\n",
              " 'Mo_Expenses',\n",
              " 'Mo_Income',\n",
              " 'Checking_Account',\n",
              " 'Savings_Account',\n",
              " 'Credit_limit',\n",
              " 'Account_Status']"
            ]
          },
          "metadata": {
            "tags": []
          },
          "execution_count": 15
        }
      ]
    },
    {
      "metadata": {
        "id": "R68pM1N0g4wv",
        "colab_type": "text"
      },
      "cell_type": "markdown",
      "source": [
        "\n",
        "#### Indice \n",
        "\n",
        "Podemos acceder al indice del DataFrame de la siguiente forma.\n",
        "\n"
      ]
    },
    {
      "metadata": {
        "id": "G95OrYBGhNRf",
        "colab_type": "code",
        "colab": {
          "base_uri": "https://localhost:8080/",
          "height": 34
        },
        "outputId": "223830f1-b9d9-4196-f4d5-660c1c4af7c8"
      },
      "cell_type": "code",
      "source": [
        "index = data.index\n",
        "index"
      ],
      "execution_count": 75,
      "outputs": [
        {
          "output_type": "execute_result",
          "data": {
            "text/plain": [
              "RangeIndex(start=0, stop=407, step=1)"
            ]
          },
          "metadata": {
            "tags": []
          },
          "execution_count": 75
        }
      ]
    },
    {
      "metadata": {
        "id": "riSG81KFnFF7",
        "colab_type": "text"
      },
      "cell_type": "markdown",
      "source": [
        "## LOC e ILOC \n",
        "\n",
        "### ILOC: Llamando a los datos por el la posición en la que están\n",
        "\n",
        "Esta opción nos permite acceder a posiciones específicas de los objetos escribiendo sus coordenadas. Por ejemplo\n",
        "\n",
        "\n"
      ]
    },
    {
      "metadata": {
        "id": "FFik3EOgnhAq",
        "colab_type": "code",
        "colab": {}
      },
      "cell_type": "code",
      "source": [
        "#Elemento coordenada 0,0\n",
        "print(data.iloc[0,0])\n",
        "#Elemento en la última fila y última columna\n",
        "print(data.iloc[-1,-1])\n",
        "\n",
        "#Segunda Columna \n",
        "print(data.iloc[:,1]).head(5)\n",
        "\n",
        "#Primera Fila\n",
        "print(data.iloc[0,:])"
      ],
      "execution_count": 0,
      "outputs": []
    },
    {
      "metadata": {
        "id": "LyFb3oQtoeMw",
        "colab_type": "text"
      },
      "cell_type": "markdown",
      "source": [
        "### LOC: Llamando a los datos por su nombre\n",
        "Esta opción nos permite acceder a los datos ocupando tanto el nombre de las columnas como el indice de las mismas.\n",
        "\n",
        "\n"
      ]
    },
    {
      "metadata": {
        "id": "kZA81__9oqA2",
        "colab_type": "code",
        "colab": {
          "base_uri": "https://localhost:8080/",
          "height": 156
        },
        "outputId": "e910d49a-2796-4f15-d0a4-e50dc8efc688"
      },
      "cell_type": "code",
      "source": [
        "#Toda la columna Mo_Income\n",
        "print(data.loc[:,'Mo_Income']).head(5)\n",
        "#Primera fila de la columnas Mo_Income\n",
        "#En este caso debe quedar claro que el indice justamente fue un numero, por lo que su \"nombre\" corresponde a un float64\n",
        "print(data.loc[1,'Mo_Income'])\n"
      ],
      "execution_count": 108,
      "outputs": [
        {
          "output_type": "stream",
          "text": [
            "0    1606.0\n",
            "1    1573.0\n",
            "2    1583.0\n",
            "3    1624.0\n",
            "4    1990.0\n",
            "Name: Mo_Income, dtype: float64\n",
            "1573.0\n"
          ],
          "name": "stdout"
        }
      ]
    },
    {
      "metadata": {
        "id": "CPyNcix0XkJH",
        "colab_type": "text"
      },
      "cell_type": "markdown",
      "source": [
        "## Estadística Descriptiva\n",
        "\n",
        "solamente ocupando **.descriptive()** podemos generar estadística descriptiva de todo el DataFrame. Pero este solamente generará estadísticas para las variables numéricas."
      ]
    },
    {
      "metadata": {
        "id": "ZjNK0u2zWd4w",
        "colab_type": "code",
        "colab": {
          "base_uri": "https://localhost:8080/",
          "height": 297
        },
        "outputId": "37737bdb-eabf-4de3-fed7-f16084ae712a"
      },
      "cell_type": "code",
      "source": [
        "stats=data.describe()\n",
        "stats"
      ],
      "execution_count": 39,
      "outputs": [
        {
          "output_type": "execute_result",
          "data": {
            "text/html": [
              "<div>\n",
              "<style scoped>\n",
              "    .dataframe tbody tr th:only-of-type {\n",
              "        vertical-align: middle;\n",
              "    }\n",
              "\n",
              "    .dataframe tbody tr th {\n",
              "        vertical-align: top;\n",
              "    }\n",
              "\n",
              "    .dataframe thead th {\n",
              "        text-align: right;\n",
              "    }\n",
              "</style>\n",
              "<table border=\"1\" class=\"dataframe\">\n",
              "  <thead>\n",
              "    <tr style=\"text-align: right;\">\n",
              "      <th></th>\n",
              "      <th>ID</th>\n",
              "      <th>Nbr_Children</th>\n",
              "      <th>Mo_Expenses</th>\n",
              "      <th>Mo_Income</th>\n",
              "    </tr>\n",
              "  </thead>\n",
              "  <tbody>\n",
              "    <tr>\n",
              "      <th>count</th>\n",
              "      <td>407.000000</td>\n",
              "      <td>364.000000</td>\n",
              "      <td>4.040000e+02</td>\n",
              "      <td>4.050000e+02</td>\n",
              "    </tr>\n",
              "    <tr>\n",
              "      <th>mean</th>\n",
              "      <td>204.000000</td>\n",
              "      <td>1.436813</td>\n",
              "      <td>7.606128e+05</td>\n",
              "      <td>4.679984e+05</td>\n",
              "    </tr>\n",
              "    <tr>\n",
              "      <th>std</th>\n",
              "      <td>117.635029</td>\n",
              "      <td>0.606545</td>\n",
              "      <td>1.527379e+07</td>\n",
              "      <td>9.371494e+06</td>\n",
              "    </tr>\n",
              "    <tr>\n",
              "      <th>min</th>\n",
              "      <td>1.000000</td>\n",
              "      <td>0.000000</td>\n",
              "      <td>2.530000e+02</td>\n",
              "      <td>1.002000e+03</td>\n",
              "    </tr>\n",
              "    <tr>\n",
              "      <th>25%</th>\n",
              "      <td>102.500000</td>\n",
              "      <td>1.000000</td>\n",
              "      <td>4.540000e+02</td>\n",
              "      <td>1.379000e+03</td>\n",
              "    </tr>\n",
              "    <tr>\n",
              "      <th>50%</th>\n",
              "      <td>204.000000</td>\n",
              "      <td>1.000000</td>\n",
              "      <td>5.690000e+02</td>\n",
              "      <td>1.863000e+03</td>\n",
              "    </tr>\n",
              "    <tr>\n",
              "      <th>75%</th>\n",
              "      <td>305.500000</td>\n",
              "      <td>2.000000</td>\n",
              "      <td>9.555000e+02</td>\n",
              "      <td>3.345000e+03</td>\n",
              "    </tr>\n",
              "    <tr>\n",
              "      <th>max</th>\n",
              "      <td>407.000000</td>\n",
              "      <td>3.000000</td>\n",
              "      <td>3.070000e+08</td>\n",
              "      <td>1.886000e+08</td>\n",
              "    </tr>\n",
              "  </tbody>\n",
              "</table>\n",
              "</div>"
            ],
            "text/plain": [
              "               ID  Nbr_Children   Mo_Expenses     Mo_Income\n",
              "count  407.000000    364.000000  4.040000e+02  4.050000e+02\n",
              "mean   204.000000      1.436813  7.606128e+05  4.679984e+05\n",
              "std    117.635029      0.606545  1.527379e+07  9.371494e+06\n",
              "min      1.000000      0.000000  2.530000e+02  1.002000e+03\n",
              "25%    102.500000      1.000000  4.540000e+02  1.379000e+03\n",
              "50%    204.000000      1.000000  5.690000e+02  1.863000e+03\n",
              "75%    305.500000      2.000000  9.555000e+02  3.345000e+03\n",
              "max    407.000000      3.000000  3.070000e+08  1.886000e+08"
            ]
          },
          "metadata": {
            "tags": []
          },
          "execution_count": 39
        }
      ]
    },
    {
      "metadata": {
        "id": "DVOGqJhWZLdD",
        "colab_type": "text"
      },
      "cell_type": "markdown",
      "source": [
        "Para una columna en particular, por ejemplo **Montly_Expenses** debemos llamarla con corchetes"
      ]
    },
    {
      "metadata": {
        "id": "5L1yX884Y4ZV",
        "colab_type": "code",
        "colab": {
          "base_uri": "https://localhost:8080/",
          "height": 170
        },
        "outputId": "144fd0c5-a3b3-4d47-8b6a-eb596df6b9fa"
      },
      "cell_type": "code",
      "source": [
        "stats_mo=data['Mo_Expenses'].describe()\n",
        "stats_mo"
      ],
      "execution_count": 43,
      "outputs": [
        {
          "output_type": "execute_result",
          "data": {
            "text/plain": [
              "count    4.040000e+02\n",
              "mean     7.606128e+05\n",
              "std      1.527379e+07\n",
              "min      2.530000e+02\n",
              "25%      4.540000e+02\n",
              "50%      5.690000e+02\n",
              "75%      9.555000e+02\n",
              "max      3.070000e+08\n",
              "Name: Mo_Expenses, dtype: float64"
            ]
          },
          "metadata": {
            "tags": []
          },
          "execution_count": 43
        }
      ]
    },
    {
      "metadata": {
        "id": "hEHiJtE-Zin7",
        "colab_type": "text"
      },
      "cell_type": "markdown",
      "source": [
        "También se puede recuperar estadística descriptiva de las variables categóricas, pero esta solamente despliega un análisis de frecuencia y duplicados."
      ]
    },
    {
      "metadata": {
        "id": "FSGu865SZo_a",
        "colab_type": "code",
        "colab": {
          "base_uri": "https://localhost:8080/",
          "height": 102
        },
        "outputId": "0a558eb5-ada6-4328-8be1-4d3f278084a3"
      },
      "cell_type": "code",
      "source": [
        "stats_gen=data['Gender'].describe()\n",
        "stats_gen"
      ],
      "execution_count": 44,
      "outputs": [
        {
          "output_type": "execute_result",
          "data": {
            "text/plain": [
              "count      407\n",
              "unique       2\n",
              "top       Male\n",
              "freq       289\n",
              "Name: Gender, dtype: object"
            ]
          },
          "metadata": {
            "tags": []
          },
          "execution_count": 44
        }
      ]
    },
    {
      "metadata": {
        "id": "fTEE7y-bvrYr",
        "colab_type": "code",
        "colab": {
          "base_uri": "https://localhost:8080/",
          "height": 365
        },
        "outputId": "bbaf644f-929b-4f58-bb2c-f48b533ef225"
      },
      "cell_type": "code",
      "source": [
        "data['Nbr_Children'].plot(kind='box')"
      ],
      "execution_count": 20,
      "outputs": [
        {
          "output_type": "execute_result",
          "data": {
            "text/plain": [
              "<matplotlib.axes._subplots.AxesSubplot at 0x7fa02a34f7d0>"
            ]
          },
          "metadata": {
            "tags": []
          },
          "execution_count": 20
        },
        {
          "output_type": "display_data",
          "data": {
            "image/png": "[encoded data removed]",
            "text/plain": [
              "<matplotlib.figure.Figure at 0x7fa027c7e390>"
            ]
          },
          "metadata": {
            "tags": []
          }
        }
      ]
    },
    {
      "metadata": {
        "id": "uvdEdwgSwFRA",
        "colab_type": "code",
        "colab": {
          "base_uri": "https://localhost:8080/",
          "height": 365
        },
        "outputId": "3a667fc8-78bd-4247-d968-1d097f385f48"
      },
      "cell_type": "code",
      "source": [
        "data.plot(kind='box',y='Nbr_Children',x='Gender')"
      ],
      "execution_count": 24,
      "outputs": [
        {
          "output_type": "execute_result",
          "data": {
            "text/plain": [
              "<matplotlib.axes._subplots.AxesSubplot at 0x7fa027a18690>"
            ]
          },
          "metadata": {
            "tags": []
          },
          "execution_count": 24
        },
        {
          "output_type": "display_data",
          "data": {
            "image/png": "[encoded data removed]",
            "text/plain": [
              "<matplotlib.figure.Figure at 0x7fa027a25d10>"
            ]
          },
          "metadata": {
            "tags": []
          }
        }
      ]
    },
    {
      "metadata": {
        "id": "meyHDbdmalcY",
        "colab_type": "text"
      },
      "cell_type": "markdown",
      "source": [
        "##Filtros\n",
        "\n",
        "### Basados en un Categoria\n",
        "Se puede seccionar una porción reducida del DataFrame, en base a alguna característica. Por ejemplo, podríamos generar un nuevo DataFrame que solo contenga a las mujeres\n"
      ]
    },
    {
      "metadata": {
        "id": "MDPWy0aTbCDx",
        "colab_type": "code",
        "colab": {
          "base_uri": "https://localhost:8080/",
          "height": 204
        },
        "outputId": "caf737e7-005c-450c-f9f8-46b6356c5188"
      },
      "cell_type": "code",
      "source": [
        "female=data[data['Gender']=='Female']\n",
        "female.head(5)"
      ],
      "execution_count": 50,
      "outputs": [
        {
          "output_type": "execute_result",
          "data": {
            "text/html": [
              "<div>\n",
              "<style scoped>\n",
              "    .dataframe tbody tr th:only-of-type {\n",
              "        vertical-align: middle;\n",
              "    }\n",
              "\n",
              "    .dataframe tbody tr th {\n",
              "        vertical-align: top;\n",
              "    }\n",
              "\n",
              "    .dataframe thead th {\n",
              "        text-align: right;\n",
              "    }\n",
              "</style>\n",
              "<table border=\"1\" class=\"dataframe\">\n",
              "  <thead>\n",
              "    <tr style=\"text-align: right;\">\n",
              "      <th></th>\n",
              "      <th>ID</th>\n",
              "      <th>DOB</th>\n",
              "      <th>Gender</th>\n",
              "      <th>Marital_Status</th>\n",
              "      <th>Nbr_Children</th>\n",
              "      <th>Occupation</th>\n",
              "      <th>Home</th>\n",
              "      <th>Mo_Expenses</th>\n",
              "      <th>Mo_Income</th>\n",
              "      <th>Checking_Account</th>\n",
              "      <th>Savings_Account</th>\n",
              "      <th>Credit_limit</th>\n",
              "      <th>Account_Status</th>\n",
              "    </tr>\n",
              "  </thead>\n",
              "  <tbody>\n",
              "    <tr>\n",
              "      <th>0</th>\n",
              "      <td>1</td>\n",
              "      <td>1926-07-19</td>\n",
              "      <td>Female</td>\n",
              "      <td>Married</td>\n",
              "      <td>2.0</td>\n",
              "      <td>Administrative</td>\n",
              "      <td>Own</td>\n",
              "      <td>562.0</td>\n",
              "      <td>1606.0</td>\n",
              "      <td>No</td>\n",
              "      <td>Yes</td>\n",
              "      <td>high</td>\n",
              "      <td>Balanced</td>\n",
              "    </tr>\n",
              "    <tr>\n",
              "      <th>1</th>\n",
              "      <td>2</td>\n",
              "      <td>1936-12-13</td>\n",
              "      <td>Female</td>\n",
              "      <td>Married</td>\n",
              "      <td>1.0</td>\n",
              "      <td>NaN</td>\n",
              "      <td>Own</td>\n",
              "      <td>550.0</td>\n",
              "      <td>1573.0</td>\n",
              "      <td>No</td>\n",
              "      <td>Yes</td>\n",
              "      <td>high</td>\n",
              "      <td>60 days late</td>\n",
              "    </tr>\n",
              "    <tr>\n",
              "      <th>5</th>\n",
              "      <td>6</td>\n",
              "      <td>1925-12-03</td>\n",
              "      <td>Female</td>\n",
              "      <td>Married</td>\n",
              "      <td>1.0</td>\n",
              "      <td>Administrative</td>\n",
              "      <td>Own</td>\n",
              "      <td>515.0</td>\n",
              "      <td>1908.0</td>\n",
              "      <td>No</td>\n",
              "      <td>Yes</td>\n",
              "      <td>high</td>\n",
              "      <td>60 days late</td>\n",
              "    </tr>\n",
              "    <tr>\n",
              "      <th>7</th>\n",
              "      <td>8</td>\n",
              "      <td>1950-12-06</td>\n",
              "      <td>Female</td>\n",
              "      <td>Married</td>\n",
              "      <td>2.0</td>\n",
              "      <td>NaN</td>\n",
              "      <td>Rent</td>\n",
              "      <td>482.0</td>\n",
              "      <td>1607.0</td>\n",
              "      <td>No</td>\n",
              "      <td>Yes</td>\n",
              "      <td>low</td>\n",
              "      <td>Balanced</td>\n",
              "    </tr>\n",
              "    <tr>\n",
              "      <th>8</th>\n",
              "      <td>9</td>\n",
              "      <td>1929-01-01</td>\n",
              "      <td>Female</td>\n",
              "      <td>Married</td>\n",
              "      <td>0.0</td>\n",
              "      <td>NaN</td>\n",
              "      <td>Own</td>\n",
              "      <td>720.0</td>\n",
              "      <td>1799.0</td>\n",
              "      <td>No</td>\n",
              "      <td>Yes</td>\n",
              "      <td>high</td>\n",
              "      <td>60 days late</td>\n",
              "    </tr>\n",
              "  </tbody>\n",
              "</table>\n",
              "</div>"
            ],
            "text/plain": [
              "   ID        DOB  Gender Marital_Status  Nbr_Children      Occupation  Home  \\\n",
              "0   1 1926-07-19  Female        Married           2.0  Administrative   Own   \n",
              "1   2 1936-12-13  Female        Married           1.0             NaN   Own   \n",
              "5   6 1925-12-03  Female        Married           1.0  Administrative   Own   \n",
              "7   8 1950-12-06  Female        Married           2.0             NaN  Rent   \n",
              "8   9 1929-01-01  Female        Married           0.0             NaN   Own   \n",
              "\n",
              "   Mo_Expenses  Mo_Income Checking_Account Savings_Account Credit_limit  \\\n",
              "0        562.0     1606.0               No             Yes         high   \n",
              "1        550.0     1573.0               No             Yes         high   \n",
              "5        515.0     1908.0               No             Yes         high   \n",
              "7        482.0     1607.0               No             Yes          low   \n",
              "8        720.0     1799.0               No             Yes         high   \n",
              "\n",
              "  Account_Status  \n",
              "0       Balanced  \n",
              "1   60 days late  \n",
              "5   60 days late  \n",
              "7       Balanced  \n",
              "8   60 days late  "
            ]
          },
          "metadata": {
            "tags": []
          },
          "execution_count": 50
        }
      ]
    },
    {
      "metadata": {
        "id": "DT_tiW6fbJ63",
        "colab_type": "text"
      },
      "cell_type": "markdown",
      "source": [
        "### Basados en una Variable Continua\n",
        "\n",
        "Podemos generar un DataFrame que solo contenga a los individuos que tengan una renta mensual **Mo_Income** mayor a 1000."
      ]
    },
    {
      "metadata": {
        "id": "h-0NMg9MbWOg",
        "colab_type": "code",
        "colab": {
          "base_uri": "https://localhost:8080/",
          "height": 204
        },
        "outputId": "99dd0141-5cda-449f-a5c9-3ef0a0f564bb"
      },
      "cell_type": "code",
      "source": [
        "morethan1000=data[data['Mo_Income']>1000]\n",
        "morethan1000.head(5)"
      ],
      "execution_count": 51,
      "outputs": [
        {
          "output_type": "execute_result",
          "data": {
            "text/html": [
              "<div>\n",
              "<style scoped>\n",
              "    .dataframe tbody tr th:only-of-type {\n",
              "        vertical-align: middle;\n",
              "    }\n",
              "\n",
              "    .dataframe tbody tr th {\n",
              "        vertical-align: top;\n",
              "    }\n",
              "\n",
              "    .dataframe thead th {\n",
              "        text-align: right;\n",
              "    }\n",
              "</style>\n",
              "<table border=\"1\" class=\"dataframe\">\n",
              "  <thead>\n",
              "    <tr style=\"text-align: right;\">\n",
              "      <th></th>\n",
              "      <th>ID</th>\n",
              "      <th>DOB</th>\n",
              "      <th>Gender</th>\n",
              "      <th>Marital_Status</th>\n",
              "      <th>Nbr_Children</th>\n",
              "      <th>Occupation</th>\n",
              "      <th>Home</th>\n",
              "      <th>Mo_Expenses</th>\n",
              "      <th>Mo_Income</th>\n",
              "      <th>Checking_Account</th>\n",
              "      <th>Savings_Account</th>\n",
              "      <th>Credit_limit</th>\n",
              "      <th>Account_Status</th>\n",
              "    </tr>\n",
              "  </thead>\n",
              "  <tbody>\n",
              "    <tr>\n",
              "      <th>0</th>\n",
              "      <td>1</td>\n",
              "      <td>1926-07-19</td>\n",
              "      <td>Female</td>\n",
              "      <td>Married</td>\n",
              "      <td>2.0</td>\n",
              "      <td>Administrative</td>\n",
              "      <td>Own</td>\n",
              "      <td>562.0</td>\n",
              "      <td>1606.0</td>\n",
              "      <td>No</td>\n",
              "      <td>Yes</td>\n",
              "      <td>high</td>\n",
              "      <td>Balanced</td>\n",
              "    </tr>\n",
              "    <tr>\n",
              "      <th>1</th>\n",
              "      <td>2</td>\n",
              "      <td>1936-12-13</td>\n",
              "      <td>Female</td>\n",
              "      <td>Married</td>\n",
              "      <td>1.0</td>\n",
              "      <td>NaN</td>\n",
              "      <td>Own</td>\n",
              "      <td>550.0</td>\n",
              "      <td>1573.0</td>\n",
              "      <td>No</td>\n",
              "      <td>Yes</td>\n",
              "      <td>high</td>\n",
              "      <td>60 days late</td>\n",
              "    </tr>\n",
              "    <tr>\n",
              "      <th>2</th>\n",
              "      <td>3</td>\n",
              "      <td>1928-01-25</td>\n",
              "      <td>Male</td>\n",
              "      <td>Married</td>\n",
              "      <td>0.0</td>\n",
              "      <td>NaN</td>\n",
              "      <td>Own</td>\n",
              "      <td>633.0</td>\n",
              "      <td>1583.0</td>\n",
              "      <td>No</td>\n",
              "      <td>Yes</td>\n",
              "      <td>high</td>\n",
              "      <td>60 days late</td>\n",
              "    </tr>\n",
              "    <tr>\n",
              "      <th>3</th>\n",
              "      <td>4</td>\n",
              "      <td>1931-11-29</td>\n",
              "      <td>Male</td>\n",
              "      <td>Married</td>\n",
              "      <td>0.0</td>\n",
              "      <td>NaN</td>\n",
              "      <td>Own</td>\n",
              "      <td>487.0</td>\n",
              "      <td>1624.0</td>\n",
              "      <td>No</td>\n",
              "      <td>Yes</td>\n",
              "      <td>high</td>\n",
              "      <td>30 days late</td>\n",
              "    </tr>\n",
              "    <tr>\n",
              "      <th>4</th>\n",
              "      <td>5</td>\n",
              "      <td>1913-12-19</td>\n",
              "      <td>Male</td>\n",
              "      <td>Widowed</td>\n",
              "      <td>0.0</td>\n",
              "      <td>NaN</td>\n",
              "      <td>Own</td>\n",
              "      <td>696.0</td>\n",
              "      <td>1990.0</td>\n",
              "      <td>No</td>\n",
              "      <td>Yes</td>\n",
              "      <td>high</td>\n",
              "      <td>60 days late</td>\n",
              "    </tr>\n",
              "  </tbody>\n",
              "</table>\n",
              "</div>"
            ],
            "text/plain": [
              "   ID        DOB  Gender Marital_Status  Nbr_Children      Occupation Home  \\\n",
              "0   1 1926-07-19  Female        Married           2.0  Administrative  Own   \n",
              "1   2 1936-12-13  Female        Married           1.0             NaN  Own   \n",
              "2   3 1928-01-25    Male        Married           0.0             NaN  Own   \n",
              "3   4 1931-11-29    Male        Married           0.0             NaN  Own   \n",
              "4   5 1913-12-19    Male        Widowed           0.0             NaN  Own   \n",
              "\n",
              "   Mo_Expenses  Mo_Income Checking_Account Savings_Account Credit_limit  \\\n",
              "0        562.0     1606.0               No             Yes         high   \n",
              "1        550.0     1573.0               No             Yes         high   \n",
              "2        633.0     1583.0               No             Yes         high   \n",
              "3        487.0     1624.0               No             Yes         high   \n",
              "4        696.0     1990.0               No             Yes         high   \n",
              "\n",
              "  Account_Status  \n",
              "0       Balanced  \n",
              "1   60 days late  \n",
              "2   60 days late  \n",
              "3   30 days late  \n",
              "4   60 days late  "
            ]
          },
          "metadata": {
            "tags": []
          },
          "execution_count": 51
        }
      ]
    },
    {
      "metadata": {
        "id": "Wm48Arsmb7x2",
        "colab_type": "text"
      },
      "cell_type": "markdown",
      "source": [
        "### Mas de una condicion a la vez\n",
        "\n",
        "#### Ambas simultaneamente\n",
        "\n",
        "Se puede establecer más de una condicion lógica como con el operador lógico &, que es equivalente a \"and\".\n"
      ]
    },
    {
      "metadata": {
        "id": "yOFw8hLScGMO",
        "colab_type": "code",
        "colab": {
          "base_uri": "https://localhost:8080/",
          "height": 204
        },
        "outputId": "88063c6f-4cc2-4363-d2ac-2e7a9c507628"
      },
      "cell_type": "code",
      "source": [
        "both_and=data[(data['Gender']=='Female')&(data['Mo_Income']>1000)]\n",
        "both_and.head(5)"
      ],
      "execution_count": 53,
      "outputs": [
        {
          "output_type": "execute_result",
          "data": {
            "text/html": [
              "<div>\n",
              "<style scoped>\n",
              "    .dataframe tbody tr th:only-of-type {\n",
              "        vertical-align: middle;\n",
              "    }\n",
              "\n",
              "    .dataframe tbody tr th {\n",
              "        vertical-align: top;\n",
              "    }\n",
              "\n",
              "    .dataframe thead th {\n",
              "        text-align: right;\n",
              "    }\n",
              "</style>\n",
              "<table border=\"1\" class=\"dataframe\">\n",
              "  <thead>\n",
              "    <tr style=\"text-align: right;\">\n",
              "      <th></th>\n",
              "      <th>ID</th>\n",
              "      <th>DOB</th>\n",
              "      <th>Gender</th>\n",
              "      <th>Marital_Status</th>\n",
              "      <th>Nbr_Children</th>\n",
              "      <th>Occupation</th>\n",
              "      <th>Home</th>\n",
              "      <th>Mo_Expenses</th>\n",
              "      <th>Mo_Income</th>\n",
              "      <th>Checking_Account</th>\n",
              "      <th>Savings_Account</th>\n",
              "      <th>Credit_limit</th>\n",
              "      <th>Account_Status</th>\n",
              "    </tr>\n",
              "  </thead>\n",
              "  <tbody>\n",
              "    <tr>\n",
              "      <th>0</th>\n",
              "      <td>1</td>\n",
              "      <td>1926-07-19</td>\n",
              "      <td>Female</td>\n",
              "      <td>Married</td>\n",
              "      <td>2.0</td>\n",
              "      <td>Administrative</td>\n",
              "      <td>Own</td>\n",
              "      <td>562.0</td>\n",
              "      <td>1606.0</td>\n",
              "      <td>No</td>\n",
              "      <td>Yes</td>\n",
              "      <td>high</td>\n",
              "      <td>Balanced</td>\n",
              "    </tr>\n",
              "    <tr>\n",
              "      <th>1</th>\n",
              "      <td>2</td>\n",
              "      <td>1936-12-13</td>\n",
              "      <td>Female</td>\n",
              "      <td>Married</td>\n",
              "      <td>1.0</td>\n",
              "      <td>NaN</td>\n",
              "      <td>Own</td>\n",
              "      <td>550.0</td>\n",
              "      <td>1573.0</td>\n",
              "      <td>No</td>\n",
              "      <td>Yes</td>\n",
              "      <td>high</td>\n",
              "      <td>60 days late</td>\n",
              "    </tr>\n",
              "    <tr>\n",
              "      <th>5</th>\n",
              "      <td>6</td>\n",
              "      <td>1925-12-03</td>\n",
              "      <td>Female</td>\n",
              "      <td>Married</td>\n",
              "      <td>1.0</td>\n",
              "      <td>Administrative</td>\n",
              "      <td>Own</td>\n",
              "      <td>515.0</td>\n",
              "      <td>1908.0</td>\n",
              "      <td>No</td>\n",
              "      <td>Yes</td>\n",
              "      <td>high</td>\n",
              "      <td>60 days late</td>\n",
              "    </tr>\n",
              "    <tr>\n",
              "      <th>7</th>\n",
              "      <td>8</td>\n",
              "      <td>1950-12-06</td>\n",
              "      <td>Female</td>\n",
              "      <td>Married</td>\n",
              "      <td>2.0</td>\n",
              "      <td>NaN</td>\n",
              "      <td>Rent</td>\n",
              "      <td>482.0</td>\n",
              "      <td>1607.0</td>\n",
              "      <td>No</td>\n",
              "      <td>Yes</td>\n",
              "      <td>low</td>\n",
              "      <td>Balanced</td>\n",
              "    </tr>\n",
              "    <tr>\n",
              "      <th>8</th>\n",
              "      <td>9</td>\n",
              "      <td>1929-01-01</td>\n",
              "      <td>Female</td>\n",
              "      <td>Married</td>\n",
              "      <td>0.0</td>\n",
              "      <td>NaN</td>\n",
              "      <td>Own</td>\n",
              "      <td>720.0</td>\n",
              "      <td>1799.0</td>\n",
              "      <td>No</td>\n",
              "      <td>Yes</td>\n",
              "      <td>high</td>\n",
              "      <td>60 days late</td>\n",
              "    </tr>\n",
              "  </tbody>\n",
              "</table>\n",
              "</div>"
            ],
            "text/plain": [
              "   ID        DOB  Gender Marital_Status  Nbr_Children      Occupation  Home  \\\n",
              "0   1 1926-07-19  Female        Married           2.0  Administrative   Own   \n",
              "1   2 1936-12-13  Female        Married           1.0             NaN   Own   \n",
              "5   6 1925-12-03  Female        Married           1.0  Administrative   Own   \n",
              "7   8 1950-12-06  Female        Married           2.0             NaN  Rent   \n",
              "8   9 1929-01-01  Female        Married           0.0             NaN   Own   \n",
              "\n",
              "   Mo_Expenses  Mo_Income Checking_Account Savings_Account Credit_limit  \\\n",
              "0        562.0     1606.0               No             Yes         high   \n",
              "1        550.0     1573.0               No             Yes         high   \n",
              "5        515.0     1908.0               No             Yes         high   \n",
              "7        482.0     1607.0               No             Yes          low   \n",
              "8        720.0     1799.0               No             Yes         high   \n",
              "\n",
              "  Account_Status  \n",
              "0       Balanced  \n",
              "1   60 days late  \n",
              "5   60 days late  \n",
              "7       Balanced  \n",
              "8   60 days late  "
            ]
          },
          "metadata": {
            "tags": []
          },
          "execution_count": 53
        }
      ]
    },
    {
      "metadata": {
        "id": "mCqNoMD8cgxN",
        "colab_type": "text"
      },
      "cell_type": "markdown",
      "source": [
        "#### Al menos una de las dos condiciones\n",
        "Se puede establecer una condicion lógica con el operador \"|\", el cual significa \"or\". En donde se mantendrá en la base si cumple con al menos una de estas.\n"
      ]
    },
    {
      "metadata": {
        "id": "QhQ1GXovcvEP",
        "colab_type": "code",
        "colab": {
          "base_uri": "https://localhost:8080/",
          "height": 204
        },
        "outputId": "6e321772-0f69-4785-d3ea-554655f04a65"
      },
      "cell_type": "code",
      "source": [
        "both_or=data[(data['Gender']=='Male')|(data['Mo_Income']>1000)]\n",
        "both_or.head(5)"
      ],
      "execution_count": 54,
      "outputs": [
        {
          "output_type": "execute_result",
          "data": {
            "text/html": [
              "<div>\n",
              "<style scoped>\n",
              "    .dataframe tbody tr th:only-of-type {\n",
              "        vertical-align: middle;\n",
              "    }\n",
              "\n",
              "    .dataframe tbody tr th {\n",
              "        vertical-align: top;\n",
              "    }\n",
              "\n",
              "    .dataframe thead th {\n",
              "        text-align: right;\n",
              "    }\n",
              "</style>\n",
              "<table border=\"1\" class=\"dataframe\">\n",
              "  <thead>\n",
              "    <tr style=\"text-align: right;\">\n",
              "      <th></th>\n",
              "      <th>ID</th>\n",
              "      <th>DOB</th>\n",
              "      <th>Gender</th>\n",
              "      <th>Marital_Status</th>\n",
              "      <th>Nbr_Children</th>\n",
              "      <th>Occupation</th>\n",
              "      <th>Home</th>\n",
              "      <th>Mo_Expenses</th>\n",
              "      <th>Mo_Income</th>\n",
              "      <th>Checking_Account</th>\n",
              "      <th>Savings_Account</th>\n",
              "      <th>Credit_limit</th>\n",
              "      <th>Account_Status</th>\n",
              "    </tr>\n",
              "  </thead>\n",
              "  <tbody>\n",
              "    <tr>\n",
              "      <th>0</th>\n",
              "      <td>1</td>\n",
              "      <td>1926-07-19</td>\n",
              "      <td>Female</td>\n",
              "      <td>Married</td>\n",
              "      <td>2.0</td>\n",
              "      <td>Administrative</td>\n",
              "      <td>Own</td>\n",
              "      <td>562.0</td>\n",
              "      <td>1606.0</td>\n",
              "      <td>No</td>\n",
              "      <td>Yes</td>\n",
              "      <td>high</td>\n",
              "      <td>Balanced</td>\n",
              "    </tr>\n",
              "    <tr>\n",
              "      <th>1</th>\n",
              "      <td>2</td>\n",
              "      <td>1936-12-13</td>\n",
              "      <td>Female</td>\n",
              "      <td>Married</td>\n",
              "      <td>1.0</td>\n",
              "      <td>NaN</td>\n",
              "      <td>Own</td>\n",
              "      <td>550.0</td>\n",
              "      <td>1573.0</td>\n",
              "      <td>No</td>\n",
              "      <td>Yes</td>\n",
              "      <td>high</td>\n",
              "      <td>60 days late</td>\n",
              "    </tr>\n",
              "    <tr>\n",
              "      <th>2</th>\n",
              "      <td>3</td>\n",
              "      <td>1928-01-25</td>\n",
              "      <td>Male</td>\n",
              "      <td>Married</td>\n",
              "      <td>0.0</td>\n",
              "      <td>NaN</td>\n",
              "      <td>Own</td>\n",
              "      <td>633.0</td>\n",
              "      <td>1583.0</td>\n",
              "      <td>No</td>\n",
              "      <td>Yes</td>\n",
              "      <td>high</td>\n",
              "      <td>60 days late</td>\n",
              "    </tr>\n",
              "    <tr>\n",
              "      <th>3</th>\n",
              "      <td>4</td>\n",
              "      <td>1931-11-29</td>\n",
              "      <td>Male</td>\n",
              "      <td>Married</td>\n",
              "      <td>0.0</td>\n",
              "      <td>NaN</td>\n",
              "      <td>Own</td>\n",
              "      <td>487.0</td>\n",
              "      <td>1624.0</td>\n",
              "      <td>No</td>\n",
              "      <td>Yes</td>\n",
              "      <td>high</td>\n",
              "      <td>30 days late</td>\n",
              "    </tr>\n",
              "    <tr>\n",
              "      <th>4</th>\n",
              "      <td>5</td>\n",
              "      <td>1913-12-19</td>\n",
              "      <td>Male</td>\n",
              "      <td>Widowed</td>\n",
              "      <td>0.0</td>\n",
              "      <td>NaN</td>\n",
              "      <td>Own</td>\n",
              "      <td>696.0</td>\n",
              "      <td>1990.0</td>\n",
              "      <td>No</td>\n",
              "      <td>Yes</td>\n",
              "      <td>high</td>\n",
              "      <td>60 days late</td>\n",
              "    </tr>\n",
              "  </tbody>\n",
              "</table>\n",
              "</div>"
            ],
            "text/plain": [
              "   ID        DOB  Gender Marital_Status  Nbr_Children      Occupation Home  \\\n",
              "0   1 1926-07-19  Female        Married           2.0  Administrative  Own   \n",
              "1   2 1936-12-13  Female        Married           1.0             NaN  Own   \n",
              "2   3 1928-01-25    Male        Married           0.0             NaN  Own   \n",
              "3   4 1931-11-29    Male        Married           0.0             NaN  Own   \n",
              "4   5 1913-12-19    Male        Widowed           0.0             NaN  Own   \n",
              "\n",
              "   Mo_Expenses  Mo_Income Checking_Account Savings_Account Credit_limit  \\\n",
              "0        562.0     1606.0               No             Yes         high   \n",
              "1        550.0     1573.0               No             Yes         high   \n",
              "2        633.0     1583.0               No             Yes         high   \n",
              "3        487.0     1624.0               No             Yes         high   \n",
              "4        696.0     1990.0               No             Yes         high   \n",
              "\n",
              "  Account_Status  \n",
              "0       Balanced  \n",
              "1   60 days late  \n",
              "2   60 days late  \n",
              "3   30 days late  \n",
              "4   60 days late  "
            ]
          },
          "metadata": {
            "tags": []
          },
          "execution_count": 54
        }
      ]
    },
    {
      "metadata": {
        "id": "3kua9b7Qd2ge",
        "colab_type": "text"
      },
      "cell_type": "markdown",
      "source": [
        "\n",
        "## Ordenamiento de los datos\n",
        "### Variable Categorica\n",
        "\n",
        "Podemos ordenar de mayor a menor los datos por alguna variable de nuestro interés. Por ejemplo para ordenar por Gender.\n",
        "\n"
      ]
    },
    {
      "metadata": {
        "id": "RQU-jzGXfLCp",
        "colab_type": "code",
        "colab": {}
      },
      "cell_type": "code",
      "source": [
        "data=data.sort_values(by='Gender',ascending=False)"
      ],
      "execution_count": 0,
      "outputs": []
    },
    {
      "metadata": {
        "id": "7GxxraD-d2eH",
        "colab_type": "text"
      },
      "cell_type": "markdown",
      "source": [
        "### Variable Continua"
      ]
    },
    {
      "metadata": {
        "id": "xCy2-jegd2Lr",
        "colab_type": "code",
        "colab": {}
      },
      "cell_type": "code",
      "source": [
        "data=data.sort_values(by='Mo_Income',ascending=False)\n",
        "data"
      ],
      "execution_count": 0,
      "outputs": []
    },
    {
      "metadata": {
        "id": "7cRs2iTQd2nh",
        "colab_type": "text"
      },
      "cell_type": "markdown",
      "source": [
        "## Muestreo Aleatorio\n",
        "Podemos generar una muestra aleatoria de datos de diferentes maneras.\n",
        "\n",
        "\n"
      ]
    },
    {
      "metadata": {
        "id": "mhrFHaWAePAx",
        "colab_type": "code",
        "colab": {}
      },
      "cell_type": "code",
      "source": [
        "sample100obs=data.sample(100)\n",
        "sample100obs.head(5)"
      ],
      "execution_count": 0,
      "outputs": []
    },
    {
      "metadata": {
        "id": "Yk5zArLSd2lU",
        "colab_type": "text"
      },
      "cell_type": "markdown",
      "source": [
        "También se puede especificar una muestra como fraccion del total. Por ejemplo 10% de la muestra."
      ]
    },
    {
      "metadata": {
        "id": "tvI8RKhfeZ9K",
        "colab_type": "code",
        "colab": {}
      },
      "cell_type": "code",
      "source": [
        "sample10_percent=data.sample(frac=0.1)\n",
        "sample10_percent.head(5)"
      ],
      "execution_count": 0,
      "outputs": []
    },
    {
      "metadata": {
        "id": "vbv8a0Q9d2i5",
        "colab_type": "text"
      },
      "cell_type": "markdown",
      "source": [
        "Finalmente, también podemos especificar si el muestro es con reemplazo o no.\n"
      ]
    },
    {
      "metadata": {
        "id": "6aKhfbe5eqXi",
        "colab_type": "code",
        "colab": {}
      },
      "cell_type": "code",
      "source": [
        "sample10_percent_resample=data.sample(frac=0.1,replace=True)"
      ],
      "execution_count": 0,
      "outputs": []
    },
    {
      "metadata": {
        "id": "lpyNg88YXktn",
        "colab_type": "text"
      },
      "cell_type": "markdown",
      "source": [
        "## Formateando Fecha\n",
        "En la siguiente linea de comando haremos que python reconozca que la columna DOB (Date of Birth). Es una fecha, con lo que podremos generar operaciones básicas, como por ejemplo calcular la edad. \n",
        "Ocuparemos la funcion _to_datetime_ de la librería pandas (pd) para entregarle darle el formato correcto a esta variable, la que hasta ahora está almacenada como un objeto. "
      ]
    },
    {
      "metadata": {
        "id": "bSdZop66YhN1",
        "colab_type": "text"
      },
      "cell_type": "markdown",
      "source": [
        "Ahora le diremos que la forma en la que está almacenada la fecha corresponde a \"día\" (%d), \"mes\" (%m) y \"año\" (%Y)."
      ]
    },
    {
      "metadata": {
        "id": "49vWTqQcYV6H",
        "colab_type": "code",
        "colab": {
          "base_uri": "https://localhost:8080/",
          "height": 139
        },
        "outputId": "6c3848d1-564e-48bc-9ee9-e275e689dfb0"
      },
      "cell_type": "code",
      "source": [
        "data['DOB']=pd.to_datetime(data['DOB'],format=\"%d/%m/%Y\")\n",
        "data['DOB'].head(5)"
      ],
      "execution_count": 38,
      "outputs": [
        {
          "output_type": "execute_result",
          "data": {
            "text/plain": [
              "0   1926-07-19\n",
              "1   1936-12-13\n",
              "2   1928-01-25\n",
              "3   1931-11-29\n",
              "4   1913-12-19\n",
              "Name: DOB, dtype: datetime64[ns]"
            ]
          },
          "metadata": {
            "tags": []
          },
          "execution_count": 38
        }
      ]
    },
    {
      "metadata": {
        "id": "Ev7p9_Y7IzoC",
        "colab_type": "code",
        "colab": {
          "base_uri": "https://localhost:8080/",
          "height": 139
        },
        "outputId": "557bd206-c90b-401d-935c-9e6b753f5e11"
      },
      "cell_type": "code",
      "source": [
        "data['DOB'].head(5)\n",
        "\n"
      ],
      "execution_count": 37,
      "outputs": [
        {
          "output_type": "execute_result",
          "data": {
            "text/plain": [
              "0    19/07/1926\n",
              "1    13/12/1936\n",
              "2    25/01/1928\n",
              "3    29/11/1931\n",
              "4    19/12/1913\n",
              "Name: DOB, dtype: object"
            ]
          },
          "metadata": {
            "tags": []
          },
          "execution_count": 37
        }
      ]
    },
    {
      "metadata": {
        "id": "puaMV3rgtnB3",
        "colab_type": "code",
        "colab": {}
      },
      "cell_type": "code",
      "source": [
        ""
      ],
      "execution_count": 0,
      "outputs": []
    }
  ]
}