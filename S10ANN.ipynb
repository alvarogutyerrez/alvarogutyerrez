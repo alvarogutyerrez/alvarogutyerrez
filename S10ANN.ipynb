{
  "nbformat": 4,
  "nbformat_minor": 0,
  "metadata": {
    "colab": {
      "name": "S10ANN.ipynb",
      "version": "0.3.2",
      "provenance": [],
      "include_colab_link": true
    },
    "kernelspec": {
      "name": "python3",
      "display_name": "Python 3"
    }
  },
  "cells": [
    {
      "cell_type": "markdown",
      "metadata": {
        "id": "view-in-github",
        "colab_type": "text"
      },
      "source": [
        "<a href=\"https://colab.research.google.com/github/alvarogutyerrez/alvarogutyerrez/blob/master/S10ANN.ipynb\" target=\"_parent\"><img src=\"https://colab.research.google.com/assets/colab-badge.svg\" alt=\"Open In Colab\"/></a>"
      ]
    },
    {
      "metadata": {
        "id": "KRRwKlueXbXV",
        "colab_type": "text"
      },
      "cell_type": "markdown",
      "source": [
        "# Artificial Neural Networks: Beating the CAPTCHA?\n",
        "\n",
        "Qué dirías si te digo que entrenando una red neuronal, podemos hacer que lea el cógido de abajo como si fueran efectivamente números y no una serie de caracteres. Bueno, deberían haberte caído del asiento porque es verdad (En caso contrario, deberías comenzar a replantearte qué es asombroso y lo que no)."
      ]
    },
    {
      "metadata": {
        "id": "T0kY7Oe7XG5D",
        "colab_type": "code",
        "colab": {}
      },
      "cell_type": "code",
      "source": [
        "    \n",
        "#@@@@@ ..@.. @@@@@ @@@@@ @...@ @@@@@ @@@@@ @@@@@ @@@@@ @@@@@\n",
        "#@...@ ..@.. ....@ ....@ @...@ @.... @.... ....@ @...@ @...@\n",
        "#@...@ ..@.. @@@@@ @@@@@ @@@@@ @@@@@ @@@@@ ....@ @@@@@ @@@@@\n",
        "#@...@ ..@.. @.... ....@ ....@ ....@ @...@ ....@ @...@ ....@\n",
        "#@@@@@ ..@.. @@@@@ @@@@@ ....@ @@@@@ @@@@@ ....@ @@@@@ @@@@@        "
      ],
      "execution_count": 0,
      "outputs": []
    },
    {
      "metadata": {
        "id": "VUF4ug6oX3aP",
        "colab_type": "text"
      },
      "cell_type": "markdown",
      "source": [
        "## Generando la data para entrenar a la bestia\n",
        "\n",
        "Traspasaremos lo que está arriba al lenguaje más primitivo de todos, los ceros y unos."
      ]
    },
    {
      "metadata": {
        "id": "z3cxgGciYPYH",
        "colab_type": "code",
        "colab": {}
      },
      "cell_type": "code",
      "source": [
        "import numpy as np\n",
        "import pandas as pd\n",
        "import math\n",
        "import copy\n",
        "from numpy import array, vectorize, dot\n",
        "import numpy as np\n",
        "import math\n",
        "\n",
        "from numpy import array, vectorize, dot\n",
        "\n",
        "##GENERANDO LA DATA\n",
        "\n",
        "digit_0 = [1,1,1,1,1,\n",
        "           1,0,0,0,1,\n",
        "           1,0,0,0,1,\n",
        "           1,0,0,0,1,\n",
        "           1,1,1,1,1]\n",
        "            \n",
        "digit_1 = [1,0,0,0,0,\n",
        "           1,0,0,0,0,\n",
        "           1,0,0,0,0,\n",
        "           1,0,0,0,0,\n",
        "           1,0,0,0,0]\n",
        "             \n",
        "digit_2 = [1,1,1,1,1,\n",
        "           0,0,0,0,1,\n",
        "           1,1,1,1,1,\n",
        "           1,0,0,0,1,\n",
        "           1,1,1,1,1]\n",
        "\n",
        "digit_3 = [1,1,1,1,1,\n",
        "           0,0,0,0,1,\n",
        "           1,1,1,1,1,\n",
        "           0,0,0,0,1,\n",
        "           1,1,1,1,1]\n",
        "\n",
        "digit_4 = [1,0,0,0,1,\n",
        "           1,0,0,0,1,\n",
        "           1,1,1,1,1,\n",
        "           0,0,0,0,1,\n",
        "           0,0,0,0,1]\n",
        "              \n",
        "digit_5 = [1,1,1,1,1,\n",
        "           1,0,0,0,0,\n",
        "           1,1,1,1,1,\n",
        "           0,0,0,0,1,\n",
        "           1,1,1,1,1]\n",
        "              \n",
        "              \n",
        "digit_6 = [1,1,1,1,1,\n",
        "           1,0,0,0,0,\n",
        "           1,1,1,1,1,\n",
        "           1,0,0,0,1,\n",
        "           1,1,1,1,1]\n",
        "  \n",
        "digit_7 = [1,1,1,1,1,\n",
        "           0,0,0,0,1,\n",
        "           0,0,0,0,1,\n",
        "           0,0,0,0,1,\n",
        "           0,0,0,0,1]\n",
        "  \n",
        "digit_8 = [1,1,1,1,1,\n",
        "          1,0,0,0,1,\n",
        "          1,1,1,1,1,\n",
        "          1,0,0,0,1,\n",
        "          1,1,1,1,1]\n",
        "                          \n",
        " \n",
        "digit_9 = [1,1,1,1,1,\n",
        "           1,0,0,0,1,\n",
        "           1,1,1,1,1,\n",
        "           0,0,0,0,1,\n",
        "           1,1,1,1,1]   \n",
        "\n",
        "\n",
        "'''Generating vector X of training'''\n",
        "inputs = []\n",
        "for j in range(0,10):\n",
        "    inputs.append(vars()['digit_' + str(j)] )   "
      ],
      "execution_count": 0,
      "outputs": []
    },
    {
      "metadata": {
        "id": "9Tdd2mhpZGAE",
        "colab_type": "text"
      },
      "cell_type": "markdown",
      "source": [
        "## Ingredientes básicos: Azucas, flores y muchos colores...\n",
        "\n",
        "Gran parte de la estructura de las ANN se basa en herramientas simples que luego, al combinarse, parecen algo extremadamente complejo. Justamente por esto, vamos por partes..."
      ]
    },
    {
      "metadata": {
        "id": "srVfQVhZZJOc",
        "colab_type": "code",
        "colab": {}
      },
      "cell_type": "code",
      "source": [
        "def step_function(x):\n",
        "    return 1 if x >= 0 else 0 \n",
        "\n",
        "     \n",
        "def perceptron_output(weights, bias, x):\n",
        "    \"\"\"returns 1 if the perceptron 'fires', 0 if not\"\"\"\n",
        "    calculation = dot(weights, x) + bias\n",
        "    return step_function(calculation)\n",
        "    \n",
        "def sigmoid(t):\n",
        "    return 1 / (1 + math.exp(-t))\n",
        "    \n",
        "    \n",
        "def neuron_output(weights, inputs):\n",
        "    return sigmoid(dot(weights, inputs))\n",
        "    "
      ],
      "execution_count": 0,
      "outputs": []
    },
    {
      "metadata": {
        "id": "9OoiIVSgZW9L",
        "colab_type": "text"
      },
      "cell_type": "markdown",
      "source": [
        "#Un paso más adelante: feed_forward"
      ]
    },
    {
      "metadata": {
        "id": "PkvAZeRaZWfT",
        "colab_type": "code",
        "colab": {}
      },
      "cell_type": "code",
      "source": [
        "def feed_forward(neural_network, input_vector):\n",
        "    \"\"\"takes in a neural network\n",
        "    (represented as a list of lists of lists of weights)\n",
        "    and returns the output from forward-propagating the input\"\"\"\n",
        "    outputs = []\n",
        "    # process one layer at a time\n",
        "    for layer in neural_network:\n",
        "        input_with_bias = input_vector + [1] # add a bias input\n",
        "        output = [neuron_output(neuron, input_with_bias) # compute the output\n",
        "        for neuron in layer] # for each neuron\n",
        "        outputs.append(output) # and remember it\n",
        "        # then the input to the next layer is the output of this one\n",
        "        input_vector = output\n",
        "    return outputs    \n"
      ],
      "execution_count": 0,
      "outputs": []
    },
    {
      "metadata": {
        "id": "wx-ztblFZnTC",
        "colab_type": "text"
      },
      "cell_type": "markdown",
      "source": [
        "# El ingrediente secreto: Backpropagate"
      ]
    },
    {
      "metadata": {
        "id": "0o1lHp0DZmzT",
        "colab_type": "code",
        "colab": {}
      },
      "cell_type": "code",
      "source": [
        "def backpropagate(network, input_vector, targets):\n",
        "    hidden_outputs, outputs = feed_forward(network, input_vector)\n",
        "    # the output * (1 - output) is from the derivative of sigmoid\n",
        "    output_deltas = [output * (1 - output) * (output - target)\n",
        "        for output, target in zip(outputs, targets)]\n",
        "    # adjust weights for output layer, one neuron at a time\n",
        "    for i, output_neuron in enumerate(network[-1]):\n",
        "        # focus on the ith output layer neuron\n",
        "        for j, hidden_output in enumerate(hidden_outputs + [1]):\n",
        "            # adjust the jth weight based on both\n",
        "            # this neuron's delta and its jth input\n",
        "            output_neuron[j] -= output_deltas[i] * hidden_output\n",
        "    # back-propagate errors to hidden layer\n",
        "    hidden_deltas = [hidden_output * (1 - hidden_output) *dot(output_deltas, [n[i] for n in output_layer])\n",
        "                for i, hidden_output in enumerate(hidden_outputs)]\n",
        "    # adjust weights for hidden layer, one neuron at a time\n",
        "    for i, hidden_neuron in enumerate(network[0]):\n",
        "        for j, input in enumerate(input_vector + [1]):\n",
        "            hidden_neuron[j] -= hidden_deltas[i] * input"
      ],
      "execution_count": 0,
      "outputs": []
    },
    {
      "metadata": {
        "id": "kTmVKBQlZ3fy",
        "colab_type": "text"
      },
      "cell_type": "markdown",
      "source": [
        ""
      ]
    },
    {
      "metadata": {
        "id": "44K-dp8VZ7Mz",
        "colab_type": "code",
        "colab": {}
      },
      "cell_type": "code",
      "source": [
        "'''Generating Vector Y of training '''              \n",
        "targets = [[1 if i == j else 0 for i in range(10)]\n",
        "            for j in range(10)]           "
      ],
      "execution_count": 0,
      "outputs": []
    },
    {
      "metadata": {
        "id": "V1K9FDYwaGe6",
        "colab_type": "text"
      },
      "cell_type": "markdown",
      "source": [
        "#Inicio de la preparación"
      ]
    },
    {
      "metadata": {
        "id": "6NtlrilcaI4K",
        "colab_type": "code",
        "colab": {}
      },
      "cell_type": "code",
      "source": [
        "'''Settting up initial values '''\n",
        "np.random.seed(0) # to get repeatable results (seed as ussual)\n",
        "input_size = 25 # each input is a vector of length 25 (Lenght of training set)\n",
        "num_hidden = 5 # we'll have 5 neurons in the hidden layer \n",
        "output_size = 10 # we need 10 outputs for each input (number to 0 to nine)   \n",
        "\n",
        "\n",
        "\n",
        "'''Initializing with random numbers for: '''\n",
        "\n",
        "'''Hidden_Layers (5)'''\n",
        "# each hidden neuron has one weight per input, plus a bias weight            \n",
        "hidden_layer = [[np.random.random() for __ in range(input_size + 1)]\n",
        "                 for __ in range(num_hidden)]                \n",
        "'''Output_Layers (10)'''\n",
        "# each output neuron has one weight per hidden neuron, plus a bias weight\n",
        "output_layer = [[np.random.random() for __ in range(num_hidden + 1)]\n",
        "                 for __ in range(output_size)]     \n",
        "                 \n",
        "# As the book mention, the network is a list of (layers) of  \n",
        "#list (neurons) of list (weights). And it starts out with random weights \n",
        "#The ones tha we just generate randomnly.\n",
        "network = [hidden_layer, output_layer]                              \n"
      ],
      "execution_count": 0,
      "outputs": []
    },
    {
      "metadata": {
        "id": "f_iAmWj8aNSa",
        "colab_type": "text"
      },
      "cell_type": "markdown",
      "source": [
        "#Entrenando al Monstruo"
      ]
    },
    {
      "metadata": {
        "id": "NI5BCeQ8aP_p",
        "colab_type": "code",
        "colab": {}
      },
      "cell_type": "code",
      "source": [
        "for __ in range(10000):\n",
        "    for input_vector, target_vector in zip(inputs, targets):\n",
        "        backpropagate(network, input_vector, target_vector)                 \n",
        "                 "
      ],
      "execution_count": 0,
      "outputs": []
    },
    {
      "metadata": {
        "id": "S04Z6xjPaSm5",
        "colab_type": "text"
      },
      "cell_type": "markdown",
      "source": [
        "#Generando Predicciones"
      ]
    },
    {
      "metadata": {
        "id": "n-z23vOnaVfq",
        "colab_type": "code",
        "colab": {}
      },
      "cell_type": "code",
      "source": [
        "''' Generar funcion de prediccion'''\n",
        "def predict(input):\n",
        "    return feed_forward(network, input)[-1]   "
      ],
      "execution_count": 0,
      "outputs": []
    },
    {
      "metadata": {
        "id": "ilJefaKnabJD",
        "colab_type": "text"
      },
      "cell_type": "markdown",
      "source": [
        "##Easy peasy: ¿Cómo luce un 7?"
      ]
    },
    {
      "metadata": {
        "id": "m1m7GMjsaWzC",
        "colab_type": "code",
        "colab": {
          "base_uri": "https://localhost:8080/",
          "height": 204
        },
        "outputId": "e5848d2d-d638-42b6-f3aa-3506d9b3255c"
      },
      "cell_type": "code",
      "source": [
        "prediccion_7=pd.DataFrame(predict(inputs[7])).round(3) \n",
        "print(prediccion_7)"
      ],
      "execution_count": 19,
      "outputs": [
        {
          "output_type": "stream",
          "text": [
            "       0\n",
            "0  0.000\n",
            "1  0.000\n",
            "2  0.059\n",
            "3  0.359\n",
            "4  0.137\n",
            "5  0.000\n",
            "6  0.000\n",
            "7  0.885\n",
            "8  0.041\n",
            "9  0.049\n"
          ],
          "name": "stdout"
        }
      ]
    },
    {
      "metadata": {
        "id": "ClnvGTJaa8tA",
        "colab_type": "text"
      },
      "cell_type": "markdown",
      "source": [
        "##El sucio tres"
      ]
    },
    {
      "metadata": {
        "id": "3qC87AVobHYw",
        "colab_type": "code",
        "colab": {}
      },
      "cell_type": "code",
      "source": [
        "the_three=[0,1,1,1,0,  # .@@@.\n",
        "           0,0,0,1,1,  # ...@@\n",
        "           0,0,1,1,0,  # ..@@.\n",
        "           0,0,0,1,1,  # ...@@\n",
        "           0,1,1,1,0]  # .@@@"
      ],
      "execution_count": 0,
      "outputs": []
    },
    {
      "metadata": {
        "id": "XKILtgY3bE35",
        "colab_type": "code",
        "colab": {
          "base_uri": "https://localhost:8080/",
          "height": 204
        },
        "outputId": "3c0385ac-b87d-43f2-f86b-73e14e04efab"
      },
      "cell_type": "code",
      "source": [
        "the_three_predicho=pd.DataFrame(predict(the_three)).round(3)               \n",
        "print(the_three_predicho)  \n",
        "#Not that bad!"
      ],
      "execution_count": 24,
      "outputs": [
        {
          "output_type": "stream",
          "text": [
            "       0\n",
            "0  0.000\n",
            "1  0.000\n",
            "2  0.045\n",
            "3  0.675\n",
            "4  0.058\n",
            "5  0.000\n",
            "6  0.000\n",
            "7  0.000\n",
            "8  0.068\n",
            "9  0.197\n"
          ],
          "name": "stdout"
        }
      ]
    },
    {
      "metadata": {
        "id": "fYE4uxo0bhV4",
        "colab_type": "text"
      },
      "cell_type": "markdown",
      "source": [
        "#Sklearn: Aplicando la librería favorita de la casa."
      ]
    },
    {
      "metadata": {
        "id": "Gqne70m_bhGY",
        "colab_type": "code",
        "colab": {
          "base_uri": "https://localhost:8080/",
          "height": 51
        },
        "outputId": "85c6f1c7-efbd-491b-e99c-e0e68d169830"
      },
      "cell_type": "code",
      "source": [
        "''' Ocupando Skilearn '''\n",
        "from sklearn.neural_network import MLPClassifier\n",
        "weird_three = pd.DataFrame([0,1,1,1,0, # .@@@.\n",
        "               0,0,0,1,1, # ...@@\n",
        "               0,0,1,1,0, # ..@@.\n",
        "               0,0,0,1,1, # ...@@\n",
        "               0,1,1,1,0]) # .@@@. \n",
        "weird_three = weird_three.T\n",
        "                           \n",
        "clf_1 = MLPClassifier(solver='lbfgs', alpha=1e-5, hidden_layer_sizes=(5), random_state=1)\n",
        "Y_train = pd.DataFrame(targets)\n",
        "X_train = pd.DataFrame(inputs)\n",
        "\n",
        "clf_1.fit( X_train,Y_train)                         \n",
        "\n",
        "prediccion_weird3 =pd.DataFrame(clf_1.predict(weird_three)).round(3)\n",
        "print(prediccion_weird3)"
      ],
      "execution_count": 25,
      "outputs": [
        {
          "output_type": "stream",
          "text": [
            "   0  1  2  3  4  5  6  7  8  9\n",
            "0  0  0  0  1  1  1  0  0  0  1\n"
          ],
          "name": "stdout"
        }
      ]
    },
    {
      "metadata": {
        "id": "Hk8Blyapbwto",
        "colab_type": "code",
        "colab": {
          "base_uri": "https://localhost:8080/",
          "height": 51
        },
        "outputId": "0bda4889-9f12-4bfe-834a-a0da89e58b5c"
      },
      "cell_type": "code",
      "source": [
        "\n",
        "digit_7 = pd.DataFrame([1,1,1,1,1,\n",
        "              0,0,0,0,1,\n",
        "              0,0,0,0,1,\n",
        "              0,0,0,0,1,\n",
        "              0,0,0,0,1]).T\n",
        "  \n",
        "\n",
        "prediccion_7even=pd.DataFrame(clf_1.predict(digit_7)).round(3)\n",
        "print(prediccion_7even)"
      ],
      "execution_count": 26,
      "outputs": [
        {
          "output_type": "stream",
          "text": [
            "   0  1  2  3  4  5  6  7  8  9\n",
            "0  0  0  0  0  0  0  0  0  0  0\n"
          ],
          "name": "stdout"
        }
      ]
    },
    {
      "metadata": {
        "id": "-TEMnHjSb_UU",
        "colab_type": "text"
      },
      "cell_type": "markdown",
      "source": [
        "#Sklean, pero haciendolo bien!"
      ]
    },
    {
      "metadata": {
        "id": "4VLLQj_gb_PW",
        "colab_type": "text"
      },
      "cell_type": "markdown",
      "source": [
        "## El regreso del sucio tres"
      ]
    },
    {
      "metadata": {
        "id": "iLHOavcNb_BH",
        "colab_type": "code",
        "colab": {
          "base_uri": "https://localhost:8080/",
          "height": 139
        },
        "outputId": "5aaad10b-90b4-424f-9a25-2d812c15f1bf"
      },
      "cell_type": "code",
      "source": [
        "'''Otro formato de explicada '''\n",
        "\n",
        "clf_2 = MLPClassifier(solver='sgd', alpha=1e-5, hidden_layer_sizes=(5), random_state=1)\n",
        "\n",
        "Y_train2 = pd.DataFrame([0,1,2,3,4,5,6,7,8,9])\n",
        "clf_2.fit(X_train,Y_train2 )                         \n",
        "\n",
        "prediccion_weird3 =pd.DataFrame(clf_2.predict(weird_three)).round(3)\n",
        "\n",
        "print(prediccion_weird3)\n",
        "#aparentemente sklearn lo hizo peor que from scratch..........."
      ],
      "execution_count": 39,
      "outputs": [
        {
          "output_type": "stream",
          "text": [
            "   0\n",
            "0  8\n"
          ],
          "name": "stdout"
        },
        {
          "output_type": "stream",
          "text": [
            "/usr/local/lib/python3.6/dist-packages/sklearn/neural_network/multilayer_perceptron.py:912: DataConversionWarning: A column-vector y was passed when a 1d array was expected. Please change the shape of y to (n_samples, ), for example using ravel().\n",
            "  y = column_or_1d(y, warn=True)\n",
            "/usr/local/lib/python3.6/dist-packages/sklearn/neural_network/multilayer_perceptron.py:564: ConvergenceWarning: Stochastic Optimizer: Maximum iterations (200) reached and the optimization hasn't converged yet.\n",
            "  % self.max_iter, ConvergenceWarning)\n"
          ],
          "name": "stderr"
        }
      ]
    },
    {
      "metadata": {
        "id": "8SRsi1QQc0w9",
        "colab_type": "text"
      },
      "cell_type": "markdown",
      "source": [
        "##Peace of cake?"
      ]
    },
    {
      "metadata": {
        "id": "UAX_1hrBcTIO",
        "colab_type": "code",
        "colab": {
          "base_uri": "https://localhost:8080/",
          "height": 51
        },
        "outputId": "0a2fc721-83f7-44e0-c044-3c301ff32719"
      },
      "cell_type": "code",
      "source": [
        "prediccion_7even_2 =pd.DataFrame(clf_2.predict(digit_7)).round(3)\n",
        "print(prediccion_7even_2)\n",
        "#awesome!"
      ],
      "execution_count": 31,
      "outputs": [
        {
          "output_type": "stream",
          "text": [
            "   0\n",
            "0  7\n"
          ],
          "name": "stdout"
        }
      ]
    }
  ]
}