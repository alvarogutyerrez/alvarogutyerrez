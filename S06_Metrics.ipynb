{
  "nbformat": 4,
  "nbformat_minor": 0,
  "metadata": {
    "colab": {
      "name": "S06_Metrics.ipynb",
      "version": "0.3.2",
      "provenance": [],
      "toc_visible": true,
      "include_colab_link": true
    }
  },
  "cells": [
    {
      "cell_type": "markdown",
      "metadata": {
        "id": "view-in-github",
        "colab_type": "text"
      },
      "source": [
        "[View in Colaboratory](https://colab.research.google.com/github/alvarogutyerrez/alvarogutyerrez/blob/master/S06_Metrics.ipynb)"
      ]
    },
    {
      "metadata": {
        "id": "hOiK3Vz3EXaV",
        "colab_type": "text"
      },
      "cell_type": "markdown",
      "source": [
        "# Métricas de Acierto \n",
        "\n",
        "\n"
      ]
    },
    {
      "metadata": {
        "id": "9e0iCT1uEXr1",
        "colab_type": "code",
        "colab": {}
      },
      "cell_type": "code",
      "source": [
        "import numpy as np\n",
        "import pandas as pd\n",
        "from sklearn import datasets\n",
        "from sklearn.linear_model import LogisticRegression\n"
      ],
      "execution_count": 0,
      "outputs": []
    },
    {
      "metadata": {
        "id": "4YVYHlrUH2Te",
        "colab_type": "text"
      },
      "cell_type": "markdown",
      "source": [
        "**Cargando Base**"
      ]
    },
    {
      "metadata": {
        "id": "u8QTOGmTH5I2",
        "colab_type": "text"
      },
      "cell_type": "markdown",
      "source": [
        "iris = datasets.load_iris()"
      ]
    },
    {
      "metadata": {
        "id": "rFomhz-xFJRL",
        "colab_type": "text"
      },
      "cell_type": "markdown",
      "source": [
        "**Generando X e Y**"
      ]
    },
    {
      "metadata": {
        "id": "vLTDH1PtFIps",
        "colab_type": "code",
        "colab": {}
      },
      "cell_type": "code",
      "source": [
        "X=iris[\"data\"][:,3]  #ancho de petalo\n",
        "y=(iris[\"target\"]==2).astype(np.int)"
      ],
      "execution_count": 0,
      "outputs": []
    },
    {
      "metadata": {
        "id": "Rt2fWPZYGeoQ",
        "colab_type": "text"
      },
      "cell_type": "markdown",
      "source": [
        "**Estimando el modelo Logit**"
      ]
    },
    {
      "metadata": {
        "id": "U5Gq-wsrFO66",
        "colab_type": "code",
        "colab": {}
      },
      "cell_type": "code",
      "source": [
        "X=X.reshape(-1,1)\n",
        "y=y.reshape(-1,1)\n",
        "log_reg=LogisticRegression()\n",
        "log_reg.fit(X,y)"
      ],
      "execution_count": 0,
      "outputs": []
    },
    {
      "metadata": {
        "id": "7PQ1hLYGGheA",
        "colab_type": "text"
      },
      "cell_type": "markdown",
      "source": [
        "**Recuperando coeficientes, prediccion y probabilidad predicha**"
      ]
    },
    {
      "metadata": {
        "id": "XzU5x2KYFVxi",
        "colab_type": "code",
        "colab": {}
      },
      "cell_type": "code",
      "source": [
        "coefs=log_reg.coef_\n",
        "preds=log_reg.predict(X)\n",
        "probas=log_reg.predict_proba(X)\n"
      ],
      "execution_count": 0,
      "outputs": []
    },
    {
      "metadata": {
        "id": "XeGIVD8JIBw-",
        "colab_type": "text"
      },
      "cell_type": "markdown",
      "source": [
        "**Importando Métricas desde Sklearn**"
      ]
    },
    {
      "metadata": {
        "id": "WWFwOQo1IIRW",
        "colab_type": "text"
      },
      "cell_type": "markdown",
      "source": [
        "##Accuracy"
      ]
    },
    {
      "metadata": {
        "id": "OBVCKkmjFZUi",
        "colab_type": "code",
        "colab": {
          "base_uri": "https://localhost:8080/",
          "height": 34
        },
        "outputId": "42486a2c-8655-4881-ed75-72d41758d957"
      },
      "cell_type": "code",
      "source": [
        "from sklearn import metrics\n",
        "accuracy_score=metrics.accuracy_score(y,preds)\n",
        "print(accuracy_score)\n"
      ],
      "execution_count": 10,
      "outputs": [
        {
          "output_type": "stream",
          "text": [
            "0.96\n"
          ],
          "name": "stdout"
        }
      ]
    },
    {
      "metadata": {
        "id": "ApVe7iSBIe-k",
        "colab_type": "text"
      },
      "cell_type": "markdown",
      "source": [
        "##Precision"
      ]
    },
    {
      "metadata": {
        "id": "1HnAqEEKFlND",
        "colab_type": "code",
        "colab": {
          "base_uri": "https://localhost:8080/",
          "height": 34
        },
        "outputId": "bf332153-09fd-459d-d611-abc0ef29a454"
      },
      "cell_type": "code",
      "source": [
        "precisions=metrics.precision_score(y,preds,average=None)\n",
        "print(precisions)\n",
        "\n"
      ],
      "execution_count": 13,
      "outputs": [
        {
          "output_type": "stream",
          "text": [
            "[0.96078431 0.95833333]\n"
          ],
          "name": "stdout"
        }
      ]
    },
    {
      "metadata": {
        "id": "7D72QEpoIaVX",
        "colab_type": "text"
      },
      "cell_type": "markdown",
      "source": [
        "##Recall"
      ]
    },
    {
      "metadata": {
        "id": "izJ36M8iFgrs",
        "colab_type": "code",
        "colab": {
          "base_uri": "https://localhost:8080/",
          "height": 34
        },
        "outputId": "7df9f046-2d55-44c9-943d-29825fad697a"
      },
      "cell_type": "code",
      "source": [
        "recalls=metrics.recall_score(y,preds,average=None)\n",
        "print(recalls)\n",
        "\n"
      ],
      "execution_count": 26,
      "outputs": [
        {
          "output_type": "stream",
          "text": [
            "[0.98 0.92]\n"
          ],
          "name": "stdout"
        }
      ]
    },
    {
      "metadata": {
        "id": "5JL0_yxJGtZI",
        "colab_type": "text"
      },
      "cell_type": "markdown",
      "source": [
        "##Confusion Matrix"
      ]
    },
    {
      "metadata": {
        "id": "L9W8n3fLFei6",
        "colab_type": "code",
        "colab": {
          "base_uri": "https://localhost:8080/",
          "height": 51
        },
        "outputId": "a1476d3b-6929-4978-970d-f4a759b3871f"
      },
      "cell_type": "code",
      "source": [
        "cf=metrics.confusion_matrix(y,preds)\n",
        "print(cf)"
      ],
      "execution_count": 25,
      "outputs": [
        {
          "output_type": "stream",
          "text": [
            "[[98  2]\n",
            " [ 4 46]]\n"
          ],
          "name": "stdout"
        }
      ]
    },
    {
      "metadata": {
        "id": "bS4mtykjG0zR",
        "colab_type": "code",
        "colab": {}
      },
      "cell_type": "code",
      "source": [
        ""
      ],
      "execution_count": 0,
      "outputs": []
    },
    {
      "metadata": {
        "id": "YWXNIZoiKJPx",
        "colab_type": "text"
      },
      "cell_type": "markdown",
      "source": [
        "##All together"
      ]
    },
    {
      "metadata": {
        "id": "PCWOVS-qFqAD",
        "colab_type": "code",
        "colab": {
          "base_uri": "https://localhost:8080/",
          "height": 136
        },
        "outputId": "02b0a558-6cab-4d7e-eeb4-158b12b577f9"
      },
      "cell_type": "code",
      "source": [
        "report=metrics.classification_report(y,preds)\n",
        "print(report)"
      ],
      "execution_count": 14,
      "outputs": [
        {
          "output_type": "stream",
          "text": [
            "             precision    recall  f1-score   support\n",
            "\n",
            "          0       0.96      0.98      0.97       100\n",
            "          1       0.96      0.92      0.94        50\n",
            "\n",
            "avg / total       0.96      0.96      0.96       150\n",
            "\n"
          ],
          "name": "stdout"
        }
      ]
    },
    {
      "metadata": {
        "id": "MxVHT7xZKOUZ",
        "colab_type": "text"
      },
      "cell_type": "markdown",
      "source": [
        "##Curva de Roc"
      ]
    },
    {
      "metadata": {
        "id": "EJa54OpiFujC",
        "colab_type": "code",
        "colab": {}
      },
      "cell_type": "code",
      "source": [
        "from sklearn.metrics import roc_curve, auc\n",
        "fpr, tpr, thrs = roc_curve(y[:, 0], probas[:, 1])"
      ],
      "execution_count": 0,
      "outputs": []
    },
    {
      "metadata": {
        "id": "45P4cYRVG_H_",
        "colab_type": "text"
      },
      "cell_type": "markdown",
      "source": [
        "## Area bajo la curva"
      ]
    },
    {
      "metadata": {
        "id": "XRea0VYMFxGp",
        "colab_type": "code",
        "colab": {
          "base_uri": "https://localhost:8080/",
          "height": 34
        },
        "outputId": "04bd58d6-0beb-414d-a71e-ba1be366cc04"
      },
      "cell_type": "code",
      "source": [
        "roc_auc = auc(fpr, tpr)\n",
        "roc_auc"
      ],
      "execution_count": 28,
      "outputs": [
        {
          "output_type": "execute_result",
          "data": {
            "text/plain": [
              "0.9902000000000001"
            ]
          },
          "metadata": {
            "tags": []
          },
          "execution_count": 28
        }
      ]
    },
    {
      "metadata": {
        "id": "y1y9ha4ZGO35",
        "colab_type": "code",
        "colab": {
          "base_uri": "https://localhost:8080/",
          "height": 376
        },
        "outputId": "0a6d62cb-e6fa-4e11-d533-d27c0d447a96"
      },
      "cell_type": "code",
      "source": [
        "from sklearn.metrics import roc_curve, auc\n",
        "import matplotlib.pyplot as plt\n",
        "plt.figure()\n",
        "lw = 2\n",
        "plt.plot(fpr, tpr, color='darkorange',\n",
        "         lw=lw, label='ROC curve(area = %0.2f)' % roc_auc)\n",
        "plt.plot([0, 1], [0, 1], color='navy', lw=lw, linestyle='--')\n",
        "plt.xlim([0.0, 1.0])\n",
        "plt.ylim([0.0, 1.05])\n",
        "plt.xlabel('False Positive Rate')\n",
        "plt.ylabel('True Positive Rate')\n",
        "plt.title('Receiver operating characteristic example')\n",
        "plt.legend(loc=\"lower right\")\n",
        "plt.show()"
      ],
      "execution_count": 29,
      "outputs": [
        {
          "output_type": "display_data",
          "data": {
            "image/png": "[encoded data removed]",
            "text/plain": [
              "<matplotlib.figure.Figure at 0x7efc0cee9e90>"
            ]
          },
          "metadata": {
            "tags": []
          }
        }
      ]
    }
  ]
}