{
  "nbformat": 4,
  "nbformat_minor": 0,
  "metadata": {
    "colab": {
      "name": "numpy_intro.ipynb",
      "version": "0.3.2",
      "provenance": [],
      "include_colab_link": true
    }
  },
  "cells": [
    {
      "cell_type": "markdown",
      "metadata": {
        "id": "view-in-github",
        "colab_type": "text"
      },
      "source": [
        "[View in Colaboratory](https://colab.research.google.com/github/alvarogutyerrez/alvarogutyerrez/blob/master/numpy_intro.ipynb)"
      ]
    },
    {
      "metadata": {
        "id": "jHCa1KVnGWwj",
        "colab_type": "text"
      },
      "cell_type": "markdown",
      "source": [
        "# Business Intelligence para las Finanzas\n",
        "**Magister en Finanzas**\n",
        "\n",
        "**Profesor: David Díaz **\n",
        "\n",
        "**Ayudante: Álvaro Gutiérrez**\n",
        "\n",
        "---\n",
        "\n",
        "#Sesión #1:  Intro a Numpy"
      ]
    },
    {
      "metadata": {
        "id": "DeoWkxl2Glsu",
        "colab_type": "text"
      },
      "cell_type": "markdown",
      "source": [
        "En esta sesión aprenderemos como ejecutar operaciones básicas del Álgebra Lineal, haciendo uso de librerías de Python. Aprenderemos la diferencia entre los objetos de _pandas_ y _numpy_. De este modo, haciendo uso de operaciones matriciales podremos empezar a trabajar nuestras bases de datos.\n",
        "\n",
        "Lo primero que debemos notar es que, a diferencia de otros sofwares como $Stata$ o $Matlab$, Python funciona con librerías, las que deben ser cargadas al inicio de nuestro script. En esta sesión haremos uso de las dos librerías mencionadas anteriormente.\n",
        "\n",
        "Algo importante antes de comenzar, es que debemos resolver ciertos problemas de compatibilidad entre las versiones 2.7 y 3.2 de Python. En particular, el primer argumeto _division_ nos permitirá que cuando computemos $\\frac{1}{2}$ el resultado sea $0,5$ y no $0$, error muy común (pero dificil de pesquisar) al iniciar con el software.  El segundo _print_function_ nos permite poder imprimir en la consola ciertos resultados. Finalmente el último nos permitirá operar con caracteres acentuados (e.g, ñ,ó,í,ü...).\n",
        "\n",
        "Luego cargaremos   _numpy_ con las con la abreviacion _np_. (Que es lo que se ve usualmente en los foros )\n"
      ]
    },
    {
      "metadata": {
        "id": "LW9nxObzG_Im",
        "colab_type": "code",
        "colab": {}
      },
      "cell_type": "code",
      "source": [
        "from __future__ import division, print_function, unicode_literals\n",
        "import numpy as np"
      ],
      "execution_count": 0,
      "outputs": []
    },
    {
      "metadata": {
        "id": "SZkrfpUlHWDd",
        "colab_type": "text"
      },
      "cell_type": "markdown",
      "source": [
        "## Array\n",
        "Lo primero que aprenderemos será a usar un array (arreglo). "
      ]
    },
    {
      "metadata": {
        "id": "z1gN13PFF5AG",
        "colab_type": "code",
        "colab": {
          "base_uri": "https://localhost:8080/",
          "height": 34
        },
        "outputId": "6fddb296-8263-45d5-cf87-d9e532197c29"
      },
      "cell_type": "code",
      "source": [
        "array_simple = np.array([1,2,3,4])\n",
        "array_simple"
      ],
      "execution_count": 29,
      "outputs": [
        {
          "output_type": "execute_result",
          "data": {
            "text/plain": [
              "array([1, 2, 3, 4])"
            ]
          },
          "metadata": {
            "tags": []
          },
          "execution_count": 29
        }
      ]
    },
    {
      "metadata": {
        "id": "peMca_-gIdG0",
        "colab_type": "text"
      },
      "cell_type": "markdown",
      "source": [
        "Esto también podría haber sido creado con plain python, de la forma"
      ]
    },
    {
      "metadata": {
        "id": "eVe80dapIsYZ",
        "colab_type": "code",
        "colab": {
          "base_uri": "https://localhost:8080/",
          "height": 34
        },
        "outputId": "ef6f87f5-a63e-44b2-b4dc-f9853adc040e"
      },
      "cell_type": "code",
      "source": [
        "array_plain_python = [1,2,3,4]\n",
        "array_plain_python"
      ],
      "execution_count": 30,
      "outputs": [
        {
          "output_type": "execute_result",
          "data": {
            "text/plain": [
              "[1, 2, 3, 4]"
            ]
          },
          "metadata": {
            "tags": []
          },
          "execution_count": 30
        }
      ]
    },
    {
      "metadata": {
        "id": "jw7lCmoRIxu9",
        "colab_type": "text"
      },
      "cell_type": "markdown",
      "source": [
        "Los que aparentemente se ven iguales, pero su diferencia es dramáticamente importante a la hora de proceder mediante numeros numéricos debido a que numpy ya tiene definidos toda la operatoria matricial que podríamos llegar a necesitar. Las cuales veremos acontinuación, pero antes de proceder debemos aprender lo que es un arange."
      ]
    },
    {
      "metadata": {
        "id": "iy7uVK8uJwWp",
        "colab_type": "text"
      },
      "cell_type": "markdown",
      "source": [
        "Otra forma con la cual podemos crear una serie de números con array es mediante la estructura **np.array([start],stop,[step])**. Con este generaremos una secuencia de numeros del 1 al 9 (recordar que python comienza a contar desde el cero) avanzando gradualmente de uno en uno."
      ]
    },
    {
      "metadata": {
        "id": "7mIyWf89Jwm5",
        "colab_type": "code",
        "colab": {
          "base_uri": "https://localhost:8080/",
          "height": 34
        },
        "outputId": "39310dcb-56eb-4333-ce12-0f65445be992"
      },
      "cell_type": "code",
      "source": [
        "array_1_10 = np.arange(1,10,1)\n",
        "array_1_10"
      ],
      "execution_count": 31,
      "outputs": [
        {
          "output_type": "execute_result",
          "data": {
            "text/plain": [
              "array([1, 2, 3, 4, 5, 6, 7, 8, 9])"
            ]
          },
          "metadata": {
            "tags": []
          },
          "execution_count": 31
        }
      ]
    },
    {
      "metadata": {
        "id": "VYApTwiCJU_1",
        "colab_type": "text"
      },
      "cell_type": "markdown",
      "source": [
        "##Arange \n",
        "Este objeto nos permite darle forma a la secuencia de números que acabamos de crear. Por ejemplo, podemos crear una matriz de 3x3 con los 9 dígitos creados anteriormente."
      ]
    },
    {
      "metadata": {
        "id": "-xWPQOmAJSTN",
        "colab_type": "code",
        "colab": {
          "base_uri": "https://localhost:8080/",
          "height": 68
        },
        "outputId": "e1c723a9-a75b-403b-afff-97da0ee91510"
      },
      "cell_type": "code",
      "source": [
        "arange_33  = array_1_10.reshape(3,3)\n",
        "arange_33\n"
      ],
      "execution_count": 32,
      "outputs": [
        {
          "output_type": "execute_result",
          "data": {
            "text/plain": [
              "array([[1, 2, 3],\n",
              "       [4, 5, 6],\n",
              "       [7, 8, 9]])"
            ]
          },
          "metadata": {
            "tags": []
          },
          "execution_count": 32
        }
      ]
    },
    {
      "metadata": {
        "id": "zjurj6yvKsCL",
        "colab_type": "text"
      },
      "cell_type": "markdown",
      "source": [
        "Del mismo modo, podríamos crear una matriz de 3x4 en una sola linea de la siguiente forma."
      ]
    },
    {
      "metadata": {
        "id": "-2U05tGgKnR7",
        "colab_type": "code",
        "colab": {
          "base_uri": "https://localhost:8080/",
          "height": 68
        },
        "outputId": "19f9733c-cc6b-49bb-ccf7-c12e21933e77"
      },
      "cell_type": "code",
      "source": [
        "arange_34  = np.arange(1, 13, 1).reshape(3,4)\n",
        "arange_34"
      ],
      "execution_count": 33,
      "outputs": [
        {
          "output_type": "execute_result",
          "data": {
            "text/plain": [
              "array([[ 1,  2,  3,  4],\n",
              "       [ 5,  6,  7,  8],\n",
              "       [ 9, 10, 11, 12]])"
            ]
          },
          "metadata": {
            "tags": []
          },
          "execution_count": 33
        }
      ]
    },
    {
      "metadata": {
        "id": "pCMsYIfjLNvl",
        "colab_type": "text"
      },
      "cell_type": "markdown",
      "source": [
        "## Extraccion de Datos por Coordenadas\n",
        "\n",
        "Podemos extraer información desde nuestros aray ocupando el operador **aray[ x ,  y ]**. En el cual $X$ es la fila y $Y$ la columna. Abajo se listan una serie de ejemplos "
      ]
    },
    {
      "metadata": {
        "id": "pI24WHamMJGZ",
        "colab_type": "code",
        "colab": {
          "base_uri": "https://localhost:8080/",
          "height": 34
        },
        "outputId": "9a36d19f-83b2-475c-b2ae-9d0dd56bf2ba"
      },
      "cell_type": "code",
      "source": [
        "#Elemento en la coordenada 0,0 (Primer elemento)\n",
        "elemento_0_0 = arange_34[0 , 0 ]\n",
        "elemento_0_0"
      ],
      "execution_count": 34,
      "outputs": [
        {
          "output_type": "execute_result",
          "data": {
            "text/plain": [
              "1"
            ]
          },
          "metadata": {
            "tags": []
          },
          "execution_count": 34
        }
      ]
    },
    {
      "metadata": {
        "id": "RFDH8cyaMTKU",
        "colab_type": "code",
        "colab": {
          "base_uri": "https://localhost:8080/",
          "height": 34
        },
        "outputId": "aaee9644-c76d-4d06-b45e-c8e389cf4302"
      },
      "cell_type": "code",
      "source": [
        "#Elemento útima fila y última columna \n",
        "#El menos uno denota el último elemento, el menos dos el penúltimo y así sucesivamente...\n",
        "last_element = arange_34[-1 , -1 ]\n",
        "last_element"
      ],
      "execution_count": 35,
      "outputs": [
        {
          "output_type": "execute_result",
          "data": {
            "text/plain": [
              "12"
            ]
          },
          "metadata": {
            "tags": []
          },
          "execution_count": 35
        }
      ]
    },
    {
      "metadata": {
        "id": "sgg_ghnJK_zp",
        "colab_type": "code",
        "colab": {
          "base_uri": "https://localhost:8080/",
          "height": 34
        },
        "outputId": "101d510e-5f66-43ce-c37f-128b41baa8b2"
      },
      "cell_type": "code",
      "source": [
        "#Primera columna de la matriz 3x4\n",
        "col1 = arange_34[: , 0 ]\n",
        "print(col1)\n"
      ],
      "execution_count": 36,
      "outputs": [
        {
          "output_type": "stream",
          "text": [
            "[1 5 9]\n"
          ],
          "name": "stdout"
        }
      ]
    },
    {
      "metadata": {
        "id": "rx5aLWLZMC0j",
        "colab_type": "code",
        "colab": {
          "base_uri": "https://localhost:8080/",
          "height": 34
        },
        "outputId": "e966d9f9-c21b-420b-bb1a-1eb8b4ebd79f"
      },
      "cell_type": "code",
      "source": [
        "#Primera fila de la matriz 3x4\n",
        "fila1 = arange_34[0,:]\n",
        "(print(fila1))"
      ],
      "execution_count": 37,
      "outputs": [
        {
          "output_type": "stream",
          "text": [
            "[1 2 3 4]\n"
          ],
          "name": "stdout"
        }
      ]
    },
    {
      "metadata": {
        "id": "Q-mRqGWzMo69",
        "colab_type": "text"
      },
      "cell_type": "markdown",
      "source": [
        ""
      ]
    },
    {
      "metadata": {
        "id": "nT7M3xyyLAcC",
        "colab_type": "text"
      },
      "cell_type": "markdown",
      "source": [
        "## Operaciones Matriciales Elementales\n",
        "\n",
        "Numpy cuenta con una gama de operaciones numéricas incontables, en este apartado listaremos las más comunes.\n",
        "\n",
        "\n"
      ]
    },
    {
      "metadata": {
        "id": "GGbArYtHNM8l",
        "colab_type": "code",
        "colab": {
          "base_uri": "https://localhost:8080/",
          "height": 68
        },
        "outputId": "d0a94334-d0d5-42dd-b820-dab338014c2b"
      },
      "cell_type": "code",
      "source": [
        "#Producto punto\n",
        "dot_product = arange_33[0,:].dot(arange_34[:,0])\n",
        "print(arange_33[0,:])\n",
        "print(arange_34[:,0])\n",
        "print(dot_product)"
      ],
      "execution_count": 38,
      "outputs": [
        {
          "output_type": "stream",
          "text": [
            "[1 2 3]\n",
            "[1 5 9]\n",
            "38\n"
          ],
          "name": "stdout"
        }
      ]
    },
    {
      "metadata": {
        "id": "gZFWb9HjM5QF",
        "colab_type": "code",
        "colab": {
          "base_uri": "https://localhost:8080/",
          "height": 221
        },
        "outputId": "4abc6eeb-64c1-4913-f498-d7d38acbe383"
      },
      "cell_type": "code",
      "source": [
        "#Multiplicacion\n",
        "mult = arange_33.dot(arange_34)\n",
        "print('Primera matriz')\n",
        "print(arange_33)\n",
        "print('Segunda matriz')\n",
        "print(arange_34)\n",
        "print('Producto')\n",
        "\n",
        "mult"
      ],
      "execution_count": 39,
      "outputs": [
        {
          "output_type": "stream",
          "text": [
            "Primera matriz\n",
            "[[1 2 3]\n",
            " [4 5 6]\n",
            " [7 8 9]]\n",
            "Segunda matriz\n",
            "[[ 1  2  3  4]\n",
            " [ 5  6  7  8]\n",
            " [ 9 10 11 12]]\n",
            "Producto\n"
          ],
          "name": "stdout"
        },
        {
          "output_type": "execute_result",
          "data": {
            "text/plain": [
              "array([[ 38,  44,  50,  56],\n",
              "       [ 83,  98, 113, 128],\n",
              "       [128, 152, 176, 200]])"
            ]
          },
          "metadata": {
            "tags": []
          },
          "execution_count": 39
        }
      ]
    },
    {
      "metadata": {
        "id": "SxwZ_FnqNAwG",
        "colab_type": "code",
        "colab": {
          "base_uri": "https://localhost:8080/",
          "height": 85
        },
        "outputId": "c2237cb0-dc69-4e3c-cd34-6d1d9db1dc9b"
      },
      "cell_type": "code",
      "source": [
        "#Traspuesto\n",
        "trasp = np.transpose(arange_34)\n",
        "trasp"
      ],
      "execution_count": 40,
      "outputs": [
        {
          "output_type": "execute_result",
          "data": {
            "text/plain": [
              "array([[ 1,  5,  9],\n",
              "       [ 2,  6, 10],\n",
              "       [ 3,  7, 11],\n",
              "       [ 4,  8, 12]])"
            ]
          },
          "metadata": {
            "tags": []
          },
          "execution_count": 40
        }
      ]
    },
    {
      "metadata": {
        "id": "f6mMwzsoN6lK",
        "colab_type": "text"
      },
      "cell_type": "markdown",
      "source": [
        "## Looping (for)\n",
        "\n",
        "En este apartado mostratemos una forma sencilla de recorrer todos los elementos de una matriz mediante un loop doble ( for dentro de for). Para realizar esto necesitamos una serie de cosas:\n",
        "\n",
        "1.  Un loop para las filas, indexado con el subindice $i$.\n",
        "2. Un loop para las columnas indexado con el subindice $j$.\n",
        "3. La cantidad de filas y columnas de la matriz, las cuales determinarán la amplitud del loop.\n",
        "\n",
        "En términos teóricos tendremos que queremos recorrer el arreglo\n",
        "\n",
        "\\begin{bmatrix}\n",
        "    x_{12}       & x_{12} & x_{13} & x_{14} \\\\\n",
        "    x_{21}       & x_{22} & x_{23} &  x_{24} \\\\\n",
        "    x_{d1}       & x_{d2} & x_{d3} &  x_{34}\n",
        "\\end{bmatrix} \n",
        "\n",
        "El que en nuestro caso tiene la forma \n",
        "\n",
        "\\begin{bmatrix}\n",
        "   1       & 2& 3 & 4 \\\\\n",
        "    5 & 6 & 7 &  8 \\\\\n",
        "9    & 10 & 11 & 12\n",
        "\\end{bmatrix} \n",
        "\n",
        "De este modo $i$ estará definido desde el $1$ al $3$, dado que tenemos 3 filas y $j$ lo estará desde el $1$ al $4$ ya que tenemos 4 columnas.\n",
        "\n",
        "De este modo solamente nos queda recuperar el punto tres de la lista anterior. El cual nos dice que debemos recuperar la cantidad de filas y columnas. Esto se hará como sigue.\n",
        "\n",
        "\n",
        "\n",
        "\n"
      ]
    },
    {
      "metadata": {
        "id": "kun5ftUCSEKJ",
        "colab_type": "code",
        "colab": {
          "base_uri": "https://localhost:8080/",
          "height": 51
        },
        "outputId": "4b744904-1b1a-4ac8-cd4f-a4b3535c81ef"
      },
      "cell_type": "code",
      "source": [
        "filas_total= arange_34.shape[0] #filas \n",
        "print(filas_total)\n",
        "columas_total = arange_34.shape[1] #columnas\n",
        "print(columas_total)"
      ],
      "execution_count": 41,
      "outputs": [
        {
          "output_type": "stream",
          "text": [
            "3\n",
            "4\n"
          ],
          "name": "stdout"
        }
      ]
    },
    {
      "metadata": {
        "id": "t8gPem-1SD_-",
        "colab_type": "text"
      },
      "cell_type": "markdown",
      "source": [
        "## Loop de prueba (Recorrer toda la matriz)\n",
        "\n",
        "Con los ingredientes predefinidos en el cuadro anterior ya podemos construir un loop sencillo que nos muestre todos los elementos contenidos en nuestra matriz. Este se construirá ocupando el comando **range** el cual nos permite desplegar una serie de números con la sitaxis range(inicio,final). En donde, en este caso, como queremos recorrer _toda_ la matriz, partimos desde el cero hasta el número total de filas y columnas, respectivamente.\n",
        "\n",
        "Luego de esto, ejecutamos el comando print del elemento [$i$,$j$] que no es nada más que el elemento contenido en la posición $i$,$j$ tal como vimos anteriormente.*texto en cursiva*"
      ]
    },
    {
      "metadata": {
        "id": "XyvR_H48Su9k",
        "colab_type": "code",
        "colab": {
          "base_uri": "https://localhost:8080/",
          "height": 221
        },
        "outputId": "1572a73c-622c-4034-beaf-01e4323a06c5"
      },
      "cell_type": "code",
      "source": [
        "'''for de inspeccion '''\n",
        "for i in range(0,filas_total ):\n",
        "    for j in range(0,columas_total ):\n",
        "        print(arange1_34[i , j])"
      ],
      "execution_count": 43,
      "outputs": [
        {
          "output_type": "stream",
          "text": [
            "1\n",
            "2\n",
            "3\n",
            "4\n",
            "5\n",
            "6\n",
            "7\n",
            "8\n",
            "9\n",
            "10\n",
            "11\n",
            "12\n"
          ],
          "name": "stdout"
        }
      ]
    },
    {
      "metadata": {
        "id": "Wpt9x5uOThHh",
        "colab_type": "text"
      },
      "cell_type": "markdown",
      "source": [
        "## Loop de práctica.\n",
        "#### Réplica de la multiplicacion de matrices\n",
        "\n",
        "Ahora recordando un poco de nuestras clases de álgebra lineal, sabemos que la multiplicacion de matrices no es más que una serie de productos punto a lo largo de las coordenadas de la matriz.\n",
        "\n",
        "$$ \n",
        "\\begin{bmatrix}\n",
        "    x_{1,1}  &      x_{1,2} &     x_{1,3}      \\\\\n",
        "   x_{2,1}  &      x_{2,2} &     x_{2,3}  \\\\\n",
        "      x_{3,1}  &      x_{3,2} &     x_{3,3} \n",
        "\\end{bmatrix}\n",
        "* \n",
        "\\begin{bmatrix}\n",
        "   y_{1,1}  &      y_{1,2} &     y_{1,3} &  y_{1,4}   \\\\\n",
        "   y_{2,1}  &      y_{2,2} &     y_{2,3} & y_{2,4}   \\\\\n",
        "   y_{3,1}  &      y_{3,2} &     y_{3,3} & y_{3,4}   \n",
        "\\end{bmatrix} \n",
        "=\n",
        "\\begin{bmatrix}  \n",
        "  (x_{1,1}*    y_{1,1}  + x_{1,2}* y_{2,1}  + x_{1,3}* y_{3,1})    &       (x_{1,1}*    y_{1,2}  + x_{1,2}* y_{2,2}  + x_{1,3}* y_{3,2}  )& ( x_{1,1}*    y_{1,3}  + x_{1,2}* y_{2,3}  + x_{1,3}* y_{3,3}) &  (x_{1,1}*    y_{1,4}  + x_{1,2}* y_{2,4}  + x_{1,3}* y_{3,4}  )  \\\\ \n",
        "  (x_{2,1}*    y_{1,1}  + x_{2,2}* y_{2,1}  + x_{2,3}* y_{3,1})    &       (x_{2,1}*    y_{1,2}  + x_{2,2}* y_{2,2}  + x_{2,3}* y_{3,2}  )& ( x_{2,1}*    y_{1,3}  + x_{2,2}* y_{2,3}  + x_{2,3}* y_{3,3}) &  (x_{2,1}*    y_{1,4}  + x_{2,2}* y_{2,4}  + x_{2,3}* y_{3,4}  )  \\\\\n",
        "    (x_{3,1}*    y_{1,1}  + x_{3,2}* y_{2,1}  + x_{3,3}* y_{3,1})    &       (x_{3,1}*    y_{1,2}  + x_{3,2}* y_{2,2}  + x_{3,3}* y_{3,2}  )& ( x_{3,1}*    y_{1,3}  + x_{3,2}* y_{2,3}  + x_{3,3}* y_{3,3}) &  (x_{3,1}*    y_{1,4}  + x_{3,2}* y_{2,4}  + x_{3,3}* y_{3,4}  )  \\\\\n",
        "\\end{bmatrix} \n",
        "$$\n",
        "\n",
        "\\\\\n",
        "\n",
        "Lo que si miramos con cuidado, no es más que un producto punto que recorre en filas y columnas toda la matriz. Esto es justamente lo que programaremos en un for dentro de un for. Ocuparemos la estructura definida previamente para realizar el producto punto en filas y columnas.\n",
        "\n"
      ]
    },
    {
      "metadata": {
        "id": "91P2JbaqW2XT",
        "colab_type": "code",
        "colab": {}
      },
      "cell_type": "code",
      "source": [
        ""
      ],
      "execution_count": 0,
      "outputs": []
    },
    {
      "metadata": {
        "id": "D3wrpJgyIcr9",
        "colab_type": "code",
        "colab": {
          "base_uri": "https://localhost:8080/",
          "height": 153
        },
        "outputId": "096eb2f2-f814-471f-90ab-d3d47a2cc4ce"
      },
      "cell_type": "code",
      "source": [
        "#Generamos una matriz de ceros donde almacenaremos los resultados\n",
        "producto_loop= np.zeros([3,4])\n",
        "#Inicio del for para filas\n",
        "for i in range(0,filas_total ):\n",
        "    #Inicio del for para columnas\n",
        "    for j in range(0,columas_total ):\n",
        "        #Extraccion de las filas\n",
        "        rows=arange_33[i,:]\n",
        "        #Extraccion de las columnas\n",
        "        cols=arange_34[:,j] \n",
        "        #Producto punto entre ambas.\n",
        "        producto_loop[i,j] = rows.dot(cols)\n",
        "                    \n",
        "      \n",
        "     \n",
        "print(producto_loop)\n",
        "print()\n",
        "print('Para comprobar, revisemos la multiplicacion hecha mediante la librería numpy')\n",
        "print(mult) "
      ],
      "execution_count": 49,
      "outputs": [
        {
          "output_type": "stream",
          "text": [
            "[[ 38.  44.  50.  56.]\n",
            " [ 83.  98. 113. 128.]\n",
            " [128. 152. 176. 200.]]\n",
            "\n",
            "Para comprobar, revisemos la multiplicacion hecha mediante la librería numpy\n",
            "[[ 38  44  50  56]\n",
            " [ 83  98 113 128]\n",
            " [128 152 176 200]]\n"
          ],
          "name": "stdout"
        }
      ]
    },
    {
      "metadata": {
        "id": "liVskQOMXtE7",
        "colab_type": "text"
      },
      "cell_type": "markdown",
      "source": [
        "##                            _**voilà!**_\n",
        "     "
      ]
    }
  ]
}