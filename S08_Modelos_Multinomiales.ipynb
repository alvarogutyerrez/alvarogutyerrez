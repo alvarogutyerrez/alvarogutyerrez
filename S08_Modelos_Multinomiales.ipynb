{
  "nbformat": 4,
  "nbformat_minor": 0,
  "metadata": {
    "colab": {
      "name": "S08_Modelos_Multinomiales.ipynb",
      "version": "0.3.2",
      "provenance": [],
      "include_colab_link": true
    }
  },
  "cells": [
    {
      "cell_type": "markdown",
      "metadata": {
        "id": "view-in-github",
        "colab_type": "text"
      },
      "source": [
        "<a href=\"https://colab.research.google.com/github/alvarogutyerrez/alvarogutyerrez/blob/master/S08_Modelos_Multinomiales.ipynb\" target=\"_parent\"><img src=\"https://colab.research.google.com/assets/colab-badge.svg\" alt=\"Open In Colab\"/></a>"
      ]
    },
    {
      "metadata": {
        "id": "JhXNFolg2eb3",
        "colab_type": "code",
        "colab": {
          "base_uri": "https://localhost:8080/",
          "height": 401
        },
        "outputId": "b61fc085-b4ef-431d-f46f-1113bcf458c2"
      },
      "cell_type": "code",
      "source": [
        "!wget https://www.dropbox.com/s/82dl9cn3p59bxuv/data_with_economic_stage.txt\n",
        "!pip install xlrd"
      ],
      "execution_count": 7,
      "outputs": [
        {
          "output_type": "stream",
          "text": [
            "--2018-10-17 16:24:09--  https://www.dropbox.com/s/82dl9cn3p59bxuv/data_with_economic_stage.txt\n",
            "Resolving www.dropbox.com (www.dropbox.com)... 162.125.9.1, 2620:100:601f:1::a27d:901\n",
            "Connecting to www.dropbox.com (www.dropbox.com)|162.125.9.1|:443... connected.\n",
            "HTTP request sent, awaiting response... 301 Moved Permanently\n",
            "Location: /s/raw/82dl9cn3p59bxuv/data_with_economic_stage.txt [following]\n",
            "--2018-10-17 16:24:09--  https://www.dropbox.com/s/raw/82dl9cn3p59bxuv/data_with_economic_stage.txt\n",
            "Reusing existing connection to www.dropbox.com:443.\n",
            "HTTP request sent, awaiting response... 302 Found\n",
            "Location: https://uc24cec70c58800b721fc08ed242.dl.dropboxusercontent.com/cd/0/inline/ATMM9g2oXEBEqYJF4eWLpjV8ntL-SG_t94wA3IXZFX2U_RMDLuN8duCxVD35A6tGcYbQQ58XWuMPrl_GlrkueBHj33MY6jYofPJbv3DOOIYMM_mgDZOvic9re8MBKsAIWKx6AtBcE48Y0se1_ln8mLoHtfqWU1DOGxaJr6JFq5r3dXy2p1uEFFZ7zRUSP6eixnGCIm_w0RoSnlJPNhaRpVr6/file [following]\n",
            "--2018-10-17 16:24:10--  https://uc24cec70c58800b721fc08ed242.dl.dropboxusercontent.com/cd/0/inline/ATMM9g2oXEBEqYJF4eWLpjV8ntL-SG_t94wA3IXZFX2U_RMDLuN8duCxVD35A6tGcYbQQ58XWuMPrl_GlrkueBHj33MY6jYofPJbv3DOOIYMM_mgDZOvic9re8MBKsAIWKx6AtBcE48Y0se1_ln8mLoHtfqWU1DOGxaJr6JFq5r3dXy2p1uEFFZ7zRUSP6eixnGCIm_w0RoSnlJPNhaRpVr6/file\n",
            "Resolving uc24cec70c58800b721fc08ed242.dl.dropboxusercontent.com (uc24cec70c58800b721fc08ed242.dl.dropboxusercontent.com)... 162.125.9.6, 2620:100:601f:6::a27d:906\n",
            "Connecting to uc24cec70c58800b721fc08ed242.dl.dropboxusercontent.com (uc24cec70c58800b721fc08ed242.dl.dropboxusercontent.com)|162.125.9.6|:443... connected.\n",
            "HTTP request sent, awaiting response... 200 OK\n",
            "Length: 111694 (109K) [text/plain]\n",
            "Saving to: ‘data_with_economic_stage.txt.1’\n",
            "\n",
            "data_with_economic_ 100%[===================>] 109.08K  --.-KB/s    in 0.04s   \n",
            "\n",
            "2018-10-17 16:24:10 (2.56 MB/s) - ‘data_with_economic_stage.txt.1’ saved [111694/111694]\n",
            "\n",
            "Requirement already satisfied: xlrd in /usr/local/lib/python2.7/dist-packages (1.1.0)\n"
          ],
          "name": "stdout"
        }
      ]
    },
    {
      "metadata": {
        "id": "SmH71nbw2-1R",
        "colab_type": "text"
      },
      "cell_type": "markdown",
      "source": [
        "##Preliminares\n",
        "\n",
        "Generacion de la data"
      ]
    },
    {
      "metadata": {
        "id": "GtdyB3A223fa",
        "colab_type": "code",
        "colab": {}
      },
      "cell_type": "code",
      "source": [
        "import pandas as pd\n",
        "import numpy as np\n",
        "from sklearn.model_selection import train_test_split\n",
        "\n",
        "\n",
        "data=pd.read_csv('data_with_economic_stage.txt',sep='\\t')\n",
        "y=data['economic_stage']\n",
        "x=data.iloc[:,2:-2]\n",
        "y.describe()\n",
        "X_train, X_test, y_train, y_test = train_test_split(x, y, test_size=0.50)"
      ],
      "execution_count": 0,
      "outputs": []
    },
    {
      "metadata": {
        "id": "hC-8LD8t289x",
        "colab_type": "text"
      },
      "cell_type": "markdown",
      "source": [
        "## Cargando Modelos"
      ]
    },
    {
      "metadata": {
        "id": "b-lzbUSl29UR",
        "colab_type": "code",
        "colab": {}
      },
      "cell_type": "code",
      "source": [
        "from sklearn.metrics import classification_report\n",
        "from sklearn.metrics import confusion_matrix\n",
        "from sklearn.linear_model import LogisticRegression"
      ],
      "execution_count": 0,
      "outputs": []
    },
    {
      "metadata": {
        "id": "3inos9BE7Soo",
        "colab_type": "text"
      },
      "cell_type": "markdown",
      "source": [
        ""
      ]
    },
    {
      "metadata": {
        "id": "HCi4b9_G3WCQ",
        "colab_type": "text"
      },
      "cell_type": "markdown",
      "source": [
        "# One versus Rest con Regresión Logistica (LR)"
      ]
    },
    {
      "metadata": {
        "id": "QZDoidTE3O6h",
        "colab_type": "code",
        "colab": {}
      },
      "cell_type": "code",
      "source": [
        "logistic_ovr=LogisticRegression(multi_class='ovr',penalty='l1')\n",
        "logistic_ovr.fit(X_train,y_train)\n",
        "\n",
        "coeficientes=pd.DataFrame(logistic_ovr.coef_)\n",
        "ctes=pd.DataFrame(logistic_ovr.intercept_)\n",
        "\n",
        "y_pred_train=np.asarray(logistic_ovr.predict(X_train),dtype='str')\n",
        "y_pred_test=np.asarray(logistic_ovr.predict(X_test),dtype='str')\n",
        "\n",
        "y_proba_train=logistic_ovr.predict_proba(X_train)\n",
        "y_proba_test=logistic_ovr.predict_proba(X_test)\n"
      ],
      "execution_count": 0,
      "outputs": []
    },
    {
      "metadata": {
        "id": "gzfsA2I03kZw",
        "colab_type": "code",
        "colab": {
          "base_uri": "https://localhost:8080/",
          "height": 208
        },
        "outputId": "f71f8370-e90b-454f-a4a0-2e0cae0c0631"
      },
      "cell_type": "code",
      "source": [
        "print(classification_report(y_train, y_pred_train))\n",
        "confusion_matrix(y_train, y_pred_train)\n"
      ],
      "execution_count": 11,
      "outputs": [
        {
          "output_type": "stream",
          "text": [
            "             precision    recall  f1-score   support\n",
            "\n",
            "  cluster-1       0.97      1.00      0.98       208\n",
            "  cluster-2       1.00      0.67      0.80        15\n",
            "  cluster-3       1.00      0.82      0.90        11\n",
            "\n",
            "avg / total       0.97      0.97      0.97       234\n",
            "\n"
          ],
          "name": "stdout"
        },
        {
          "output_type": "execute_result",
          "data": {
            "text/plain": [
              "array([[208,   0,   0],\n",
              "       [  5,  10,   0],\n",
              "       [  2,   0,   9]])"
            ]
          },
          "metadata": {
            "tags": []
          },
          "execution_count": 11
        }
      ]
    },
    {
      "metadata": {
        "id": "OaFxPGOi3oFJ",
        "colab_type": "code",
        "colab": {
          "base_uri": "https://localhost:8080/",
          "height": 208
        },
        "outputId": "470abc3b-3cd4-47db-e125-8701aa4fcfdb"
      },
      "cell_type": "code",
      "source": [
        "print(classification_report(y_test, y_pred_test))\n",
        "confusion_matrix(y_test, y_pred_test)"
      ],
      "execution_count": 12,
      "outputs": [
        {
          "output_type": "stream",
          "text": [
            "             precision    recall  f1-score   support\n",
            "\n",
            "  cluster-1       0.96      0.98      0.97       202\n",
            "  cluster-2       0.75      0.65      0.70        23\n",
            "  cluster-3       1.00      0.89      0.94         9\n",
            "\n",
            "avg / total       0.94      0.94      0.94       234\n",
            "\n"
          ],
          "name": "stdout"
        },
        {
          "output_type": "execute_result",
          "data": {
            "text/plain": [
              "array([[197,   5,   0],\n",
              "       [  8,  15,   0],\n",
              "       [  1,   0,   8]])"
            ]
          },
          "metadata": {
            "tags": []
          },
          "execution_count": 12
        }
      ]
    },
    {
      "metadata": {
        "id": "TOz7x9bH3veg",
        "colab_type": "text"
      },
      "cell_type": "markdown",
      "source": [
        "#One Versus Rest con sklearn.multiclass"
      ]
    },
    {
      "metadata": {
        "id": "wb1tuu3w3zD_",
        "colab_type": "code",
        "colab": {}
      },
      "cell_type": "code",
      "source": [
        "from sklearn.multiclass import OneVsRestClassifier\n",
        "from sklearn.linear_model import LogisticRegression\n"
      ],
      "execution_count": 0,
      "outputs": []
    },
    {
      "metadata": {
        "id": "2yepMRPr32aw",
        "colab_type": "code",
        "colab": {}
      },
      "cell_type": "code",
      "source": [
        "clasif_ovr=OneVsRestClassifier(LogisticRegression(penalty='l1'))\n",
        "clasif_ovr.fit(X_train,y_train)\n",
        "\n",
        "coeficientes=pd.DataFrame(clasif_ovr.coef_)\n",
        "ctes=pd.DataFrame(clasif_ovr.intercept_)\n",
        "\n",
        "y_pred_train=np.asarray(clasif_ovr.predict(X_train),dtype='str')\n",
        "y_pred_test=np.asarray(clasif_ovr.predict(X_test),dtype='str')\n",
        "\n",
        "y_proba_train=clasif_ovr.predict_proba(X_train)\n",
        "y_proba_test=clasif_ovr.predict_proba(X_test)\n"
      ],
      "execution_count": 0,
      "outputs": []
    },
    {
      "metadata": {
        "id": "LyESlU8s35bg",
        "colab_type": "code",
        "colab": {
          "base_uri": "https://localhost:8080/",
          "height": 208
        },
        "outputId": "bd780928-85e3-420a-da9b-b63d1f9ccf33"
      },
      "cell_type": "code",
      "source": [
        "print(classification_report(y_train, y_pred_train))\n",
        "confusion_matrix(y_train, y_pred_train)\n",
        "\n"
      ],
      "execution_count": 15,
      "outputs": [
        {
          "output_type": "stream",
          "text": [
            "             precision    recall  f1-score   support\n",
            "\n",
            "  cluster-1       0.97      1.00      0.99       208\n",
            "  cluster-2       1.00      0.73      0.85        15\n",
            "  cluster-3       1.00      0.82      0.90        11\n",
            "\n",
            "avg / total       0.98      0.97      0.97       234\n",
            "\n"
          ],
          "name": "stdout"
        },
        {
          "output_type": "execute_result",
          "data": {
            "text/plain": [
              "array([[208,   0,   0],\n",
              "       [  4,  11,   0],\n",
              "       [  2,   0,   9]])"
            ]
          },
          "metadata": {
            "tags": []
          },
          "execution_count": 15
        }
      ]
    },
    {
      "metadata": {
        "id": "e8JOR8L736k4",
        "colab_type": "code",
        "colab": {
          "base_uri": "https://localhost:8080/",
          "height": 208
        },
        "outputId": "5fb97bdb-7f3d-40f1-e954-562b38badc0a"
      },
      "cell_type": "code",
      "source": [
        "print(classification_report(y_test, y_pred_test))\n",
        "confusion_matrix(y_test, y_pred_test)"
      ],
      "execution_count": 16,
      "outputs": [
        {
          "output_type": "stream",
          "text": [
            "             precision    recall  f1-score   support\n",
            "\n",
            "  cluster-1       0.98      0.98      0.98       202\n",
            "  cluster-2       0.83      0.83      0.83        23\n",
            "  cluster-3       1.00      0.89      0.94         9\n",
            "\n",
            "avg / total       0.96      0.96      0.96       234\n",
            "\n"
          ],
          "name": "stdout"
        },
        {
          "output_type": "execute_result",
          "data": {
            "text/plain": [
              "array([[198,   4,   0],\n",
              "       [  4,  19,   0],\n",
              "       [  1,   0,   8]])"
            ]
          },
          "metadata": {
            "tags": []
          },
          "execution_count": 16
        }
      ]
    },
    {
      "metadata": {
        "id": "OWIRnC3h4BeG",
        "colab_type": "text"
      },
      "cell_type": "markdown",
      "source": [
        "# One Versus One con sklearn.multiclass "
      ]
    },
    {
      "metadata": {
        "id": "eohBzCG94B8H",
        "colab_type": "code",
        "colab": {}
      },
      "cell_type": "code",
      "source": [
        "from sklearn.multiclass import OneVsOneClassifier\n",
        "from sklearn.linear_model import LogisticRegression"
      ],
      "execution_count": 0,
      "outputs": []
    },
    {
      "metadata": {
        "id": "ZkzzEoXg4FlP",
        "colab_type": "code",
        "colab": {
          "base_uri": "https://localhost:8080/",
          "height": 104
        },
        "outputId": "6a2f570c-cc90-4124-c895-63effdceb683"
      },
      "cell_type": "code",
      "source": [
        "clasif_ovo=OneVsOneClassifier(LogisticRegression(penalty='l1'))\n",
        "clasif_ovo.fit(X_train,y_train)\n"
      ],
      "execution_count": 18,
      "outputs": [
        {
          "output_type": "execute_result",
          "data": {
            "text/plain": [
              "OneVsOneClassifier(estimator=LogisticRegression(C=1.0, class_weight=None, dual=False, fit_intercept=True,\n",
              "          intercept_scaling=1, max_iter=100, multi_class='ovr', n_jobs=1,\n",
              "          penalty='l1', random_state=None, solver='liblinear', tol=0.0001,\n",
              "          verbose=0, warm_start=False),\n",
              "          n_jobs=1)"
            ]
          },
          "metadata": {
            "tags": []
          },
          "execution_count": 18
        }
      ]
    },
    {
      "metadata": {
        "id": "pF089Oe84IJI",
        "colab_type": "code",
        "colab": {}
      },
      "cell_type": "code",
      "source": [
        "y_pred_train=np.asarray(clasif_ovo.predict(X_train),dtype='str')\n",
        "y_pred_test=np.asarray(clasif_ovo.predict(X_test),dtype='str')"
      ],
      "execution_count": 0,
      "outputs": []
    },
    {
      "metadata": {
        "id": "tTF3UreK4KnP",
        "colab_type": "code",
        "colab": {
          "base_uri": "https://localhost:8080/",
          "height": 208
        },
        "outputId": "baacc922-13f1-46e4-bcb8-d82803b98452"
      },
      "cell_type": "code",
      "source": [
        "print(classification_report(y_train, y_pred_train))\n",
        "confusion_matrix(y_train, y_pred_train)\n"
      ],
      "execution_count": 20,
      "outputs": [
        {
          "output_type": "stream",
          "text": [
            "             precision    recall  f1-score   support\n",
            "\n",
            "  cluster-1       0.99      1.00      0.99       208\n",
            "  cluster-2       1.00      1.00      1.00        15\n",
            "  cluster-3       1.00      0.73      0.84        11\n",
            "\n",
            "avg / total       0.99      0.99      0.99       234\n",
            "\n"
          ],
          "name": "stdout"
        },
        {
          "output_type": "execute_result",
          "data": {
            "text/plain": [
              "array([[208,   0,   0],\n",
              "       [  0,  15,   0],\n",
              "       [  3,   0,   8]])"
            ]
          },
          "metadata": {
            "tags": []
          },
          "execution_count": 20
        }
      ]
    },
    {
      "metadata": {
        "id": "YcVa9FLh4Or3",
        "colab_type": "code",
        "colab": {
          "base_uri": "https://localhost:8080/",
          "height": 208
        },
        "outputId": "157fc13d-b88f-43e1-89aa-b6aa4065ed06"
      },
      "cell_type": "code",
      "source": [
        "print(classification_report(y_test, y_pred_test))\n",
        "confusion_matrix(y_test, y_pred_test)"
      ],
      "execution_count": 21,
      "outputs": [
        {
          "output_type": "stream",
          "text": [
            "             precision    recall  f1-score   support\n",
            "\n",
            "  cluster-1       0.97      0.97      0.97       202\n",
            "  cluster-2       0.83      0.83      0.83        23\n",
            "  cluster-3       0.67      0.67      0.67         9\n",
            "\n",
            "avg / total       0.94      0.94      0.94       234\n",
            "\n"
          ],
          "name": "stdout"
        },
        {
          "output_type": "execute_result",
          "data": {
            "text/plain": [
              "array([[195,   4,   3],\n",
              "       [  4,  19,   0],\n",
              "       [  3,   0,   6]])"
            ]
          },
          "metadata": {
            "tags": []
          },
          "execution_count": 21
        }
      ]
    },
    {
      "metadata": {
        "id": "7598abWh4VKm",
        "colab_type": "text"
      },
      "cell_type": "markdown",
      "source": [
        "# Regresion Softmax ocupando LR "
      ]
    },
    {
      "metadata": {
        "id": "Fgdo-SKn4WLW",
        "colab_type": "code",
        "colab": {}
      },
      "cell_type": "code",
      "source": [
        "from sklearn.metrics import classification_report\n",
        "from sklearn.metrics import confusion_matrix\n",
        "from sklearn.linear_model import LogisticRegression"
      ],
      "execution_count": 0,
      "outputs": []
    },
    {
      "metadata": {
        "id": "GUhC1cw44ZR3",
        "colab_type": "code",
        "colab": {}
      },
      "cell_type": "code",
      "source": [
        "\n",
        "logistic_smax=LogisticRegression(multi_class='multinomial',solver='lbfgs', penalty='l2')\n",
        "logistic_smax.fit(X_train,y_train)\n",
        "\n",
        "coeficientes=pd.DataFrame(logistic_smax.coef_)\n",
        "ctes=pd.DataFrame(logistic_smax.intercept_)\n",
        "\n",
        "y_pred_train=np.asarray(logistic_smax.predict(X_train),dtype='str')\n",
        "y_pred_test=np.asarray(logistic_smax.predict(X_test),dtype='str')\n",
        "\n",
        "y_proba_train=logistic_smax.predict_proba(X_train)\n",
        "y_proba_test=logistic_smax.predict_proba(X_test)"
      ],
      "execution_count": 0,
      "outputs": []
    },
    {
      "metadata": {
        "id": "fiOYpSU54bp-",
        "colab_type": "code",
        "colab": {
          "base_uri": "https://localhost:8080/",
          "height": 208
        },
        "outputId": "b16f2715-eaa1-40de-9618-1417bfe0a7b8"
      },
      "cell_type": "code",
      "source": [
        "print(classification_report(y_train, y_pred_train))\n",
        "confusion_matrix(y_train, y_pred_train)"
      ],
      "execution_count": 24,
      "outputs": [
        {
          "output_type": "stream",
          "text": [
            "             precision    recall  f1-score   support\n",
            "\n",
            "  cluster-1       0.94      0.98      0.96       208\n",
            "  cluster-2       0.82      0.60      0.69        15\n",
            "  cluster-3       0.62      0.45      0.53        11\n",
            "\n",
            "avg / total       0.92      0.93      0.92       234\n",
            "\n"
          ],
          "name": "stdout"
        },
        {
          "output_type": "execute_result",
          "data": {
            "text/plain": [
              "array([[203,   2,   3],\n",
              "       [  6,   9,   0],\n",
              "       [  6,   0,   5]])"
            ]
          },
          "metadata": {
            "tags": []
          },
          "execution_count": 24
        }
      ]
    },
    {
      "metadata": {
        "id": "YEQd3sH14cq3",
        "colab_type": "code",
        "colab": {
          "base_uri": "https://localhost:8080/",
          "height": 208
        },
        "outputId": "2f011e18-cc3e-4348-fcd4-ba98fb86dc6e"
      },
      "cell_type": "code",
      "source": [
        "print(classification_report(y_test, y_pred_test))\n",
        "confusion_matrix(y_test, y_pred_test)\n"
      ],
      "execution_count": 25,
      "outputs": [
        {
          "output_type": "stream",
          "text": [
            "             precision    recall  f1-score   support\n",
            "\n",
            "  cluster-1       0.96      0.97      0.96       202\n",
            "  cluster-2       0.79      0.65      0.71        23\n",
            "  cluster-3       0.80      0.89      0.84         9\n",
            "\n",
            "avg / total       0.93      0.94      0.93       234\n",
            "\n"
          ],
          "name": "stdout"
        },
        {
          "output_type": "execute_result",
          "data": {
            "text/plain": [
              "array([[196,   4,   2],\n",
              "       [  8,  15,   0],\n",
              "       [  1,   0,   8]])"
            ]
          },
          "metadata": {
            "tags": []
          },
          "execution_count": 25
        }
      ]
    },
    {
      "metadata": {
        "id": "xlIDZZe053fW",
        "colab_type": "text"
      },
      "cell_type": "markdown",
      "source": [
        "#Balanceo de Clases"
      ]
    },
    {
      "metadata": {
        "id": "-B1xiAoUAUjS",
        "colab_type": "text"
      },
      "cell_type": "markdown",
      "source": [
        "##Sub-balanceo (Clase más pequeña)"
      ]
    },
    {
      "metadata": {
        "id": "E_qmB2FU74Ro",
        "colab_type": "code",
        "colab": {
          "base_uri": "https://localhost:8080/",
          "height": 87
        },
        "outputId": "3dcd160e-81e7-4a03-df5e-a7ab6e57fe5a"
      },
      "cell_type": "code",
      "source": [
        "data_clase1 = data[data['economic_stage'] =='cluster-1'].sample(n=17 ,  random_state =777)\n",
        "data_clase2 = data[data['economic_stage'] =='cluster-2'].sample(n=17 ,  random_state =777)\n",
        "data_clase3 = data[data['economic_stage'] =='cluster-3'].sample(n=17 ,  random_state =777 )\n",
        "\n",
        "under_sample=data_clase1.append(data_clase2, ignore_index=True)\n",
        "under_sample = under_sample.append(data_clase3 ,ignore_index=True)\n",
        "under_sample\n",
        "\n",
        "under_sample['economic_stage'].value_counts()\n"
      ],
      "execution_count": 26,
      "outputs": [
        {
          "output_type": "execute_result",
          "data": {
            "text/plain": [
              "cluster-3    17\n",
              "cluster-2    17\n",
              "cluster-1    17\n",
              "Name: economic_stage, dtype: int64"
            ]
          },
          "metadata": {
            "tags": []
          },
          "execution_count": 26
        }
      ]
    },
    {
      "metadata": {
        "id": "YyTqlbIe9BfX",
        "colab_type": "code",
        "colab": {}
      },
      "cell_type": "code",
      "source": [
        "\n",
        "y=under_sample['economic_stage']\n",
        "x=under_sample.iloc[:,2:-2]\n",
        "y.describe()\n",
        "X_train, X_test, y_train, y_test = train_test_split(x, y, test_size=0.50)"
      ],
      "execution_count": 0,
      "outputs": []
    },
    {
      "metadata": {
        "id": "flQDfC_fCu2u",
        "colab_type": "code",
        "colab": {
          "base_uri": "https://localhost:8080/",
          "height": 208
        },
        "outputId": "b77c8bda-c700-4946-8a2e-1f68d2f27fde"
      },
      "cell_type": "code",
      "source": [
        "logistic_ovr=LogisticRegression(multi_class='ovr',penalty='l1')\n",
        "logistic_ovr.fit(X_train,y_train)\n",
        "\n",
        "coeficientes=pd.DataFrame(logistic_ovr.coef_)\n",
        "ctes=pd.DataFrame(logistic_ovr.intercept_)\n",
        "\n",
        "y_pred_train=np.asarray(logistic_ovr.predict(X_train),dtype='str')\n",
        "y_pred_test=np.asarray(logistic_ovr.predict(X_test),dtype='str')\n",
        "\n",
        "y_proba_train=logistic_ovr.predict_proba(X_train)\n",
        "y_proba_test=logistic_ovr.predict_proba(X_test)\n",
        "\n",
        "\n",
        "print(classification_report(y_train, y_pred_train))\n",
        "confusion_matrix(y_train, y_pred_train)"
      ],
      "execution_count": 28,
      "outputs": [
        {
          "output_type": "stream",
          "text": [
            "             precision    recall  f1-score   support\n",
            "\n",
            "  cluster-1       1.00      1.00      1.00         8\n",
            "  cluster-2       1.00      1.00      1.00         9\n",
            "  cluster-3       1.00      1.00      1.00         8\n",
            "\n",
            "avg / total       1.00      1.00      1.00        25\n",
            "\n"
          ],
          "name": "stdout"
        },
        {
          "output_type": "execute_result",
          "data": {
            "text/plain": [
              "array([[8, 0, 0],\n",
              "       [0, 9, 0],\n",
              "       [0, 0, 8]])"
            ]
          },
          "metadata": {
            "tags": []
          },
          "execution_count": 28
        }
      ]
    },
    {
      "metadata": {
        "id": "bUZZij3dAdAp",
        "colab_type": "text"
      },
      "cell_type": "markdown",
      "source": [
        "##Sobre-balanceo (Clase más grande)"
      ]
    },
    {
      "metadata": {
        "id": "nkYxQi9zAkV4",
        "colab_type": "code",
        "colab": {
          "base_uri": "https://localhost:8080/",
          "height": 87
        },
        "outputId": "a5e441d3-a1b2-4dc6-fc4e-3e4ed8bec19a"
      },
      "cell_type": "code",
      "source": [
        "data['economic_stage'].value_counts()"
      ],
      "execution_count": 29,
      "outputs": [
        {
          "output_type": "execute_result",
          "data": {
            "text/plain": [
              "cluster-1    410\n",
              "cluster-2     38\n",
              "cluster-3     20\n",
              "Name: economic_stage, dtype: int64"
            ]
          },
          "metadata": {
            "tags": []
          },
          "execution_count": 29
        }
      ]
    },
    {
      "metadata": {
        "id": "u02QzoN2AXjx",
        "colab_type": "code",
        "colab": {
          "base_uri": "https://localhost:8080/",
          "height": 87
        },
        "outputId": "83621faf-34e8-4ca7-f519-9d9b5b65b8a3"
      },
      "cell_type": "code",
      "source": [
        "data_clase1 = data[data['economic_stage'] =='cluster-1'].sample(n=410 , replace =True , random_state =777 )\n",
        "data_clase2 = data[data['economic_stage'] =='cluster-2'].sample(n=410 , replace =True , random_state =777 )\n",
        "data_clase3 = data[data['economic_stage'] =='cluster-3'].sample(n=410 , replace =True , random_state =777 )\n",
        "\n",
        "over_sample=data_clase1.append(data_clase2, ignore_index=True)\n",
        "over_sample = over_sample.append(data_clase3 ,ignore_index=True)\n",
        "over_sample\n",
        "\n",
        "over_sample['economic_stage'].value_counts()"
      ],
      "execution_count": 30,
      "outputs": [
        {
          "output_type": "execute_result",
          "data": {
            "text/plain": [
              "cluster-3    410\n",
              "cluster-2    410\n",
              "cluster-1    410\n",
              "Name: economic_stage, dtype: int64"
            ]
          },
          "metadata": {
            "tags": []
          },
          "execution_count": 30
        }
      ]
    },
    {
      "metadata": {
        "id": "SAUF5EOgC-KE",
        "colab_type": "code",
        "colab": {}
      },
      "cell_type": "code",
      "source": [
        "y=over_sample['economic_stage']\n",
        "x=over_sample.iloc[:,2:-2]\n",
        "y.describe()\n",
        "X_train, X_test, y_train, y_test = train_test_split(x, y, test_size=0.50)"
      ],
      "execution_count": 0,
      "outputs": []
    },
    {
      "metadata": {
        "id": "gPfwM3XsBkEW",
        "colab_type": "text"
      },
      "cell_type": "markdown",
      "source": [
        "# Métricas \n",
        "\n"
      ]
    },
    {
      "metadata": {
        "id": "G57Xat9KCDhV",
        "colab_type": "code",
        "colab": {
          "base_uri": "https://localhost:8080/",
          "height": 208
        },
        "outputId": "32d7e041-1359-40ea-e292-a559e87fea00"
      },
      "cell_type": "code",
      "source": [
        "logistic_ovr=LogisticRegression(multi_class='ovr',penalty='l1')\n",
        "logistic_ovr.fit(X_train,y_train)\n",
        "\n",
        "coeficientes=pd.DataFrame(logistic_ovr.coef_)\n",
        "ctes=pd.DataFrame(logistic_ovr.intercept_)\n",
        "\n",
        "y_pred_train=np.asarray(logistic_ovr.predict(X_train),dtype='str')\n",
        "y_pred_test=np.asarray(logistic_ovr.predict(X_test),dtype='str')\n",
        "\n",
        "y_proba_train=logistic_ovr.predict_proba(X_train)\n",
        "y_proba_test=logistic_ovr.predict_proba(X_test)\n",
        "\n",
        "\n",
        "print(classification_report(y_train, y_pred_train))\n",
        "confusion_matrix(y_train, y_pred_train)"
      ],
      "execution_count": 32,
      "outputs": [
        {
          "output_type": "stream",
          "text": [
            "             precision    recall  f1-score   support\n",
            "\n",
            "  cluster-1       0.94      0.93      0.94       211\n",
            "  cluster-2       0.95      0.94      0.94       194\n",
            "  cluster-3       0.98      1.00      0.99       210\n",
            "\n",
            "avg / total       0.96      0.96      0.96       615\n",
            "\n"
          ],
          "name": "stdout"
        },
        {
          "output_type": "execute_result",
          "data": {
            "text/plain": [
              "array([[196,  10,   5],\n",
              "       [ 12, 182,   0],\n",
              "       [  0,   0, 210]])"
            ]
          },
          "metadata": {
            "tags": []
          },
          "execution_count": 32
        }
      ]
    },
    {
      "metadata": {
        "id": "o3vTCo5sBktG",
        "colab_type": "text"
      },
      "cell_type": "markdown",
      "source": [
        ""
      ]
    },
    {
      "metadata": {
        "id": "KBxucYCi1_Sg",
        "colab_type": "code",
        "colab": {
          "base_uri": "https://localhost:8080/",
          "height": 208
        },
        "outputId": "5d078b5d-d061-4290-f849-be5ff9bb86f7"
      },
      "cell_type": "code",
      "source": [
        "print(classification_report(y_test, y_pred_test))\n",
        "confusion_matrix(y_test, y_pred_test)"
      ],
      "execution_count": 33,
      "outputs": [
        {
          "output_type": "stream",
          "text": [
            "             precision    recall  f1-score   support\n",
            "\n",
            "  cluster-1       0.95      0.92      0.94       199\n",
            "  cluster-2       0.95      0.95      0.95       216\n",
            "  cluster-3       0.98      1.00      0.99       200\n",
            "\n",
            "avg / total       0.96      0.96      0.96       615\n",
            "\n"
          ],
          "name": "stdout"
        },
        {
          "output_type": "execute_result",
          "data": {
            "text/plain": [
              "array([[184,  10,   5],\n",
              "       [ 10, 206,   0],\n",
              "       [  0,   0, 200]])"
            ]
          },
          "metadata": {
            "tags": []
          },
          "execution_count": 33
        }
      ]
    }
  ]
}