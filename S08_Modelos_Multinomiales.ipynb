{
  "nbformat": 4,
  "nbformat_minor": 0,
  "metadata": {
    "colab": {
      "name": "S08_Modelos_Multinomiales.ipynb",
      "version": "0.3.2",
      "provenance": [],
      "include_colab_link": true
    }
  },
  "cells": [
    {
      "cell_type": "markdown",
      "metadata": {
        "id": "view-in-github",
        "colab_type": "text"
      },
      "source": [
        "[![Open In Colab](https://colab.research.google.com/assets/colab-badge.svg)](https://colab.research.google.com/github/alvarogutyerrez/alvarogutyerrez/blob/master/S08_Modelos_Multinomiales.ipynb)"
      ]
    },
    {
      "metadata": {
        "id": "JhXNFolg2eb3",
        "colab_type": "code",
        "colab": {}
      },
      "cell_type": "code",
      "source": [
        "!wget https://www.dropbox.com/s/82dl9cn3p59bxuv/data_with_economic_stage.txt\n",
        "!pip install xlrd"
      ],
      "execution_count": 0,
      "outputs": []
    },
    {
      "metadata": {
        "id": "SmH71nbw2-1R",
        "colab_type": "text"
      },
      "cell_type": "markdown",
      "source": [
        "##Preliminares\n",
        "\n",
        "Generacion de la data"
      ]
    },
    {
      "metadata": {
        "id": "GtdyB3A223fa",
        "colab_type": "code",
        "colab": {}
      },
      "cell_type": "code",
      "source": [
        "import pandas as pd\n",
        "import numpy as np\n",
        "from sklearn.model_selection import train_test_split\n",
        "data=pd.read_csv('data_with_economic_stage.txt',sep='\\t')\n",
        "y=data['economic_stage']\n",
        "x=data.iloc[:,2:-2]\n",
        "y.describe()\n",
        "X_train, X_test, y_train, y_test = train_test_split(x, y, test_size=0.50)"
      ],
      "execution_count": 0,
      "outputs": []
    },
    {
      "metadata": {
        "id": "hC-8LD8t289x",
        "colab_type": "text"
      },
      "cell_type": "markdown",
      "source": [
        "## Cargando Modelos"
      ]
    },
    {
      "metadata": {
        "id": "b-lzbUSl29UR",
        "colab_type": "code",
        "colab": {}
      },
      "cell_type": "code",
      "source": [
        "from sklearn.metrics import classification_report\n",
        "from sklearn.metrics import confusion_matrix\n",
        "from sklearn.linear_model import LogisticRegression"
      ],
      "execution_count": 0,
      "outputs": []
    },
    {
      "metadata": {
        "id": "HCi4b9_G3WCQ",
        "colab_type": "text"
      },
      "cell_type": "markdown",
      "source": [
        "# One versus Rest con Regresión Logistica (LR)"
      ]
    },
    {
      "metadata": {
        "id": "QZDoidTE3O6h",
        "colab_type": "code",
        "colab": {}
      },
      "cell_type": "code",
      "source": [
        "logistic_ovr=LogisticRegression(multi_class='ovr',penalty='l1')\n",
        "logistic_ovr.fit(X_train,y_train)\n",
        "\n",
        "coeficientes=pd.DataFrame(logistic_ovr.coef_)\n",
        "ctes=pd.DataFrame(logistic_ovr.intercept_)\n",
        "\n",
        "y_pred_train=np.asarray(logistic_ovr.predict(X_train),dtype='str')\n",
        "y_pred_test=np.asarray(logistic_ovr.predict(X_test),dtype='str')\n",
        "\n",
        "y_proba_train=logistic_ovr.predict_proba(X_train)\n",
        "y_proba_test=logistic_ovr.predict_proba(X_test)\n"
      ],
      "execution_count": 0,
      "outputs": []
    },
    {
      "metadata": {
        "id": "gzfsA2I03kZw",
        "colab_type": "code",
        "colab": {
          "base_uri": "https://localhost:8080/",
          "height": 204
        },
        "outputId": "3b397859-2e52-4454-fd3b-be05888805bb"
      },
      "cell_type": "code",
      "source": [
        "print(classification_report(y_train, y_pred_train))\n",
        "confusion_matrix(y_train, y_pred_train)\n"
      ],
      "execution_count": 11,
      "outputs": [
        {
          "output_type": "stream",
          "text": [
            "             precision    recall  f1-score   support\n",
            "\n",
            "  cluster-1       0.94      0.99      0.96       203\n",
            "  cluster-2       0.77      0.50      0.61        20\n",
            "  cluster-3       1.00      0.82      0.90        11\n",
            "\n",
            "avg / total       0.93      0.94      0.93       234\n",
            "\n"
          ],
          "name": "stdout"
        },
        {
          "output_type": "execute_result",
          "data": {
            "text/plain": [
              "array([[200,   3,   0],\n",
              "       [ 10,  10,   0],\n",
              "       [  2,   0,   9]])"
            ]
          },
          "metadata": {
            "tags": []
          },
          "execution_count": 11
        }
      ]
    },
    {
      "metadata": {
        "id": "OaFxPGOi3oFJ",
        "colab_type": "code",
        "colab": {
          "base_uri": "https://localhost:8080/",
          "height": 204
        },
        "outputId": "29598349-125b-44e5-b6c1-9ad5a4191f06"
      },
      "cell_type": "code",
      "source": [
        "print(classification_report(y_test, y_pred_test))\n",
        "confusion_matrix(y_test, y_pred_test)"
      ],
      "execution_count": 12,
      "outputs": [
        {
          "output_type": "stream",
          "text": [
            "             precision    recall  f1-score   support\n",
            "\n",
            "  cluster-1       0.95      0.97      0.96       207\n",
            "  cluster-2       0.86      0.67      0.75        18\n",
            "  cluster-3       0.44      0.44      0.44         9\n",
            "\n",
            "avg / total       0.92      0.92      0.92       234\n",
            "\n"
          ],
          "name": "stdout"
        },
        {
          "output_type": "execute_result",
          "data": {
            "text/plain": [
              "array([[200,   2,   5],\n",
              "       [  6,  12,   0],\n",
              "       [  5,   0,   4]])"
            ]
          },
          "metadata": {
            "tags": []
          },
          "execution_count": 12
        }
      ]
    },
    {
      "metadata": {
        "id": "TOz7x9bH3veg",
        "colab_type": "text"
      },
      "cell_type": "markdown",
      "source": [
        "#One Versus Rest con sklearn.multiclass"
      ]
    },
    {
      "metadata": {
        "id": "wb1tuu3w3zD_",
        "colab_type": "code",
        "colab": {}
      },
      "cell_type": "code",
      "source": [
        "from sklearn.multiclass import OneVsRestClassifier\n",
        "from sklearn.linear_model import LogisticRegression\n"
      ],
      "execution_count": 0,
      "outputs": []
    },
    {
      "metadata": {
        "id": "2yepMRPr32aw",
        "colab_type": "code",
        "colab": {}
      },
      "cell_type": "code",
      "source": [
        "clasif_ovr=OneVsRestClassifier(LogisticRegression(penalty='l1'))\n",
        "clasif_ovr.fit(X_train,y_train)\n",
        "\n",
        "coeficientes=pd.DataFrame(clasif_ovr.coef_)\n",
        "ctes=pd.DataFrame(clasif_ovr.intercept_)\n",
        "\n",
        "y_pred_train=np.asarray(clasif_ovr.predict(X_train),dtype='str')\n",
        "y_pred_test=np.asarray(clasif_ovr.predict(X_test),dtype='str')\n",
        "\n",
        "y_proba_train=clasif_ovr.predict_proba(X_train)\n",
        "y_proba_test=clasif_ovr.predict_proba(X_test)\n"
      ],
      "execution_count": 0,
      "outputs": []
    },
    {
      "metadata": {
        "id": "LyESlU8s35bg",
        "colab_type": "code",
        "colab": {
          "base_uri": "https://localhost:8080/",
          "height": 204
        },
        "outputId": "2a12549c-bf3f-4266-c270-dc0e874718b3"
      },
      "cell_type": "code",
      "source": [
        "print(classification_report(y_train, y_pred_train))\n",
        "confusion_matrix(y_train, y_pred_train)\n",
        "\n"
      ],
      "execution_count": 16,
      "outputs": [
        {
          "output_type": "stream",
          "text": [
            "             precision    recall  f1-score   support\n",
            "\n",
            "  cluster-1       0.96      0.99      0.97       203\n",
            "  cluster-2       0.81      0.65      0.72        20\n",
            "  cluster-3       1.00      0.91      0.95        11\n",
            "\n",
            "avg / total       0.95      0.95      0.95       234\n",
            "\n"
          ],
          "name": "stdout"
        },
        {
          "output_type": "execute_result",
          "data": {
            "text/plain": [
              "array([[200,   3,   0],\n",
              "       [  7,  13,   0],\n",
              "       [  1,   0,  10]])"
            ]
          },
          "metadata": {
            "tags": []
          },
          "execution_count": 16
        }
      ]
    },
    {
      "metadata": {
        "id": "e8JOR8L736k4",
        "colab_type": "code",
        "colab": {
          "base_uri": "https://localhost:8080/",
          "height": 204
        },
        "outputId": "feb868c4-96b1-43b8-a1d0-5c97a9570c2b"
      },
      "cell_type": "code",
      "source": [
        "print(classification_report(y_test, y_pred_test))\n",
        "confusion_matrix(y_test, y_pred_test)"
      ],
      "execution_count": 17,
      "outputs": [
        {
          "output_type": "stream",
          "text": [
            "             precision    recall  f1-score   support\n",
            "\n",
            "  cluster-1       0.96      0.97      0.97       207\n",
            "  cluster-2       0.76      0.72      0.74        18\n",
            "  cluster-3       0.75      0.67      0.71         9\n",
            "\n",
            "avg / total       0.94      0.94      0.94       234\n",
            "\n"
          ],
          "name": "stdout"
        },
        {
          "output_type": "execute_result",
          "data": {
            "text/plain": [
              "array([[201,   4,   2],\n",
              "       [  5,  13,   0],\n",
              "       [  3,   0,   6]])"
            ]
          },
          "metadata": {
            "tags": []
          },
          "execution_count": 17
        }
      ]
    },
    {
      "metadata": {
        "id": "OWIRnC3h4BeG",
        "colab_type": "text"
      },
      "cell_type": "markdown",
      "source": [
        "# One Versus One con sklearn.multiclass "
      ]
    },
    {
      "metadata": {
        "id": "eohBzCG94B8H",
        "colab_type": "code",
        "colab": {}
      },
      "cell_type": "code",
      "source": [
        "from sklearn.multiclass import OneVsOneClassifier\n",
        "from sklearn.linear_model import LogisticRegression"
      ],
      "execution_count": 0,
      "outputs": []
    },
    {
      "metadata": {
        "id": "ZkzzEoXg4FlP",
        "colab_type": "code",
        "colab": {
          "base_uri": "https://localhost:8080/",
          "height": 102
        },
        "outputId": "2f954449-f01e-48c1-b632-6fc9c777b76e"
      },
      "cell_type": "code",
      "source": [
        "clasif_ovo=OneVsOneClassifier(LogisticRegression(penalty='l1'))\n",
        "clasif_ovo.fit(X_train,y_train)\n"
      ],
      "execution_count": 20,
      "outputs": [
        {
          "output_type": "execute_result",
          "data": {
            "text/plain": [
              "OneVsOneClassifier(estimator=LogisticRegression(C=1.0, class_weight=None, dual=False, fit_intercept=True,\n",
              "          intercept_scaling=1, max_iter=100, multi_class='ovr', n_jobs=1,\n",
              "          penalty='l1', random_state=None, solver='liblinear', tol=0.0001,\n",
              "          verbose=0, warm_start=False),\n",
              "          n_jobs=1)"
            ]
          },
          "metadata": {
            "tags": []
          },
          "execution_count": 20
        }
      ]
    },
    {
      "metadata": {
        "id": "pF089Oe84IJI",
        "colab_type": "code",
        "colab": {}
      },
      "cell_type": "code",
      "source": [
        "y_pred_train=np.asarray(clasif_ovo.predict(X_train),dtype='str')\n",
        "y_pred_test=np.asarray(clasif_ovo.predict(X_test),dtype='str')"
      ],
      "execution_count": 0,
      "outputs": []
    },
    {
      "metadata": {
        "id": "tTF3UreK4KnP",
        "colab_type": "code",
        "colab": {
          "base_uri": "https://localhost:8080/",
          "height": 204
        },
        "outputId": "fc099d36-3a6f-44ce-a390-eb970fb0287f"
      },
      "cell_type": "code",
      "source": [
        "print(classification_report(y_train, y_pred_train))\n",
        "confusion_matrix(y_train, y_pred_train)\n"
      ],
      "execution_count": 25,
      "outputs": [
        {
          "output_type": "stream",
          "text": [
            "             precision    recall  f1-score   support\n",
            "\n",
            "  cluster-1       0.99      1.00      1.00       203\n",
            "  cluster-2       1.00      0.90      0.95        20\n",
            "  cluster-3       1.00      1.00      1.00        11\n",
            "\n",
            "avg / total       0.99      0.99      0.99       234\n",
            "\n"
          ],
          "name": "stdout"
        },
        {
          "output_type": "execute_result",
          "data": {
            "text/plain": [
              "array([[203,   0,   0],\n",
              "       [  2,  18,   0],\n",
              "       [  0,   0,  11]])"
            ]
          },
          "metadata": {
            "tags": []
          },
          "execution_count": 25
        }
      ]
    },
    {
      "metadata": {
        "id": "YcVa9FLh4Or3",
        "colab_type": "code",
        "colab": {
          "base_uri": "https://localhost:8080/",
          "height": 204
        },
        "outputId": "4e68d37e-eb52-4adf-8de5-f301aaec2bea"
      },
      "cell_type": "code",
      "source": [
        "print(classification_report(y_test, y_pred_test))\n",
        "confusion_matrix(y_test, y_pred_test)"
      ],
      "execution_count": 24,
      "outputs": [
        {
          "output_type": "stream",
          "text": [
            "             precision    recall  f1-score   support\n",
            "\n",
            "  cluster-1       0.98      0.98      0.98       207\n",
            "  cluster-2       0.89      0.89      0.89        18\n",
            "  cluster-3       0.75      0.67      0.71         9\n",
            "\n",
            "avg / total       0.96      0.96      0.96       234\n",
            "\n"
          ],
          "name": "stdout"
        },
        {
          "output_type": "execute_result",
          "data": {
            "text/plain": [
              "array([[203,   2,   2],\n",
              "       [  2,  16,   0],\n",
              "       [  3,   0,   6]])"
            ]
          },
          "metadata": {
            "tags": []
          },
          "execution_count": 24
        }
      ]
    },
    {
      "metadata": {
        "id": "7598abWh4VKm",
        "colab_type": "text"
      },
      "cell_type": "markdown",
      "source": [
        "# Regresion Softmax ocupando LR "
      ]
    },
    {
      "metadata": {
        "id": "Fgdo-SKn4WLW",
        "colab_type": "code",
        "colab": {}
      },
      "cell_type": "code",
      "source": [
        "from sklearn.metrics import classification_report\n",
        "from sklearn.metrics import confusion_matrix\n",
        "from sklearn.linear_model import LogisticRegression"
      ],
      "execution_count": 0,
      "outputs": []
    },
    {
      "metadata": {
        "id": "GUhC1cw44ZR3",
        "colab_type": "code",
        "colab": {}
      },
      "cell_type": "code",
      "source": [
        "\n",
        "logistic_smax=LogisticRegression(multi_class='multinomial',solver='lbfgs', penalty='l2')\n",
        "logistic_smax.fit(X_train,y_train)\n",
        "\n",
        "coeficientes=pd.DataFrame(logistic_smax.coef_)\n",
        "ctes=pd.DataFrame(logistic_smax.intercept_)\n",
        "\n",
        "y_pred_train=np.asarray(logistic_smax.predict(X_train),dtype='str')\n",
        "y_pred_test=np.asarray(logistic_smax.predict(X_test),dtype='str')\n",
        "\n",
        "y_proba_train=logistic_smax.predict_proba(X_train)\n",
        "y_proba_test=logistic_smax.predict_proba(X_test)"
      ],
      "execution_count": 0,
      "outputs": []
    },
    {
      "metadata": {
        "id": "fiOYpSU54bp-",
        "colab_type": "code",
        "colab": {
          "base_uri": "https://localhost:8080/",
          "height": 204
        },
        "outputId": "4f8110c9-da57-4e7b-b6e1-93359a0422e3"
      },
      "cell_type": "code",
      "source": [
        "print(classification_report(y_train, y_pred_train))\n",
        "confusion_matrix(y_train, y_pred_train)"
      ],
      "execution_count": 28,
      "outputs": [
        {
          "output_type": "stream",
          "text": [
            "             precision    recall  f1-score   support\n",
            "\n",
            "  cluster-1       0.97      0.98      0.98       203\n",
            "  cluster-2       0.89      0.85      0.87        20\n",
            "  cluster-3       0.80      0.73      0.76        11\n",
            "\n",
            "avg / total       0.96      0.96      0.96       234\n",
            "\n"
          ],
          "name": "stdout"
        },
        {
          "output_type": "execute_result",
          "data": {
            "text/plain": [
              "array([[199,   2,   2],\n",
              "       [  3,  17,   0],\n",
              "       [  3,   0,   8]])"
            ]
          },
          "metadata": {
            "tags": []
          },
          "execution_count": 28
        }
      ]
    },
    {
      "metadata": {
        "id": "YEQd3sH14cq3",
        "colab_type": "code",
        "colab": {
          "base_uri": "https://localhost:8080/",
          "height": 204
        },
        "outputId": "05015d41-2dc6-49bf-801d-991451ae37e1"
      },
      "cell_type": "code",
      "source": [
        "print(classification_report(y_test, y_pred_test))\n",
        "confusion_matrix(y_test, y_pred_test)\n"
      ],
      "execution_count": 29,
      "outputs": [
        {
          "output_type": "stream",
          "text": [
            "             precision    recall  f1-score   support\n",
            "\n",
            "  cluster-1       0.97      0.95      0.96       207\n",
            "  cluster-2       0.67      0.78      0.72        18\n",
            "  cluster-3       0.60      0.67      0.63         9\n",
            "\n",
            "avg / total       0.93      0.92      0.93       234\n",
            "\n"
          ],
          "name": "stdout"
        },
        {
          "output_type": "execute_result",
          "data": {
            "text/plain": [
              "array([[196,   7,   4],\n",
              "       [  4,  14,   0],\n",
              "       [  3,   0,   6]])"
            ]
          },
          "metadata": {
            "tags": []
          },
          "execution_count": 29
        }
      ]
    },
    {
      "metadata": {
        "id": "xlIDZZe053fW",
        "colab_type": "text"
      },
      "cell_type": "markdown",
      "source": [
        "#Balanceo de Clases"
      ]
    },
    {
      "metadata": {
        "id": "-B1xiAoUAUjS",
        "colab_type": "text"
      },
      "cell_type": "markdown",
      "source": [
        "##Sub-balanceo (Clase más pequeña)"
      ]
    },
    {
      "metadata": {
        "id": "E_qmB2FU74Ro",
        "colab_type": "code",
        "colab": {
          "base_uri": "https://localhost:8080/",
          "height": 85
        },
        "outputId": "89a39bc7-ef40-4919-b0ee-f4e04fdaf3a6"
      },
      "cell_type": "code",
      "source": [
        "data_clase1 = data[data['economic_stage'] =='cluster-1'].sample(n=17 ,  random_state =777)\n",
        "data_clase2 = data[data['economic_stage'] =='cluster-2'].sample(n=17 ,  random_state =777)\n",
        "data_clase3 = data[data['economic_stage'] =='cluster-3'].sample(n=17 ,  random_state =777 )\n",
        "\n",
        "under_sample=data_clase1.append(data_clase2, ignore_index=True)\n",
        "under_sample = under_sample.append(data_clase3 ,ignore_index=True)\n",
        "under_sample\n",
        "\n",
        "under_sample['economic_stage'].value_counts()\n"
      ],
      "execution_count": 62,
      "outputs": [
        {
          "output_type": "execute_result",
          "data": {
            "text/plain": [
              "cluster-3    17\n",
              "cluster-2    17\n",
              "cluster-1    17\n",
              "Name: economic_stage, dtype: int64"
            ]
          },
          "metadata": {
            "tags": []
          },
          "execution_count": 62
        }
      ]
    },
    {
      "metadata": {
        "id": "YyTqlbIe9BfX",
        "colab_type": "code",
        "colab": {}
      },
      "cell_type": "code",
      "source": [
        "\n",
        "y=under_sample['economic_stage']\n",
        "x=under_sample.iloc[:,2:-2]\n",
        "y.describe()\n",
        "X_train, X_test, y_train, y_test = train_test_split(x, y, test_size=0.50)"
      ],
      "execution_count": 0,
      "outputs": []
    },
    {
      "metadata": {
        "id": "flQDfC_fCu2u",
        "colab_type": "code",
        "colab": {
          "base_uri": "https://localhost:8080/",
          "height": 204
        },
        "outputId": "b5eea60b-b0b1-4ecd-9900-ff5e8e52ecd6"
      },
      "cell_type": "code",
      "source": [
        "logistic_ovr=LogisticRegression(multi_class='ovr',penalty='l1')\n",
        "logistic_ovr.fit(X_train,y_train)\n",
        "\n",
        "coeficientes=pd.DataFrame(logistic_ovr.coef_)\n",
        "ctes=pd.DataFrame(logistic_ovr.intercept_)\n",
        "\n",
        "y_pred_train=np.asarray(logistic_ovr.predict(X_train),dtype='str')\n",
        "y_pred_test=np.asarray(logistic_ovr.predict(X_test),dtype='str')\n",
        "\n",
        "y_proba_train=logistic_ovr.predict_proba(X_train)\n",
        "y_proba_test=logistic_ovr.predict_proba(X_test)\n",
        "\n",
        "\n",
        "print(classification_report(y_train, y_pred_train))\n",
        "confusion_matrix(y_train, y_pred_train)"
      ],
      "execution_count": 68,
      "outputs": [
        {
          "output_type": "stream",
          "text": [
            "             precision    recall  f1-score   support\n",
            "\n",
            "  cluster-1       1.00      1.00      1.00         9\n",
            "  cluster-2       1.00      1.00      1.00         8\n",
            "  cluster-3       1.00      1.00      1.00         8\n",
            "\n",
            "avg / total       1.00      1.00      1.00        25\n",
            "\n"
          ],
          "name": "stdout"
        },
        {
          "output_type": "execute_result",
          "data": {
            "text/plain": [
              "array([[9, 0, 0],\n",
              "       [0, 8, 0],\n",
              "       [0, 0, 8]])"
            ]
          },
          "metadata": {
            "tags": []
          },
          "execution_count": 68
        }
      ]
    },
    {
      "metadata": {
        "id": "bUZZij3dAdAp",
        "colab_type": "text"
      },
      "cell_type": "markdown",
      "source": [
        "##Sobre-balanceo (Clase más grande)"
      ]
    },
    {
      "metadata": {
        "id": "nkYxQi9zAkV4",
        "colab_type": "code",
        "colab": {
          "base_uri": "https://localhost:8080/",
          "height": 85
        },
        "outputId": "53f1a016-7b33-4018-c4b1-381282298d64"
      },
      "cell_type": "code",
      "source": [
        "data['economic_stage'].value_counts()"
      ],
      "execution_count": 72,
      "outputs": [
        {
          "output_type": "execute_result",
          "data": {
            "text/plain": [
              "cluster-1    410\n",
              "cluster-2     38\n",
              "cluster-3     20\n",
              "Name: economic_stage, dtype: int64"
            ]
          },
          "metadata": {
            "tags": []
          },
          "execution_count": 72
        }
      ]
    },
    {
      "metadata": {
        "id": "u02QzoN2AXjx",
        "colab_type": "code",
        "colab": {
          "base_uri": "https://localhost:8080/",
          "height": 85
        },
        "outputId": "c4691ba1-a325-467c-8566-4b0994f6346e"
      },
      "cell_type": "code",
      "source": [
        "data_clase1 = data[data['economic_stage'] =='cluster-1'].sample(n=410 , replace =True , random_state =777 )\n",
        "data_clase2 = data[data['economic_stage'] =='cluster-2'].sample(n=410 , replace =True , random_state =777 )\n",
        "data_clase3 = data[data['economic_stage'] =='cluster-3'].sample(n=410 , replace =True , random_state =777 )\n",
        "\n",
        "over_sample=data_clase1.append(data_clase2, ignore_index=True)\n",
        "over_sample = over_sample.append(data_clase3 ,ignore_index=True)\n",
        "over_sample\n",
        "\n",
        "over_sample['economic_stage'].value_counts()"
      ],
      "execution_count": 76,
      "outputs": [
        {
          "output_type": "execute_result",
          "data": {
            "text/plain": [
              "cluster-3    410\n",
              "cluster-2    410\n",
              "cluster-1    410\n",
              "Name: economic_stage, dtype: int64"
            ]
          },
          "metadata": {
            "tags": []
          },
          "execution_count": 76
        }
      ]
    },
    {
      "metadata": {
        "id": "SAUF5EOgC-KE",
        "colab_type": "code",
        "colab": {}
      },
      "cell_type": "code",
      "source": [
        "y=over_sample['economic_stage']\n",
        "x=over_sample.iloc[:,2:-2]\n",
        "y.describe()\n",
        "X_train, X_test, y_train, y_test = train_test_split(x, y, test_size=0.50)"
      ],
      "execution_count": 0,
      "outputs": []
    },
    {
      "metadata": {
        "id": "gPfwM3XsBkEW",
        "colab_type": "text"
      },
      "cell_type": "markdown",
      "source": [
        "# Métricas \n",
        "\n"
      ]
    },
    {
      "metadata": {
        "id": "G57Xat9KCDhV",
        "colab_type": "code",
        "colab": {
          "base_uri": "https://localhost:8080/",
          "height": 204
        },
        "outputId": "1734c33f-f814-4fd0-981c-f9042da2a5a4"
      },
      "cell_type": "code",
      "source": [
        "logistic_ovr=LogisticRegression(multi_class='ovr',penalty='l1')\n",
        "logistic_ovr.fit(X_train,y_train)\n",
        "\n",
        "coeficientes=pd.DataFrame(logistic_ovr.coef_)\n",
        "ctes=pd.DataFrame(logistic_ovr.intercept_)\n",
        "\n",
        "y_pred_train=np.asarray(logistic_ovr.predict(X_train),dtype='str')\n",
        "y_pred_test=np.asarray(logistic_ovr.predict(X_test),dtype='str')\n",
        "\n",
        "y_proba_train=logistic_ovr.predict_proba(X_train)\n",
        "y_proba_test=logistic_ovr.predict_proba(X_test)\n",
        "\n",
        "\n",
        "print(classification_report(y_train, y_pred_train))\n",
        "confusion_matrix(y_train, y_pred_train)"
      ],
      "execution_count": 78,
      "outputs": [
        {
          "output_type": "stream",
          "text": [
            "             precision    recall  f1-score   support\n",
            "\n",
            "  cluster-1       0.90      0.91      0.91       205\n",
            "  cluster-2       0.95      0.95      0.95       205\n",
            "  cluster-3       0.97      0.95      0.96       205\n",
            "\n",
            "avg / total       0.94      0.94      0.94       615\n",
            "\n"
          ],
          "name": "stdout"
        },
        {
          "output_type": "execute_result",
          "data": {
            "text/plain": [
              "array([[187,  11,   7],\n",
              "       [ 11, 194,   0],\n",
              "       [ 10,   0, 195]])"
            ]
          },
          "metadata": {
            "tags": []
          },
          "execution_count": 78
        }
      ]
    },
    {
      "metadata": {
        "id": "o3vTCo5sBktG",
        "colab_type": "text"
      },
      "cell_type": "markdown",
      "source": [
        ""
      ]
    }
  ]
}