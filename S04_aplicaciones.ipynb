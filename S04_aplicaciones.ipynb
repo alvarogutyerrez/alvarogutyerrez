{
  "nbformat": 4,
  "nbformat_minor": 0,
  "metadata": {
    "colab": {
      "name": "S04_aplicaciones.ipynb",
      "version": "0.3.2",
      "provenance": [],
      "toc_visible": true,
      "include_colab_link": true
    }
  },
  "cells": [
    {
      "cell_type": "markdown",
      "metadata": {
        "id": "view-in-github",
        "colab_type": "text"
      },
      "source": [
        "[View in Colaboratory](https://colab.research.google.com/github/alvarogutyerrez/alvarogutyerrez/blob/master/S04_aplicaciones.ipynb)"
      ]
    },
    {
      "metadata": {
        "id": "T7J-bXccS6ji",
        "colab_type": "text"
      },
      "cell_type": "markdown",
      "source": [
        "#Sesion 4: Aplicaciones\n",
        "\n"
      ]
    },
    {
      "metadata": {
        "id": "HJVvB6mLTKhI",
        "colab_type": "text"
      },
      "cell_type": "markdown",
      "source": [
        "## (1) Demanda Computacional\n",
        "\n",
        "Generar un loop que:\n",
        "\n",
        "1. Simular una Muestra de *_n_* observaciones y 10 regresores. Estimar un modelo lineal (* ocupando sklearn*)  y recuperar el tiempo que demoró el proceso. Repetir la operación 100000000. Graficar demanda computacional contra el número de observaciones.\n",
        "\n",
        "\n",
        "\n"
      ]
    },
    {
      "metadata": {
        "id": "nEm4rAoG2kSe",
        "colab_type": "code",
        "colab": {}
      },
      "cell_type": "code",
      "source": [
        "!wget https://www.dropbox.com/s/2ayo637xecc1sfs/tictoc.py "
      ],
      "execution_count": 0,
      "outputs": []
    },
    {
      "metadata": {
        "id": "77pShSGpS2pW",
        "colab_type": "code",
        "colab": {}
      },
      "cell_type": "code",
      "source": [
        "from tictoc import tic,toc,toc2\n",
        "from sklearn.linear_model import LinearRegression\n",
        "from sklearn.metrics import mean_squared_error\n",
        "\n",
        "import pandas as pd \n",
        "import numpy as np"
      ],
      "execution_count": 0,
      "outputs": []
    },
    {
      "metadata": {
        "id": "rQdRmdetlHrf",
        "colab_type": "text"
      },
      "cell_type": "markdown",
      "source": [
        "Lo primer será definir los parámetros del loop"
      ]
    },
    {
      "metadata": {
        "id": "vKJaF303l6ud",
        "colab_type": "code",
        "colab": {}
      },
      "cell_type": "code",
      "source": [
        "np.random.seed(seed=777)\n",
        "resultado_plus_row = []\n",
        "n_col = 10 #Numero de columnas\n",
        "n_row = 10 #Numero de Filas\n",
        "n_row_final = 100000000 #Numero Maximo de Filas\n",
        "n_row_delta = 10000 #Delta entre cada iteracion\n",
        "n_row_limite =1000000 #Condicion de Salida del Loop"
      ],
      "execution_count": 0,
      "outputs": []
    },
    {
      "metadata": {
        "id": "8svXeMfKmQqk",
        "colab_type": "text"
      },
      "cell_type": "markdown",
      "source": [
        "Cuerpo del loop"
      ]
    },
    {
      "metadata": {
        "id": "3aUo6bIImP48",
        "colab_type": "code",
        "colab": {}
      },
      "cell_type": "code",
      "source": [
        "while n_row<n_row_final:\n",
        "    Y = np.random.rand(n_row,1)     #Generando la variable explicada\n",
        "    X = np.random.rand(n_row,n_col) #Generando el vector de regresores\n",
        "    reg_lineal = LinearRegression() #Declarando el modelo\n",
        "    tic()                           #Inicio del conteo del tiempo\n",
        "    reg_lineal.fit(X, Y)            #Estimando el modelo\n",
        "    toc_sklearn_linear_reg = toc2() #Registro final del tiempo ocupado\n",
        "    a=[n_row,toc_sklearn_linear_reg]#Generamos lista que ocuparemos para hacer append\n",
        "    resultado_plus_row.append(a)    #Append a la lista vacia del inicio\n",
        "    #print(toc_sklearn_linear_reg)   #Imprimir en pantalla\n",
        "    n_row=n_row +n_row_delta        #Numero de fila actual + delta de avance\n",
        "    #print(n_row)                    #Imprimiendo en Pantalla\n",
        "    if n_row>n_row_limite:          #Condicion de Salida\n",
        "        break                       #Breakkkkkkkkkkkkkkkkkkkkkkkkkkkkkkkkkk"
      ],
      "execution_count": 0,
      "outputs": []
    },
    {
      "metadata": {
        "id": "xyuQuWAMmWjO",
        "colab_type": "code",
        "colab": {
          "base_uri": "https://localhost:8080/",
          "height": 376
        },
        "outputId": "ef149fdc-1f75-45bc-c859-705c29284e0e"
      },
      "cell_type": "code",
      "source": [
        "resultado_plus_row_df = pd.DataFrame(resultado_plus_row,columns = ['nrow', 'time'])\n",
        "graph=resultado_plus_row_df.plot(x='nrow', y='time',kind='line',title='Adding Rows')    \n"
      ],
      "execution_count": 15,
      "outputs": [
        {
          "output_type": "display_data",
          "data": {
            "image/png": "[encoded data removed]",
            "text/plain": [
              "<matplotlib.figure.Figure at 0x7f01bb355210>"
            ]
          },
          "metadata": {
            "tags": []
          }
        }
      ]
    },
    {
      "metadata": {
        "id": "v6leamwBndN7",
        "colab_type": "text"
      },
      "cell_type": "markdown",
      "source": [
        "# Obtención de Retornos \n",
        "\n",
        "### Función Shift\n",
        "\n",
        "Esta función nos permitirá generar rezagos o leads de las variables "
      ]
    },
    {
      "metadata": {
        "id": "LzGOeEFunddL",
        "colab_type": "code",
        "colab": {}
      },
      "cell_type": "code",
      "source": [
        "!wget https://www.dropbox.com/s/nolez1g7nnvayf3/data_usd-clp.xlsx\n",
        "!pip install xlrd  "
      ],
      "execution_count": 0,
      "outputs": []
    },
    {
      "metadata": {
        "id": "w3NZApZ9oCjB",
        "colab_type": "text"
      },
      "cell_type": "markdown",
      "source": [
        "Load Data"
      ]
    },
    {
      "metadata": {
        "id": "aMmYqJNOoDpR",
        "colab_type": "code",
        "colab": {
          "base_uri": "https://localhost:8080/",
          "height": 102
        },
        "outputId": "697c564c-64f7-4cc6-d685-9e2ba71d6e7b"
      },
      "cell_type": "code",
      "source": [
        "data=pd.read_excel(\"data_usd-clp.xlsx\")\n",
        "dolar_hoy     = data.iloc[:,0]\n",
        "dolar_hoy.head(4)"
      ],
      "execution_count": 30,
      "outputs": [
        {
          "output_type": "execute_result",
          "data": {
            "text/plain": [
              "2012-12-28    479.470\n",
              "2012-12-31    476.404\n",
              "2013-01-01    475.382\n",
              "2013-01-02    474.360\n",
              "Name: USDCLP Curncy, dtype: float64"
            ]
          },
          "metadata": {
            "tags": []
          },
          "execution_count": 30
        }
      ]
    },
    {
      "metadata": {
        "id": "4IPXbBajoeBg",
        "colab_type": "text"
      },
      "cell_type": "markdown",
      "source": [
        "Rezago de la Variable"
      ]
    },
    {
      "metadata": {
        "id": "KvvzpcCqohAA",
        "colab_type": "code",
        "colab": {
          "base_uri": "https://localhost:8080/",
          "height": 102
        },
        "outputId": "98259557-d971-49e3-8276-0ee3cefbe907"
      },
      "cell_type": "code",
      "source": [
        "dolar_lag1     = dolar.shift(1).copy(True)\n",
        "dolar_lag1.head(4)"
      ],
      "execution_count": 31,
      "outputs": [
        {
          "output_type": "execute_result",
          "data": {
            "text/plain": [
              "2012-12-28        NaN\n",
              "2012-12-31    479.470\n",
              "2013-01-01    476.404\n",
              "2013-01-02    475.382\n",
              "Name: USDCLP Curncy, dtype: float64"
            ]
          },
          "metadata": {
            "tags": []
          },
          "execution_count": 31
        }
      ]
    },
    {
      "metadata": {
        "id": "otLnsZNco0rO",
        "colab_type": "text"
      },
      "cell_type": "markdown",
      "source": [
        "Calculando el delta entre ayer y hoy"
      ]
    },
    {
      "metadata": {
        "id": "osB5y7qooyXn",
        "colab_type": "code",
        "colab": {
          "base_uri": "https://localhost:8080/",
          "height": 102
        },
        "outputId": "108bc48b-ec5e-42b2-b8d7-de74795f54d2"
      },
      "cell_type": "code",
      "source": [
        "delta = dolar_lag1 -dolar_hoy\n",
        "delta.head(4)"
      ],
      "execution_count": 32,
      "outputs": [
        {
          "output_type": "execute_result",
          "data": {
            "text/plain": [
              "2012-12-28      NaN\n",
              "2012-12-31    3.066\n",
              "2013-01-01    1.022\n",
              "2013-01-02    1.022\n",
              "Name: USDCLP Curncy, dtype: float64"
            ]
          },
          "metadata": {
            "tags": []
          },
          "execution_count": 32
        }
      ]
    },
    {
      "metadata": {
        "id": "WntY0FVVpGHA",
        "colab_type": "text"
      },
      "cell_type": "markdown",
      "source": [
        "Calculo del retorno"
      ]
    },
    {
      "metadata": {
        "id": "mStkuRqtpGUH",
        "colab_type": "code",
        "colab": {
          "base_uri": "https://localhost:8080/",
          "height": 204
        },
        "outputId": "0aeffe90-f7aa-4bb2-94dd-d337f70269bf"
      },
      "cell_type": "code",
      "source": [
        "ret = delta/dolar_hoy\n",
        "ret.head(10)"
      ],
      "execution_count": 39,
      "outputs": [
        {
          "output_type": "execute_result",
          "data": {
            "text/plain": [
              "2012-12-28         NaN\n",
              "2012-12-31    0.006436\n",
              "2013-01-01    0.002150\n",
              "2013-01-02    0.002154\n",
              "2013-01-03    0.004107\n",
              "2013-01-04   -0.001480\n",
              "2013-01-07    0.003776\n",
              "2013-01-08   -0.001927\n",
              "2013-01-09    0.002760\n",
              "2013-01-10    0.000361\n",
              "Name: USDCLP Curncy, dtype: float64"
            ]
          },
          "metadata": {
            "tags": []
          },
          "execution_count": 39
        }
      ]
    },
    {
      "metadata": {
        "id": "KznDt8M3pPF3",
        "colab_type": "text"
      },
      "cell_type": "markdown",
      "source": [
        "## Calculo de Intervalos (bins)"
      ]
    },
    {
      "metadata": {
        "id": "gcalQyMMpOzf",
        "colab_type": "code",
        "colab": {
          "base_uri": "https://localhost:8080/",
          "height": 204
        },
        "outputId": "e435290c-654a-4358-94cd-8b2d4a11a31a"
      },
      "cell_type": "code",
      "source": [
        "tolerancia = 0.0015\n",
        "bins=[-100000,-1*tolerancia,tolerancia,100000]\n",
        "group_names=[-1,0,1]\n",
        "clasificacion=pd.to_numeric(pd.cut(ret,bins,labels=group_names))     \n",
        "clasificacion.head(10)\n"
      ],
      "execution_count": 50,
      "outputs": [
        {
          "output_type": "execute_result",
          "data": {
            "text/plain": [
              "2012-12-28    NaN\n",
              "2012-12-31    1.0\n",
              "2013-01-01    1.0\n",
              "2013-01-02    1.0\n",
              "2013-01-03    1.0\n",
              "2013-01-04    0.0\n",
              "2013-01-07    1.0\n",
              "2013-01-08   -1.0\n",
              "2013-01-09    1.0\n",
              "2013-01-10    0.0\n",
              "Name: USDCLP Curncy, dtype: float64"
            ]
          },
          "metadata": {
            "tags": []
          },
          "execution_count": 50
        }
      ]
    },
    {
      "metadata": {
        "id": "yArqi8L9qNpr",
        "colab_type": "text"
      },
      "cell_type": "markdown",
      "source": [
        "#Trainning and Testing \n"
      ]
    },
    {
      "metadata": {
        "id": "k4oZY7pVsJwS",
        "colab_type": "text"
      },
      "cell_type": "markdown",
      "source": [
        "Training sample\n"
      ]
    },
    {
      "metadata": {
        "id": "JKcUURgpqNxW",
        "colab_type": "code",
        "colab": {
          "base_uri": "https://localhost:8080/",
          "height": 266
        },
        "outputId": "a1943d99-65ba-45be-eafd-ac664ad7a463"
      },
      "cell_type": "code",
      "source": [
        "corte='2014-03-13'\n",
        "x_tr =data.iloc[:,0:-1].copy(True)\n",
        "x_tr =x_tr[data.index>corte].copy(True)\n",
        "\n",
        "y_tr =data.iloc[:,0].copy(True)\n",
        "y_tr =y_tr[data.index>corte].copy(True)\n",
        "\n",
        "x_tr.head(7)\n",
        "\n",
        "\n",
        "\n"
      ],
      "execution_count": 57,
      "outputs": [
        {
          "output_type": "execute_result",
          "data": {
            "text/html": [
              "<div>\n",
              "<style scoped>\n",
              "    .dataframe tbody tr th:only-of-type {\n",
              "        vertical-align: middle;\n",
              "    }\n",
              "\n",
              "    .dataframe tbody tr th {\n",
              "        vertical-align: top;\n",
              "    }\n",
              "\n",
              "    .dataframe thead th {\n",
              "        text-align: right;\n",
              "    }\n",
              "</style>\n",
              "<table border=\"1\" class=\"dataframe\">\n",
              "  <thead>\n",
              "    <tr style=\"text-align: right;\">\n",
              "      <th></th>\n",
              "      <th>USDCLP Curncy</th>\n",
              "      <th>USSW1 Curncy</th>\n",
              "      <th>USSW10 Curncy</th>\n",
              "      <th>CHSWP1 ICCH Curncy</th>\n",
              "      <th>CHSWP10 Curncy</th>\n",
              "      <th>CCHIL1U5 CBIN Curncy</th>\n",
              "      <th>HGA Comdty</th>\n",
              "      <th>CL1 Comdty</th>\n",
              "      <th>VIX Index</th>\n",
              "    </tr>\n",
              "  </thead>\n",
              "  <tbody>\n",
              "    <tr>\n",
              "      <th>2014-03-14</th>\n",
              "      <td>571.78</td>\n",
              "      <td>0.2790</td>\n",
              "      <td>2.7693</td>\n",
              "      <td>3.86</td>\n",
              "      <td>5.270</td>\n",
              "      <td>80.020</td>\n",
              "      <td>294.75</td>\n",
              "      <td>98.89</td>\n",
              "      <td>17.82</td>\n",
              "    </tr>\n",
              "    <tr>\n",
              "      <th>2014-03-17</th>\n",
              "      <td>570.45</td>\n",
              "      <td>0.2803</td>\n",
              "      <td>2.8075</td>\n",
              "      <td>3.85</td>\n",
              "      <td>5.250</td>\n",
              "      <td>79.675</td>\n",
              "      <td>295.25</td>\n",
              "      <td>98.08</td>\n",
              "      <td>15.64</td>\n",
              "    </tr>\n",
              "    <tr>\n",
              "      <th>2014-03-18</th>\n",
              "      <td>569.08</td>\n",
              "      <td>0.2790</td>\n",
              "      <td>2.7880</td>\n",
              "      <td>3.82</td>\n",
              "      <td>5.225</td>\n",
              "      <td>76.680</td>\n",
              "      <td>294.85</td>\n",
              "      <td>99.70</td>\n",
              "      <td>14.52</td>\n",
              "    </tr>\n",
              "    <tr>\n",
              "      <th>2014-03-19</th>\n",
              "      <td>572.05</td>\n",
              "      <td>0.2870</td>\n",
              "      <td>2.8910</td>\n",
              "      <td>3.80</td>\n",
              "      <td>5.190</td>\n",
              "      <td>78.335</td>\n",
              "      <td>298.15</td>\n",
              "      <td>100.37</td>\n",
              "      <td>15.12</td>\n",
              "    </tr>\n",
              "    <tr>\n",
              "      <th>2014-03-20</th>\n",
              "      <td>566.05</td>\n",
              "      <td>0.2880</td>\n",
              "      <td>2.8920</td>\n",
              "      <td>3.80</td>\n",
              "      <td>5.185</td>\n",
              "      <td>80.665</td>\n",
              "      <td>292.55</td>\n",
              "      <td>99.43</td>\n",
              "      <td>14.52</td>\n",
              "    </tr>\n",
              "    <tr>\n",
              "      <th>2014-03-21</th>\n",
              "      <td>565.55</td>\n",
              "      <td>0.2860</td>\n",
              "      <td>2.8588</td>\n",
              "      <td>3.78</td>\n",
              "      <td>5.210</td>\n",
              "      <td>82.175</td>\n",
              "      <td>294.95</td>\n",
              "      <td>99.46</td>\n",
              "      <td>15.00</td>\n",
              "    </tr>\n",
              "    <tr>\n",
              "      <th>2014-03-24</th>\n",
              "      <td>563.60</td>\n",
              "      <td>0.2888</td>\n",
              "      <td>2.8460</td>\n",
              "      <td>3.76</td>\n",
              "      <td>5.215</td>\n",
              "      <td>80.025</td>\n",
              "      <td>294.65</td>\n",
              "      <td>99.60</td>\n",
              "      <td>15.09</td>\n",
              "    </tr>\n",
              "  </tbody>\n",
              "</table>\n",
              "</div>"
            ],
            "text/plain": [
              "            USDCLP Curncy  USSW1 Curncy  USSW10 Curncy  CHSWP1 ICCH Curncy  \\\n",
              "2014-03-14         571.78        0.2790         2.7693                3.86   \n",
              "2014-03-17         570.45        0.2803         2.8075                3.85   \n",
              "2014-03-18         569.08        0.2790         2.7880                3.82   \n",
              "2014-03-19         572.05        0.2870         2.8910                3.80   \n",
              "2014-03-20         566.05        0.2880         2.8920                3.80   \n",
              "2014-03-21         565.55        0.2860         2.8588                3.78   \n",
              "2014-03-24         563.60        0.2888         2.8460                3.76   \n",
              "\n",
              "            CHSWP10 Curncy  CCHIL1U5 CBIN Curncy  HGA Comdty  CL1 Comdty  \\\n",
              "2014-03-14           5.270                80.020      294.75       98.89   \n",
              "2014-03-17           5.250                79.675      295.25       98.08   \n",
              "2014-03-18           5.225                76.680      294.85       99.70   \n",
              "2014-03-19           5.190                78.335      298.15      100.37   \n",
              "2014-03-20           5.185                80.665      292.55       99.43   \n",
              "2014-03-21           5.210                82.175      294.95       99.46   \n",
              "2014-03-24           5.215                80.025      294.65       99.60   \n",
              "\n",
              "            VIX Index  \n",
              "2014-03-14      17.82  \n",
              "2014-03-17      15.64  \n",
              "2014-03-18      14.52  \n",
              "2014-03-19      15.12  \n",
              "2014-03-20      14.52  \n",
              "2014-03-21      15.00  \n",
              "2014-03-24      15.09  "
            ]
          },
          "metadata": {
            "tags": []
          },
          "execution_count": 57
        }
      ]
    },
    {
      "metadata": {
        "id": "4uGyrkLjt9jO",
        "colab_type": "code",
        "colab": {}
      },
      "cell_type": "code",
      "source": [
        "x_tst =data.iloc[:,0:-1].copy(True)\n",
        "x_tst =x_tst[data.index<=corte].copy(True)\n",
        "\n",
        "y_tst =data.iloc[:,0].copy(True)\n",
        "y_tst =y_tst[data.index<=corte].copy(True)"
      ],
      "execution_count": 0,
      "outputs": []
    },
    {
      "metadata": {
        "id": "F4bWorcvsMcZ",
        "colab_type": "text"
      },
      "cell_type": "markdown",
      "source": [
        "training models"
      ]
    },
    {
      "metadata": {
        "id": "nzCfatY4sQq5",
        "colab_type": "code",
        "colab": {
          "base_uri": "https://localhost:8080/",
          "height": 34
        },
        "outputId": "43e3d529-aee8-49e2-d2ef-c9309a5568ea"
      },
      "cell_type": "code",
      "source": [
        "    reg_lineal = LinearRegression()\n",
        "    reg_lineal.fit(x_tr, y_tr)"
      ],
      "execution_count": 67,
      "outputs": [
        {
          "output_type": "execute_result",
          "data": {
            "text/plain": [
              "LinearRegression(copy_X=True, fit_intercept=True, n_jobs=1, normalize=False)"
            ]
          },
          "metadata": {
            "tags": []
          },
          "execution_count": 67
        }
      ]
    },
    {
      "metadata": {
        "id": "KY-PCU4Wsk_Z",
        "colab_type": "text"
      },
      "cell_type": "markdown",
      "source": [
        "Testing "
      ]
    },
    {
      "metadata": {
        "id": "WprLClODsNTx",
        "colab_type": "code",
        "colab": {
          "base_uri": "https://localhost:8080/",
          "height": 359
        },
        "outputId": "2206c7cd-2cfb-401f-912a-52bf6e3c0b95"
      },
      "cell_type": "code",
      "source": [
        "pred_training=reg_lineal.predict(x_tst)  \n",
        "\n",
        "pred_training = pd.DataFrame(data = pred_training  ,   index=y_tst.index , columns = {'Prediction_testing'})\n",
        "pred_training.head(10)\n"
      ],
      "execution_count": 76,
      "outputs": [
        {
          "output_type": "execute_result",
          "data": {
            "text/html": [
              "<div>\n",
              "<style scoped>\n",
              "    .dataframe tbody tr th:only-of-type {\n",
              "        vertical-align: middle;\n",
              "    }\n",
              "\n",
              "    .dataframe tbody tr th {\n",
              "        vertical-align: top;\n",
              "    }\n",
              "\n",
              "    .dataframe thead th {\n",
              "        text-align: right;\n",
              "    }\n",
              "</style>\n",
              "<table border=\"1\" class=\"dataframe\">\n",
              "  <thead>\n",
              "    <tr style=\"text-align: right;\">\n",
              "      <th></th>\n",
              "      <th>Prediction_testing</th>\n",
              "    </tr>\n",
              "  </thead>\n",
              "  <tbody>\n",
              "    <tr>\n",
              "      <th>2012-12-28</th>\n",
              "      <td>479.470</td>\n",
              "    </tr>\n",
              "    <tr>\n",
              "      <th>2012-12-31</th>\n",
              "      <td>476.404</td>\n",
              "    </tr>\n",
              "    <tr>\n",
              "      <th>2013-01-01</th>\n",
              "      <td>475.382</td>\n",
              "    </tr>\n",
              "    <tr>\n",
              "      <th>2013-01-02</th>\n",
              "      <td>474.360</td>\n",
              "    </tr>\n",
              "    <tr>\n",
              "      <th>2013-01-03</th>\n",
              "      <td>472.420</td>\n",
              "    </tr>\n",
              "    <tr>\n",
              "      <th>2013-01-04</th>\n",
              "      <td>473.120</td>\n",
              "    </tr>\n",
              "    <tr>\n",
              "      <th>2013-01-07</th>\n",
              "      <td>471.340</td>\n",
              "    </tr>\n",
              "    <tr>\n",
              "      <th>2013-01-08</th>\n",
              "      <td>472.250</td>\n",
              "    </tr>\n",
              "    <tr>\n",
              "      <th>2013-01-09</th>\n",
              "      <td>470.950</td>\n",
              "    </tr>\n",
              "    <tr>\n",
              "      <th>2013-01-10</th>\n",
              "      <td>470.780</td>\n",
              "    </tr>\n",
              "  </tbody>\n",
              "</table>\n",
              "</div>"
            ],
            "text/plain": [
              "            Prediction_testing\n",
              "2012-12-28             479.470\n",
              "2012-12-31             476.404\n",
              "2013-01-01             475.382\n",
              "2013-01-02             474.360\n",
              "2013-01-03             472.420\n",
              "2013-01-04             473.120\n",
              "2013-01-07             471.340\n",
              "2013-01-08             472.250\n",
              "2013-01-09             470.950\n",
              "2013-01-10             470.780"
            ]
          },
          "metadata": {
            "tags": []
          },
          "execution_count": 76
        }
      ]
    },
    {
      "metadata": {
        "id": "DukorVAdvE79",
        "colab_type": "code",
        "colab": {
          "base_uri": "https://localhost:8080/",
          "height": 34
        },
        "outputId": "87f52dca-da99-4bc3-e7ba-33b598a97e65"
      },
      "cell_type": "code",
      "source": [
        "MAE=mean_squared_error(y_tst,pred_training)\n",
        "MAE"
      ],
      "execution_count": 82,
      "outputs": [
        {
          "output_type": "execute_result",
          "data": {
            "text/plain": [
              "6.923944859539852e-27"
            ]
          },
          "metadata": {
            "tags": []
          },
          "execution_count": 82
        }
      ]
    }
  ]
}