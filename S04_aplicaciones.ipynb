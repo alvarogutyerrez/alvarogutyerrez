{
  "nbformat": 4,
  "nbformat_minor": 0,
  "metadata": {
    "colab": {
      "name": "S04_aplicaciones.ipynb",
      "version": "0.3.2",
      "provenance": [],
      "toc_visible": true,
      "include_colab_link": true
    }
  },
  "cells": [
    {
      "cell_type": "markdown",
      "metadata": {
        "id": "view-in-github",
        "colab_type": "text"
      },
      "source": [
        "[View in Colaboratory](https://colab.research.google.com/github/alvarogutyerrez/alvarogutyerrez/blob/master/S04_aplicaciones.ipynb)"
      ]
    },
    {
      "metadata": {
        "id": "T7J-bXccS6ji",
        "colab_type": "text"
      },
      "cell_type": "markdown",
      "source": [
        "#Sesión 4: Aplicaciones Miscelaneas \n",
        "\n",
        "\n",
        "En esta sesión veremos un par de aplicaciones haciendo uso de lo aprendido en las sesiones anteriores. Partiremos con cálculos de complejidad computacional, recuperando el tiempo que le toma a nuestro computador realizar ciertas operaciones recursivas. Luego veremos una aplicación financiera usando el comando shift. Finalmente reclasificaremos una variable continua utilizando **bins** y la función **pd_cut**.\n"
      ]
    },
    {
      "metadata": {
        "id": "HJVvB6mLTKhI",
        "colab_type": "text"
      },
      "cell_type": "markdown",
      "source": [
        "## (1) Complejidad  Computacional\n",
        "\n",
        "  Utilizando data sintética cree un gráfico que muestre la complejidad computacional _``O()''_ (tiempo de calculo en cada iteración) para la estimación de un modelo lineal como el de la Ecuación  cuando la cantidad de columnas $m$ de la Matriz $X$ va aumentando.\n",
        "    \n",
        " $$\n",
        "    Y_{i}=c+ \\sum_{m=1}^{M} X_{i,m}\\theta_{m} + \\varepsilon_{i}  \\;\\;\\; \\forall i \\in \\left\\{1,...,N \\right\\} \n",
        "$$\n",
        "\n",
        " 1.- El valor de la cantidad de columnas ($m$) en la ecuación debe estar fijo y ser igual a 10. Por otro lado, número de columnas ($n$) debe partir en 10 y llegar hasta 100.000.000 cuando acabe el loop.\n",
        " \n",
        " 2.- El número de filas ($n$) en la regresión debe aumentar en 10.000 en cada iteración.\n",
        "           \n",
        "3.- Su ciclo debe contener un quiebre que detenga el código si su código llega a las 1.000.000 iteraciones.\n",
        "                        \n",
        "4.- Al final de las interaciones su gráfico debe representar en el eje de las abcisas el número de filas de la regresión y en el eje de la ordenada la cantidad de tiempo de ejecución."
      ]
    },
    {
      "metadata": {
        "id": "Qs-g9UA3AFZW",
        "colab_type": "text"
      },
      "cell_type": "markdown",
      "source": [
        "##Preliminares (1)\n",
        "\n",
        "Lo primero que haremos será importar  funciones auxiliares que nos permitirá calcular el tiempo demorado por algún proceso. Estas funciones se llaman tic(), y toc2(). Para mayor detalle de las mismas pueder abrir el archivo ocupando Spyder."
      ]
    },
    {
      "metadata": {
        "id": "nEm4rAoG2kSe",
        "colab_type": "code",
        "colab": {}
      },
      "cell_type": "code",
      "source": [
        "!wget https://www.dropbox.com/s/2ayo637xecc1sfs/tictoc.py "
      ],
      "execution_count": 0,
      "outputs": []
    },
    {
      "metadata": {
        "id": "77pShSGpS2pW",
        "colab_type": "code",
        "colab": {}
      },
      "cell_type": "code",
      "source": [
        "from tictoc import tic,toc,toc2\n",
        "from sklearn.linear_model import LinearRegression\n",
        "from sklearn.metrics import mean_squared_error\n",
        "\n",
        "import pandas as pd \n",
        "import numpy as np"
      ],
      "execution_count": 0,
      "outputs": []
    },
    {
      "metadata": {
        "id": "rQdRmdetlHrf",
        "colab_type": "text"
      },
      "cell_type": "markdown",
      "source": [
        "## Inicio del Loop\n",
        "\n",
        "Lo primer será definir los parámetros del loop, según lo entregado en las instrucciones. A esto, además se ha fijado la semilla 777, que nos dará buena suerte y nos permitirá replicabilidad en nuestros resultados."
      ]
    },
    {
      "metadata": {
        "id": "vKJaF303l6ud",
        "colab_type": "code",
        "colab": {}
      },
      "cell_type": "code",
      "source": [
        "np.random.seed(seed=777)\n",
        "resultado_plus_row = []\n",
        "n_col = 10 #Numero de columnas\n",
        "n_row = 10 #Numero de Filas\n",
        "n_row_final = 100000000 #Numero Maximo de Filas\n",
        "n_row_delta = 10000 #Delta entre cada iteracion\n",
        "n_row_limite =1000000 #Condicion de Salida del Loop"
      ],
      "execution_count": 0,
      "outputs": []
    },
    {
      "metadata": {
        "id": "8svXeMfKmQqk",
        "colab_type": "text"
      },
      "cell_type": "markdown",
      "source": [
        "## Cuerpo del Loop\n",
        "\n",
        "Acá está contenida la estructura básica del ciclo, comentada linea a linea."
      ]
    },
    {
      "metadata": {
        "id": "3aUo6bIImP48",
        "colab_type": "code",
        "colab": {}
      },
      "cell_type": "code",
      "source": [
        "while n_row<n_row_final:\n",
        "    Y = np.random.rand(n_row,1)     #Generando la variable explicada\n",
        "    X = np.random.rand(n_row,n_col) #Generando el vector de regresores\n",
        "    reg_lineal = LinearRegression() #Declarando el modelo\n",
        "    tic()                           #Inicio del conteo del tiempo\n",
        "    reg_lineal.fit(X, Y)            #Estimando el modelo\n",
        "    toc_sklearn_linear_reg = toc2() #Registro final del tiempo ocupado\n",
        "    a=[n_row,toc_sklearn_linear_reg]#Generamos lista que ocuparemos para hacer append\n",
        "    resultado_plus_row.append(a)    #Append a la lista vacia del inicio\n",
        "    #print(toc_sklearn_linear_reg)   #Imprimir en pantalla\n",
        "    n_row=n_row +n_row_delta        #Numero de fila actual + delta de avance\n",
        "    #print(n_row)                    #Imprimiendo en Pantalla\n",
        "    if n_row>n_row_limite:          #Condicion de Salida\n",
        "        break                       #Breakkkkkkkkkkkkkkkkkkkkkkkkkkkkkkkkkk"
      ],
      "execution_count": 0,
      "outputs": []
    },
    {
      "metadata": {
        "id": "xyuQuWAMmWjO",
        "colab_type": "code",
        "colab": {
          "base_uri": "https://localhost:8080/",
          "height": 375
        },
        "outputId": "05ba3bc9-54c5-41f7-dfa4-51a1af144734"
      },
      "cell_type": "code",
      "source": [
        "resultado_plus_row_df = pd.DataFrame(resultado_plus_row,columns = ['nrow', 'time'])\n",
        "graph=resultado_plus_row_df.plot(x='nrow', y='time',kind='line',title='Adding Rows')    \n"
      ],
      "execution_count": 33,
      "outputs": [
        {
          "output_type": "display_data",
          "data": {
            "image/png": "[encoded data removed]",
            "text/plain": [
              "<matplotlib.figure.Figure at 0x7ff4c6bfe2d0>"
            ]
          },
          "metadata": {
            "tags": []
          }
        }
      ]
    },
    {
      "metadata": {
        "id": "v6leamwBndN7",
        "colab_type": "text"
      },
      "cell_type": "markdown",
      "source": [
        "# Cálculo de Retornos \n",
        "\n",
        "### Función Shift\n",
        "\n",
        "Esta función nos permitirá generar rezagos o leads de las variables "
      ]
    },
    {
      "metadata": {
        "id": "LzGOeEFunddL",
        "colab_type": "code",
        "colab": {}
      },
      "cell_type": "code",
      "source": [
        "!wget https://www.dropbox.com/s/3vo2v28ho7o59ms/data_usd-clp.xlsx\n",
        "!pip install xlrd  "
      ],
      "execution_count": 0,
      "outputs": []
    },
    {
      "metadata": {
        "id": "w3NZApZ9oCjB",
        "colab_type": "text"
      },
      "cell_type": "markdown",
      "source": [
        "## Load Data"
      ]
    },
    {
      "metadata": {
        "id": "aMmYqJNOoDpR",
        "colab_type": "code",
        "colab": {
          "base_uri": "https://localhost:8080/",
          "height": 105
        },
        "outputId": "1acb9885-abb8-402c-9c74-5a88ed44c2ba"
      },
      "cell_type": "code",
      "source": [
        "data=pd.read_excel(\"data_usd-clp.xlsx\")\n",
        "dolar_hoy     = data.iloc[:,0]\n",
        "dolar_hoy.head(4)"
      ],
      "execution_count": 35,
      "outputs": [
        {
          "output_type": "execute_result",
          "data": {
            "text/plain": [
              "2012-12-28    479.470\n",
              "2012-12-31    476.404\n",
              "2013-01-01    475.382\n",
              "2013-01-02    474.360\n",
              "Name: USDCLP Curncy, dtype: float64"
            ]
          },
          "metadata": {
            "tags": []
          },
          "execution_count": 35
        }
      ]
    },
    {
      "metadata": {
        "id": "4IPXbBajoeBg",
        "colab_type": "text"
      },
      "cell_type": "markdown",
      "source": [
        "### Rezago de la Variable"
      ]
    },
    {
      "metadata": {
        "id": "KvvzpcCqohAA",
        "colab_type": "code",
        "colab": {
          "base_uri": "https://localhost:8080/",
          "height": 105
        },
        "outputId": "5b5375ad-baa3-4436-b4d5-765d61726f81"
      },
      "cell_type": "code",
      "source": [
        "dolar_lag1     = dolar_hoy.shift(1).copy(True)\n",
        "dolar_lag1.head(4)"
      ],
      "execution_count": 36,
      "outputs": [
        {
          "output_type": "execute_result",
          "data": {
            "text/plain": [
              "2012-12-28        NaN\n",
              "2012-12-31    479.470\n",
              "2013-01-01    476.404\n",
              "2013-01-02    475.382\n",
              "Name: USDCLP Curncy, dtype: float64"
            ]
          },
          "metadata": {
            "tags": []
          },
          "execution_count": 36
        }
      ]
    },
    {
      "metadata": {
        "id": "otLnsZNco0rO",
        "colab_type": "text"
      },
      "cell_type": "markdown",
      "source": [
        "### Calculando el delta entre ayer y hoy"
      ]
    },
    {
      "metadata": {
        "id": "osB5y7qooyXn",
        "colab_type": "code",
        "colab": {
          "base_uri": "https://localhost:8080/",
          "height": 105
        },
        "outputId": "4739584c-1022-4204-a00e-e084396c3bfc"
      },
      "cell_type": "code",
      "source": [
        "delta = dolar_lag1 -dolar_hoy\n",
        "delta.head(4)"
      ],
      "execution_count": 37,
      "outputs": [
        {
          "output_type": "execute_result",
          "data": {
            "text/plain": [
              "2012-12-28      NaN\n",
              "2012-12-31    3.066\n",
              "2013-01-01    1.022\n",
              "2013-01-02    1.022\n",
              "Name: USDCLP Curncy, dtype: float64"
            ]
          },
          "metadata": {
            "tags": []
          },
          "execution_count": 37
        }
      ]
    },
    {
      "metadata": {
        "id": "WntY0FVVpGHA",
        "colab_type": "text"
      },
      "cell_type": "markdown",
      "source": [
        "### Cálculo del retorno"
      ]
    },
    {
      "metadata": {
        "id": "mStkuRqtpGUH",
        "colab_type": "code",
        "colab": {
          "base_uri": "https://localhost:8080/",
          "height": 212
        },
        "outputId": "b4ec44c5-51b6-4fa1-ccd4-5bbdae55b07e"
      },
      "cell_type": "code",
      "source": [
        "ret = delta/dolar_lag1\n",
        "ret.head(10)"
      ],
      "execution_count": 38,
      "outputs": [
        {
          "output_type": "execute_result",
          "data": {
            "text/plain": [
              "2012-12-28         NaN\n",
              "2012-12-31    0.006395\n",
              "2013-01-01    0.002145\n",
              "2013-01-02    0.002150\n",
              "2013-01-03    0.004090\n",
              "2013-01-04   -0.001482\n",
              "2013-01-07    0.003762\n",
              "2013-01-08   -0.001931\n",
              "2013-01-09    0.002753\n",
              "2013-01-10    0.000361\n",
              "Name: USDCLP Curncy, dtype: float64"
            ]
          },
          "metadata": {
            "tags": []
          },
          "execution_count": 38
        }
      ]
    },
    {
      "metadata": {
        "id": "KznDt8M3pPF3",
        "colab_type": "text"
      },
      "cell_type": "markdown",
      "source": [
        "## Calculo de Intervalos (bins)\n",
        "\n",
        "Esta pequeña rutina nos permitirá recodificar una variable continua en una categórica. En este caso definiremos una banda sobre la cual existirán variaciones del tipo de cambio en las que se declararán como cero,ya que no hubo un cambio considerable. Por otro lado, tendremos algunos datos categorizados con un 1, cuando el retorno sea anormalmente alto y con un -1 cuando sea anormalmente bajo."
      ]
    },
    {
      "metadata": {
        "id": "gcalQyMMpOzf",
        "colab_type": "code",
        "colab": {
          "base_uri": "https://localhost:8080/",
          "height": 212
        },
        "outputId": "d47e1a03-503d-4709-de86-498e7637eaa0"
      },
      "cell_type": "code",
      "source": [
        "tolerancia = 0.0015\n",
        "bins=[-100000,-1*tolerancia,tolerancia,100000]\n",
        "group_names=[-1,0,1]\n",
        "clasificacion=pd.to_numeric(pd.cut(ret,bins,labels=group_names))     \n",
        "clasificacion.head(10)\n"
      ],
      "execution_count": 39,
      "outputs": [
        {
          "output_type": "execute_result",
          "data": {
            "text/plain": [
              "2012-12-28    NaN\n",
              "2012-12-31    1.0\n",
              "2013-01-01    1.0\n",
              "2013-01-02    1.0\n",
              "2013-01-03    1.0\n",
              "2013-01-04    0.0\n",
              "2013-01-07    1.0\n",
              "2013-01-08   -1.0\n",
              "2013-01-09    1.0\n",
              "2013-01-10    0.0\n",
              "Name: USDCLP Curncy, dtype: float64"
            ]
          },
          "metadata": {
            "tags": []
          },
          "execution_count": 39
        }
      ]
    },
    {
      "metadata": {
        "id": "yArqi8L9qNpr",
        "colab_type": "text"
      },
      "cell_type": "markdown",
      "source": [
        "# Training and Testing \n"
      ]
    },
    {
      "metadata": {
        "id": "k4oZY7pVsJwS",
        "colab_type": "text"
      },
      "cell_type": "markdown",
      "source": [
        "Una práctica usual dentro del Machine Learning, es particionar la data en muestras de entrenamiento (Training) y de comprobación (Testing). La idea de esto, es ver la capacidad predictiva que pueden tener los modelos entrenados en Training, sobre la muestra de Training. Para esto definiremos una fecha de corte, que separará las aguas entre ambas bases.\n"
      ]
    },
    {
      "metadata": {
        "id": "bgdYyLoOCZ5c",
        "colab_type": "text"
      },
      "cell_type": "markdown",
      "source": [
        "## Generando Training "
      ]
    },
    {
      "metadata": {
        "id": "JKcUURgpqNxW",
        "colab_type": "code",
        "colab": {
          "base_uri": "https://localhost:8080/",
          "height": 257
        },
        "outputId": "09bffd49-73d4-4c09-95d8-ac214b948b8d"
      },
      "cell_type": "code",
      "source": [
        "corte='2014-03-13'\n",
        "x_tr =data.iloc[:,1:-1].copy(True)\n",
        "x_tr =x_tr[data.index<corte].copy(True)\n",
        "\n",
        "y_tr =data.iloc[:,0].copy(True)\n",
        "y_tr =y_tr[data.index<corte].copy(True)\n",
        "\n",
        "x_tr.head(7)\n",
        "\n",
        "\n",
        "\n"
      ],
      "execution_count": 46,
      "outputs": [
        {
          "output_type": "execute_result",
          "data": {
            "text/html": [
              "<div>\n",
              "<style scoped>\n",
              "    .dataframe tbody tr th:only-of-type {\n",
              "        vertical-align: middle;\n",
              "    }\n",
              "\n",
              "    .dataframe tbody tr th {\n",
              "        vertical-align: top;\n",
              "    }\n",
              "\n",
              "    .dataframe thead th {\n",
              "        text-align: right;\n",
              "    }\n",
              "</style>\n",
              "<table border=\"1\" class=\"dataframe\">\n",
              "  <thead>\n",
              "    <tr style=\"text-align: right;\">\n",
              "      <th></th>\n",
              "      <th>USSW1 Curncy</th>\n",
              "      <th>USSW10 Curncy</th>\n",
              "      <th>CHSWP1 ICCH Curncy</th>\n",
              "      <th>CHSWP10 Curncy</th>\n",
              "      <th>CCHIL1U5 CBIN Curncy</th>\n",
              "      <th>HGA Comdty</th>\n",
              "      <th>CL1 Comdty</th>\n",
              "      <th>VIX Index</th>\n",
              "    </tr>\n",
              "  </thead>\n",
              "  <tbody>\n",
              "    <tr>\n",
              "      <th>2012-12-28</th>\n",
              "      <td>0.3340</td>\n",
              "      <td>1.7630</td>\n",
              "      <td>5.23</td>\n",
              "      <td>5.47</td>\n",
              "      <td>72.603</td>\n",
              "      <td>344.35</td>\n",
              "      <td>90.80</td>\n",
              "      <td>22.72</td>\n",
              "    </tr>\n",
              "    <tr>\n",
              "      <th>2012-12-31</th>\n",
              "      <td>0.3240</td>\n",
              "      <td>1.8395</td>\n",
              "      <td>5.26</td>\n",
              "      <td>5.47</td>\n",
              "      <td>72.479</td>\n",
              "      <td>350.65</td>\n",
              "      <td>91.82</td>\n",
              "      <td>18.02</td>\n",
              "    </tr>\n",
              "    <tr>\n",
              "      <th>2013-01-01</th>\n",
              "      <td>0.3210</td>\n",
              "      <td>1.8395</td>\n",
              "      <td>5.27</td>\n",
              "      <td>5.47</td>\n",
              "      <td>72.136</td>\n",
              "      <td>354.90</td>\n",
              "      <td>92.47</td>\n",
              "      <td>16.35</td>\n",
              "    </tr>\n",
              "    <tr>\n",
              "      <th>2013-01-02</th>\n",
              "      <td>0.3205</td>\n",
              "      <td>1.8781</td>\n",
              "      <td>5.28</td>\n",
              "      <td>5.50</td>\n",
              "      <td>70.128</td>\n",
              "      <td>359.15</td>\n",
              "      <td>93.12</td>\n",
              "      <td>14.68</td>\n",
              "    </tr>\n",
              "    <tr>\n",
              "      <th>2013-01-03</th>\n",
              "      <td>0.3215</td>\n",
              "      <td>1.9455</td>\n",
              "      <td>5.28</td>\n",
              "      <td>5.53</td>\n",
              "      <td>67.005</td>\n",
              "      <td>357.35</td>\n",
              "      <td>92.92</td>\n",
              "      <td>14.56</td>\n",
              "    </tr>\n",
              "    <tr>\n",
              "      <th>2013-01-04</th>\n",
              "      <td>0.3300</td>\n",
              "      <td>1.9360</td>\n",
              "      <td>5.27</td>\n",
              "      <td>5.55</td>\n",
              "      <td>66.833</td>\n",
              "      <td>355.30</td>\n",
              "      <td>93.09</td>\n",
              "      <td>13.83</td>\n",
              "    </tr>\n",
              "    <tr>\n",
              "      <th>2013-01-07</th>\n",
              "      <td>0.3280</td>\n",
              "      <td>1.9270</td>\n",
              "      <td>5.28</td>\n",
              "      <td>5.58</td>\n",
              "      <td>68.502</td>\n",
              "      <td>354.05</td>\n",
              "      <td>93.19</td>\n",
              "      <td>13.79</td>\n",
              "    </tr>\n",
              "  </tbody>\n",
              "</table>\n",
              "</div>"
            ],
            "text/plain": [
              "            USSW1 Curncy  USSW10 Curncy  CHSWP1 ICCH Curncy  CHSWP10 Curncy  \\\n",
              "2012-12-28        0.3340         1.7630                5.23            5.47   \n",
              "2012-12-31        0.3240         1.8395                5.26            5.47   \n",
              "2013-01-01        0.3210         1.8395                5.27            5.47   \n",
              "2013-01-02        0.3205         1.8781                5.28            5.50   \n",
              "2013-01-03        0.3215         1.9455                5.28            5.53   \n",
              "2013-01-04        0.3300         1.9360                5.27            5.55   \n",
              "2013-01-07        0.3280         1.9270                5.28            5.58   \n",
              "\n",
              "            CCHIL1U5 CBIN Curncy  HGA Comdty  CL1 Comdty  VIX Index  \n",
              "2012-12-28                72.603      344.35       90.80      22.72  \n",
              "2012-12-31                72.479      350.65       91.82      18.02  \n",
              "2013-01-01                72.136      354.90       92.47      16.35  \n",
              "2013-01-02                70.128      359.15       93.12      14.68  \n",
              "2013-01-03                67.005      357.35       92.92      14.56  \n",
              "2013-01-04                66.833      355.30       93.09      13.83  \n",
              "2013-01-07                68.502      354.05       93.19      13.79  "
            ]
          },
          "metadata": {
            "tags": []
          },
          "execution_count": 46
        }
      ]
    },
    {
      "metadata": {
        "id": "0yAMznZPCg2J",
        "colab_type": "text"
      },
      "cell_type": "markdown",
      "source": [
        "### Entrenando Modelos en Training"
      ]
    },
    {
      "metadata": {
        "id": "nzCfatY4sQq5",
        "colab_type": "code",
        "colab": {
          "base_uri": "https://localhost:8080/",
          "height": 34
        },
        "outputId": "feba432c-e299-4409-8f96-8c4fa83e6a86"
      },
      "cell_type": "code",
      "source": [
        "    reg_lineal = LinearRegression()\n",
        "    reg_lineal.fit(x_tr, y_tr)"
      ],
      "execution_count": 47,
      "outputs": [
        {
          "output_type": "execute_result",
          "data": {
            "text/plain": [
              "LinearRegression(copy_X=True, fit_intercept=True, n_jobs=1, normalize=False)"
            ]
          },
          "metadata": {
            "tags": []
          },
          "execution_count": 47
        }
      ]
    },
    {
      "metadata": {
        "id": "KY-PCU4Wsk_Z",
        "colab_type": "text"
      },
      "cell_type": "markdown",
      "source": [
        "### Valores Predichos  Muestra de Training"
      ]
    },
    {
      "metadata": {
        "id": "WprLClODsNTx",
        "colab_type": "code",
        "colab": {
          "base_uri": "https://localhost:8080/",
          "height": 347
        },
        "outputId": "001b696d-bf34-400c-eb9e-30ce58782742"
      },
      "cell_type": "code",
      "source": [
        "pred_training=reg_lineal.predict(x_tr)  \n",
        "pred_training = pd.DataFrame(data = pred_training  , index=y_tr.index , columns = {'Prediction_training'})\n",
        "pred_training.head(10)\n"
      ],
      "execution_count": 48,
      "outputs": [
        {
          "output_type": "execute_result",
          "data": {
            "text/html": [
              "<div>\n",
              "<style scoped>\n",
              "    .dataframe tbody tr th:only-of-type {\n",
              "        vertical-align: middle;\n",
              "    }\n",
              "\n",
              "    .dataframe tbody tr th {\n",
              "        vertical-align: top;\n",
              "    }\n",
              "\n",
              "    .dataframe thead th {\n",
              "        text-align: right;\n",
              "    }\n",
              "</style>\n",
              "<table border=\"1\" class=\"dataframe\">\n",
              "  <thead>\n",
              "    <tr style=\"text-align: right;\">\n",
              "      <th></th>\n",
              "      <th>Prediction_training</th>\n",
              "    </tr>\n",
              "  </thead>\n",
              "  <tbody>\n",
              "    <tr>\n",
              "      <th>2012-12-28</th>\n",
              "      <td>473.617465</td>\n",
              "    </tr>\n",
              "    <tr>\n",
              "      <th>2012-12-31</th>\n",
              "      <td>468.951798</td>\n",
              "    </tr>\n",
              "    <tr>\n",
              "      <th>2013-01-01</th>\n",
              "      <td>466.912320</td>\n",
              "    </tr>\n",
              "    <tr>\n",
              "      <th>2013-01-02</th>\n",
              "      <td>466.221788</td>\n",
              "    </tr>\n",
              "    <tr>\n",
              "      <th>2013-01-03</th>\n",
              "      <td>467.833662</td>\n",
              "    </tr>\n",
              "    <tr>\n",
              "      <th>2013-01-04</th>\n",
              "      <td>468.432517</td>\n",
              "    </tr>\n",
              "    <tr>\n",
              "      <th>2013-01-07</th>\n",
              "      <td>470.338144</td>\n",
              "    </tr>\n",
              "    <tr>\n",
              "      <th>2013-01-08</th>\n",
              "      <td>470.095554</td>\n",
              "    </tr>\n",
              "    <tr>\n",
              "      <th>2013-01-09</th>\n",
              "      <td>471.525092</td>\n",
              "    </tr>\n",
              "    <tr>\n",
              "      <th>2013-01-10</th>\n",
              "      <td>470.510319</td>\n",
              "    </tr>\n",
              "  </tbody>\n",
              "</table>\n",
              "</div>"
            ],
            "text/plain": [
              "            Prediction_training\n",
              "2012-12-28           473.617465\n",
              "2012-12-31           468.951798\n",
              "2013-01-01           466.912320\n",
              "2013-01-02           466.221788\n",
              "2013-01-03           467.833662\n",
              "2013-01-04           468.432517\n",
              "2013-01-07           470.338144\n",
              "2013-01-08           470.095554\n",
              "2013-01-09           471.525092\n",
              "2013-01-10           470.510319"
            ]
          },
          "metadata": {
            "tags": []
          },
          "execution_count": 48
        }
      ]
    },
    {
      "metadata": {
        "id": "HZg-CC0LCzhh",
        "colab_type": "text"
      },
      "cell_type": "markdown",
      "source": [
        "### Mean Squared Error : Training  "
      ]
    },
    {
      "metadata": {
        "id": "DukorVAdvE79",
        "colab_type": "code",
        "colab": {
          "base_uri": "https://localhost:8080/",
          "height": 34
        },
        "outputId": "c4c4093a-2e14-460c-f64b-a007508cba1e"
      },
      "cell_type": "code",
      "source": [
        "MAE_tr=mean_squared_error(y_tr,pred_training)\n",
        "MAE_tr"
      ],
      "execution_count": 49,
      "outputs": [
        {
          "output_type": "execute_result",
          "data": {
            "text/plain": [
              "23.557775620923678"
            ]
          },
          "metadata": {
            "tags": []
          },
          "execution_count": 49
        }
      ]
    },
    {
      "metadata": {
        "id": "3DYXeEaCCd-z",
        "colab_type": "text"
      },
      "cell_type": "markdown",
      "source": [
        "##Generando Testing "
      ]
    },
    {
      "metadata": {
        "id": "4uGyrkLjt9jO",
        "colab_type": "code",
        "colab": {}
      },
      "cell_type": "code",
      "source": [
        "x_tst =data.iloc[:,1:-1].copy(True)\n",
        "x_tst =x_tst[data.index>=corte].copy(True)\n",
        "\n",
        "y_tst =data.iloc[:,0].copy(True)\n",
        "y_tst =y_tst[data.index>=corte].copy(True)"
      ],
      "execution_count": 0,
      "outputs": []
    },
    {
      "metadata": {
        "id": "nECxP1UUFHut",
        "colab_type": "text"
      },
      "cell_type": "markdown",
      "source": [
        "### Valores Predichos  Muestra de Testing"
      ]
    },
    {
      "metadata": {
        "id": "cV-aRNv3FH-2",
        "colab_type": "code",
        "colab": {
          "base_uri": "https://localhost:8080/",
          "height": 347
        },
        "outputId": "eb967fa5-72ff-4293-b039-51e17152d662"
      },
      "cell_type": "code",
      "source": [
        "pred_testing=reg_lineal.predict(x_tst)  \n",
        "pred_testing = pd.DataFrame(data = pred_testing  , index=y_tst.index , columns = {'Prediction_testing'})\n",
        "pred_testing.head(10)"
      ],
      "execution_count": 51,
      "outputs": [
        {
          "output_type": "execute_result",
          "data": {
            "text/html": [
              "<div>\n",
              "<style scoped>\n",
              "    .dataframe tbody tr th:only-of-type {\n",
              "        vertical-align: middle;\n",
              "    }\n",
              "\n",
              "    .dataframe tbody tr th {\n",
              "        vertical-align: top;\n",
              "    }\n",
              "\n",
              "    .dataframe thead th {\n",
              "        text-align: right;\n",
              "    }\n",
              "</style>\n",
              "<table border=\"1\" class=\"dataframe\">\n",
              "  <thead>\n",
              "    <tr style=\"text-align: right;\">\n",
              "      <th></th>\n",
              "      <th>Prediction_testing</th>\n",
              "    </tr>\n",
              "  </thead>\n",
              "  <tbody>\n",
              "    <tr>\n",
              "      <th>2014-03-13</th>\n",
              "      <td>562.114190</td>\n",
              "    </tr>\n",
              "    <tr>\n",
              "      <th>2014-03-14</th>\n",
              "      <td>562.005663</td>\n",
              "    </tr>\n",
              "    <tr>\n",
              "      <th>2014-03-17</th>\n",
              "      <td>559.271485</td>\n",
              "    </tr>\n",
              "    <tr>\n",
              "      <th>2014-03-18</th>\n",
              "      <td>559.236018</td>\n",
              "    </tr>\n",
              "    <tr>\n",
              "      <th>2014-03-19</th>\n",
              "      <td>557.555845</td>\n",
              "    </tr>\n",
              "    <tr>\n",
              "      <th>2014-03-20</th>\n",
              "      <td>557.698960</td>\n",
              "    </tr>\n",
              "    <tr>\n",
              "      <th>2014-03-21</th>\n",
              "      <td>560.705818</td>\n",
              "    </tr>\n",
              "    <tr>\n",
              "      <th>2014-03-24</th>\n",
              "      <td>561.772404</td>\n",
              "    </tr>\n",
              "    <tr>\n",
              "      <th>2014-03-25</th>\n",
              "      <td>559.659736</td>\n",
              "    </tr>\n",
              "    <tr>\n",
              "      <th>2014-03-26</th>\n",
              "      <td>561.476813</td>\n",
              "    </tr>\n",
              "  </tbody>\n",
              "</table>\n",
              "</div>"
            ],
            "text/plain": [
              "            Prediction_testing\n",
              "2014-03-13          562.114190\n",
              "2014-03-14          562.005663\n",
              "2014-03-17          559.271485\n",
              "2014-03-18          559.236018\n",
              "2014-03-19          557.555845\n",
              "2014-03-20          557.698960\n",
              "2014-03-21          560.705818\n",
              "2014-03-24          561.772404\n",
              "2014-03-25          559.659736\n",
              "2014-03-26          561.476813"
            ]
          },
          "metadata": {
            "tags": []
          },
          "execution_count": 51
        }
      ]
    },
    {
      "metadata": {
        "id": "TAIi3XuqGWel",
        "colab_type": "text"
      },
      "cell_type": "markdown",
      "source": [
        "### Mean Squared Error: Testing "
      ]
    },
    {
      "metadata": {
        "id": "Zv59f25ZGWZK",
        "colab_type": "code",
        "colab": {
          "base_uri": "https://localhost:8080/",
          "height": 34
        },
        "outputId": "3e66bdc6-2319-471f-d0eb-2fa212ee5ffd"
      },
      "cell_type": "code",
      "source": [
        "MAE_tst=mean_squared_error(y_tst,pred_testing)\n",
        "MAE_tst"
      ],
      "execution_count": 52,
      "outputs": [
        {
          "output_type": "execute_result",
          "data": {
            "text/plain": [
              "36185.33142043885"
            ]
          },
          "metadata": {
            "tags": []
          },
          "execution_count": 52
        }
      ]
    }
  ]
}